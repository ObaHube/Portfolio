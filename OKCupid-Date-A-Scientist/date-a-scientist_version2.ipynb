{
 "cells": [
  {
   "cell_type": "markdown",
   "metadata": {},
   "source": [
    "# OKCupid Date-A-Scientist Portfolio Project"
   ]
  },
  {
   "cell_type": "markdown",
   "metadata": {},
   "source": [
    "## Introduction"
   ]
  },
  {
   "cell_type": "markdown",
   "metadata": {},
   "source": [
    "In recent years, there has been a massive rise in the usage of dating apps to find love. Many of these apps use sophisticated data science techniques to recommend possible matches to users and to optimize the user experience. These apps give us access to a wealth of information that we’ve never had before about how different people experience romance.\n",
    "\n",
    "In this portfolio project, I will analyze some data from OKCupid, an app that focuses on using multiple choice and short answers to match users.\n",
    "The analysis will be split in 2 parts:\n",
    "\n",
    "1) __Supervised Learning__: using some of the data as features, several ML approaches will be used to predict another feature, used as a target label.\n",
    "\n",
    "2) __Unsupervised Learning__: the main goal of dating apps is to match people. So I will use an unsupervised ML approach to find clusters of users that could match starting from their own data.\n"
   ]
  },
  {
   "cell_type": "markdown",
   "metadata": {},
   "source": [
    "## Step 1: EDA"
   ]
  },
  {
   "cell_type": "markdown",
   "metadata": {},
   "source": [
    "First task is always to look at the data we have, understand them and rearrange them in order to have the correct input format for a Machine Learning algorithm."
   ]
  },
  {
   "cell_type": "code",
   "execution_count": 296,
   "metadata": {},
   "outputs": [
    {
     "name": "stdout",
     "output_type": "stream",
     "text": [
      "<class 'pandas.core.frame.DataFrame'>\n",
      "RangeIndex: 59946 entries, 0 to 59945\n",
      "Data columns (total 31 columns):\n",
      " #   Column       Non-Null Count  Dtype  \n",
      "---  ------       --------------  -----  \n",
      " 0   age          59946 non-null  int64  \n",
      " 1   body_type    54650 non-null  object \n",
      " 2   diet         35551 non-null  object \n",
      " 3   drinks       56961 non-null  object \n",
      " 4   drugs        45866 non-null  object \n",
      " 5   education    53318 non-null  object \n",
      " 6   essay0       54458 non-null  object \n",
      " 7   essay1       52374 non-null  object \n",
      " 8   essay2       50308 non-null  object \n",
      " 9   essay3       48470 non-null  object \n",
      " 10  essay4       49409 non-null  object \n",
      " 11  essay5       49096 non-null  object \n",
      " 12  essay6       46175 non-null  object \n",
      " 13  essay7       47495 non-null  object \n",
      " 14  essay8       40721 non-null  object \n",
      " 15  essay9       47343 non-null  object \n",
      " 16  ethnicity    54266 non-null  object \n",
      " 17  height       59943 non-null  float64\n",
      " 18  income       59946 non-null  int64  \n",
      " 19  job          51748 non-null  object \n",
      " 20  last_online  59946 non-null  object \n",
      " 21  location     59946 non-null  object \n",
      " 22  offspring    24385 non-null  object \n",
      " 23  orientation  59946 non-null  object \n",
      " 24  pets         40025 non-null  object \n",
      " 25  religion     39720 non-null  object \n",
      " 26  sex          59946 non-null  object \n",
      " 27  sign         48890 non-null  object \n",
      " 28  smokes       54434 non-null  object \n",
      " 29  speaks       59896 non-null  object \n",
      " 30  status       59946 non-null  object \n",
      "dtypes: float64(1), int64(2), object(28)\n",
      "memory usage: 14.2+ MB\n",
      "None\n"
     ]
    }
   ],
   "source": [
    "import pandas as pd\n",
    "import numpy as np\n",
    "import matplotlib.pyplot as plt\n",
    "import seaborn as sns\n",
    "\n",
    "df = pd.read_csv('profiles.csv')\n",
    "print(df.info())"
   ]
  },
  {
   "cell_type": "markdown",
   "metadata": {},
   "source": [
    "From `.info()` method we learn that:\n",
    "\n",
    "1) We have 59946 rows (i.e: 59946 OKCupid profiles)\\\n",
    "2) We have 31 features, the majority of which is a string (possibly categorical variables)\\\n",
    "3) There are only 3 numerical features: `age`, `height` and `income`\\\n",
    "4) Most of the features have several NaNs (only 7 features have no NaNs)\n",
    "\n",
    "We can see also that there are 10 `essay` features. Looking on [kaggle](https://www.kaggle.com/datasets/andrewmvd/okcupid-profiles/discussion/183145), we understand that those essays are open answers to the follwing questions:\n",
    "\n",
    "essay0- My self summary\\\n",
    "essay1- What I’m doing with my life\\\n",
    "essay2- I’m really good at\\\n",
    "essay3- The first thing people usually notice about me\\\n",
    "essay4- Favorite books, movies, show, music, and food\\\n",
    "essay5- The six things I could never do without\\\n",
    "essay6- I spend a lot of time thinking about\\\n",
    "essay7- On a typical Friday night I am\\\n",
    "essay8- The most private thing I am willing to admit\\\n",
    "essay9- You should message me if..."
   ]
  },
  {
   "cell_type": "markdown",
   "metadata": {},
   "source": [
    "Being `essay` columns open text, they could be input to a Naive Bayes Classifier.\n",
    "\n",
    "It could be helpful to gather all the information from all 10 essays into one big essay, and use it to try to predict some other feature. \n",
    "\n",
    "__DA SISTEMARE__ Nevertheless, considering our goal of finding clusters of possible matches using Unsupervised Learning Algorithms, those features could be difficult to handle; thus, for now we are going to exclude them. Let's create a DataFrame `X` dropping all the essay features."
   ]
  },
  {
   "cell_type": "code",
   "execution_count": 297,
   "metadata": {},
   "outputs": [],
   "source": [
    "X = df.drop(columns = list(df.filter(regex = 'essay')), axis = 1)"
   ]
  },
  {
   "cell_type": "markdown",
   "metadata": {},
   "source": [
    "Let's look now each individual feature, in order to understand whether we can give it as input to our Machine Learning Algorithm. We start with a `.describe()` summary:"
   ]
  },
  {
   "cell_type": "code",
   "execution_count": 298,
   "metadata": {},
   "outputs": [
    {
     "data": {
      "text/html": [
       "<div>\n",
       "<style scoped>\n",
       "    .dataframe tbody tr th:only-of-type {\n",
       "        vertical-align: middle;\n",
       "    }\n",
       "\n",
       "    .dataframe tbody tr th {\n",
       "        vertical-align: top;\n",
       "    }\n",
       "\n",
       "    .dataframe thead th {\n",
       "        text-align: right;\n",
       "    }\n",
       "</style>\n",
       "<table border=\"1\" class=\"dataframe\">\n",
       "  <thead>\n",
       "    <tr style=\"text-align: right;\">\n",
       "      <th></th>\n",
       "      <th>age</th>\n",
       "      <th>body_type</th>\n",
       "      <th>diet</th>\n",
       "      <th>drinks</th>\n",
       "      <th>drugs</th>\n",
       "      <th>education</th>\n",
       "      <th>ethnicity</th>\n",
       "      <th>height</th>\n",
       "      <th>income</th>\n",
       "      <th>job</th>\n",
       "      <th>...</th>\n",
       "      <th>location</th>\n",
       "      <th>offspring</th>\n",
       "      <th>orientation</th>\n",
       "      <th>pets</th>\n",
       "      <th>religion</th>\n",
       "      <th>sex</th>\n",
       "      <th>sign</th>\n",
       "      <th>smokes</th>\n",
       "      <th>speaks</th>\n",
       "      <th>status</th>\n",
       "    </tr>\n",
       "  </thead>\n",
       "  <tbody>\n",
       "    <tr>\n",
       "      <th>count</th>\n",
       "      <td>59946.000000</td>\n",
       "      <td>54650</td>\n",
       "      <td>35551</td>\n",
       "      <td>56961</td>\n",
       "      <td>45866</td>\n",
       "      <td>53318</td>\n",
       "      <td>54266</td>\n",
       "      <td>59943.000000</td>\n",
       "      <td>59946.000000</td>\n",
       "      <td>51748</td>\n",
       "      <td>...</td>\n",
       "      <td>59946</td>\n",
       "      <td>24385</td>\n",
       "      <td>59946</td>\n",
       "      <td>40025</td>\n",
       "      <td>39720</td>\n",
       "      <td>59946</td>\n",
       "      <td>48890</td>\n",
       "      <td>54434</td>\n",
       "      <td>59896</td>\n",
       "      <td>59946</td>\n",
       "    </tr>\n",
       "    <tr>\n",
       "      <th>unique</th>\n",
       "      <td>NaN</td>\n",
       "      <td>12</td>\n",
       "      <td>18</td>\n",
       "      <td>6</td>\n",
       "      <td>3</td>\n",
       "      <td>32</td>\n",
       "      <td>217</td>\n",
       "      <td>NaN</td>\n",
       "      <td>NaN</td>\n",
       "      <td>21</td>\n",
       "      <td>...</td>\n",
       "      <td>199</td>\n",
       "      <td>15</td>\n",
       "      <td>3</td>\n",
       "      <td>15</td>\n",
       "      <td>45</td>\n",
       "      <td>2</td>\n",
       "      <td>48</td>\n",
       "      <td>5</td>\n",
       "      <td>7647</td>\n",
       "      <td>5</td>\n",
       "    </tr>\n",
       "    <tr>\n",
       "      <th>top</th>\n",
       "      <td>NaN</td>\n",
       "      <td>average</td>\n",
       "      <td>mostly anything</td>\n",
       "      <td>socially</td>\n",
       "      <td>never</td>\n",
       "      <td>graduated from college/university</td>\n",
       "      <td>white</td>\n",
       "      <td>NaN</td>\n",
       "      <td>NaN</td>\n",
       "      <td>other</td>\n",
       "      <td>...</td>\n",
       "      <td>san francisco, california</td>\n",
       "      <td>doesn&amp;rsquo;t have kids</td>\n",
       "      <td>straight</td>\n",
       "      <td>likes dogs and likes cats</td>\n",
       "      <td>agnosticism</td>\n",
       "      <td>m</td>\n",
       "      <td>gemini and it&amp;rsquo;s fun to think about</td>\n",
       "      <td>no</td>\n",
       "      <td>english</td>\n",
       "      <td>single</td>\n",
       "    </tr>\n",
       "    <tr>\n",
       "      <th>freq</th>\n",
       "      <td>NaN</td>\n",
       "      <td>14652</td>\n",
       "      <td>16585</td>\n",
       "      <td>41780</td>\n",
       "      <td>37724</td>\n",
       "      <td>23959</td>\n",
       "      <td>32831</td>\n",
       "      <td>NaN</td>\n",
       "      <td>NaN</td>\n",
       "      <td>7589</td>\n",
       "      <td>...</td>\n",
       "      <td>31064</td>\n",
       "      <td>7560</td>\n",
       "      <td>51606</td>\n",
       "      <td>14814</td>\n",
       "      <td>2724</td>\n",
       "      <td>35829</td>\n",
       "      <td>1782</td>\n",
       "      <td>43896</td>\n",
       "      <td>21828</td>\n",
       "      <td>55697</td>\n",
       "    </tr>\n",
       "    <tr>\n",
       "      <th>mean</th>\n",
       "      <td>32.340290</td>\n",
       "      <td>NaN</td>\n",
       "      <td>NaN</td>\n",
       "      <td>NaN</td>\n",
       "      <td>NaN</td>\n",
       "      <td>NaN</td>\n",
       "      <td>NaN</td>\n",
       "      <td>68.295281</td>\n",
       "      <td>20033.222534</td>\n",
       "      <td>NaN</td>\n",
       "      <td>...</td>\n",
       "      <td>NaN</td>\n",
       "      <td>NaN</td>\n",
       "      <td>NaN</td>\n",
       "      <td>NaN</td>\n",
       "      <td>NaN</td>\n",
       "      <td>NaN</td>\n",
       "      <td>NaN</td>\n",
       "      <td>NaN</td>\n",
       "      <td>NaN</td>\n",
       "      <td>NaN</td>\n",
       "    </tr>\n",
       "    <tr>\n",
       "      <th>std</th>\n",
       "      <td>9.452779</td>\n",
       "      <td>NaN</td>\n",
       "      <td>NaN</td>\n",
       "      <td>NaN</td>\n",
       "      <td>NaN</td>\n",
       "      <td>NaN</td>\n",
       "      <td>NaN</td>\n",
       "      <td>3.994803</td>\n",
       "      <td>97346.192104</td>\n",
       "      <td>NaN</td>\n",
       "      <td>...</td>\n",
       "      <td>NaN</td>\n",
       "      <td>NaN</td>\n",
       "      <td>NaN</td>\n",
       "      <td>NaN</td>\n",
       "      <td>NaN</td>\n",
       "      <td>NaN</td>\n",
       "      <td>NaN</td>\n",
       "      <td>NaN</td>\n",
       "      <td>NaN</td>\n",
       "      <td>NaN</td>\n",
       "    </tr>\n",
       "    <tr>\n",
       "      <th>min</th>\n",
       "      <td>18.000000</td>\n",
       "      <td>NaN</td>\n",
       "      <td>NaN</td>\n",
       "      <td>NaN</td>\n",
       "      <td>NaN</td>\n",
       "      <td>NaN</td>\n",
       "      <td>NaN</td>\n",
       "      <td>1.000000</td>\n",
       "      <td>-1.000000</td>\n",
       "      <td>NaN</td>\n",
       "      <td>...</td>\n",
       "      <td>NaN</td>\n",
       "      <td>NaN</td>\n",
       "      <td>NaN</td>\n",
       "      <td>NaN</td>\n",
       "      <td>NaN</td>\n",
       "      <td>NaN</td>\n",
       "      <td>NaN</td>\n",
       "      <td>NaN</td>\n",
       "      <td>NaN</td>\n",
       "      <td>NaN</td>\n",
       "    </tr>\n",
       "    <tr>\n",
       "      <th>25%</th>\n",
       "      <td>26.000000</td>\n",
       "      <td>NaN</td>\n",
       "      <td>NaN</td>\n",
       "      <td>NaN</td>\n",
       "      <td>NaN</td>\n",
       "      <td>NaN</td>\n",
       "      <td>NaN</td>\n",
       "      <td>66.000000</td>\n",
       "      <td>-1.000000</td>\n",
       "      <td>NaN</td>\n",
       "      <td>...</td>\n",
       "      <td>NaN</td>\n",
       "      <td>NaN</td>\n",
       "      <td>NaN</td>\n",
       "      <td>NaN</td>\n",
       "      <td>NaN</td>\n",
       "      <td>NaN</td>\n",
       "      <td>NaN</td>\n",
       "      <td>NaN</td>\n",
       "      <td>NaN</td>\n",
       "      <td>NaN</td>\n",
       "    </tr>\n",
       "    <tr>\n",
       "      <th>50%</th>\n",
       "      <td>30.000000</td>\n",
       "      <td>NaN</td>\n",
       "      <td>NaN</td>\n",
       "      <td>NaN</td>\n",
       "      <td>NaN</td>\n",
       "      <td>NaN</td>\n",
       "      <td>NaN</td>\n",
       "      <td>68.000000</td>\n",
       "      <td>-1.000000</td>\n",
       "      <td>NaN</td>\n",
       "      <td>...</td>\n",
       "      <td>NaN</td>\n",
       "      <td>NaN</td>\n",
       "      <td>NaN</td>\n",
       "      <td>NaN</td>\n",
       "      <td>NaN</td>\n",
       "      <td>NaN</td>\n",
       "      <td>NaN</td>\n",
       "      <td>NaN</td>\n",
       "      <td>NaN</td>\n",
       "      <td>NaN</td>\n",
       "    </tr>\n",
       "    <tr>\n",
       "      <th>75%</th>\n",
       "      <td>37.000000</td>\n",
       "      <td>NaN</td>\n",
       "      <td>NaN</td>\n",
       "      <td>NaN</td>\n",
       "      <td>NaN</td>\n",
       "      <td>NaN</td>\n",
       "      <td>NaN</td>\n",
       "      <td>71.000000</td>\n",
       "      <td>-1.000000</td>\n",
       "      <td>NaN</td>\n",
       "      <td>...</td>\n",
       "      <td>NaN</td>\n",
       "      <td>NaN</td>\n",
       "      <td>NaN</td>\n",
       "      <td>NaN</td>\n",
       "      <td>NaN</td>\n",
       "      <td>NaN</td>\n",
       "      <td>NaN</td>\n",
       "      <td>NaN</td>\n",
       "      <td>NaN</td>\n",
       "      <td>NaN</td>\n",
       "    </tr>\n",
       "    <tr>\n",
       "      <th>max</th>\n",
       "      <td>110.000000</td>\n",
       "      <td>NaN</td>\n",
       "      <td>NaN</td>\n",
       "      <td>NaN</td>\n",
       "      <td>NaN</td>\n",
       "      <td>NaN</td>\n",
       "      <td>NaN</td>\n",
       "      <td>95.000000</td>\n",
       "      <td>1000000.000000</td>\n",
       "      <td>NaN</td>\n",
       "      <td>...</td>\n",
       "      <td>NaN</td>\n",
       "      <td>NaN</td>\n",
       "      <td>NaN</td>\n",
       "      <td>NaN</td>\n",
       "      <td>NaN</td>\n",
       "      <td>NaN</td>\n",
       "      <td>NaN</td>\n",
       "      <td>NaN</td>\n",
       "      <td>NaN</td>\n",
       "      <td>NaN</td>\n",
       "    </tr>\n",
       "  </tbody>\n",
       "</table>\n",
       "<p>11 rows × 21 columns</p>\n",
       "</div>"
      ],
      "text/plain": [
       "                 age body_type             diet    drinks  drugs  \\\n",
       "count   59946.000000     54650            35551     56961  45866   \n",
       "unique           NaN        12               18         6      3   \n",
       "top              NaN   average  mostly anything  socially  never   \n",
       "freq             NaN     14652            16585     41780  37724   \n",
       "mean       32.340290       NaN              NaN       NaN    NaN   \n",
       "std         9.452779       NaN              NaN       NaN    NaN   \n",
       "min        18.000000       NaN              NaN       NaN    NaN   \n",
       "25%        26.000000       NaN              NaN       NaN    NaN   \n",
       "50%        30.000000       NaN              NaN       NaN    NaN   \n",
       "75%        37.000000       NaN              NaN       NaN    NaN   \n",
       "max       110.000000       NaN              NaN       NaN    NaN   \n",
       "\n",
       "                                education ethnicity        height  \\\n",
       "count                               53318     54266  59943.000000   \n",
       "unique                                 32       217           NaN   \n",
       "top     graduated from college/university     white           NaN   \n",
       "freq                                23959     32831           NaN   \n",
       "mean                                  NaN       NaN     68.295281   \n",
       "std                                   NaN       NaN      3.994803   \n",
       "min                                   NaN       NaN      1.000000   \n",
       "25%                                   NaN       NaN     66.000000   \n",
       "50%                                   NaN       NaN     68.000000   \n",
       "75%                                   NaN       NaN     71.000000   \n",
       "max                                   NaN       NaN     95.000000   \n",
       "\n",
       "                income    job  ...                   location  \\\n",
       "count     59946.000000  51748  ...                      59946   \n",
       "unique             NaN     21  ...                        199   \n",
       "top                NaN  other  ...  san francisco, california   \n",
       "freq               NaN   7589  ...                      31064   \n",
       "mean      20033.222534    NaN  ...                        NaN   \n",
       "std       97346.192104    NaN  ...                        NaN   \n",
       "min          -1.000000    NaN  ...                        NaN   \n",
       "25%          -1.000000    NaN  ...                        NaN   \n",
       "50%          -1.000000    NaN  ...                        NaN   \n",
       "75%          -1.000000    NaN  ...                        NaN   \n",
       "max     1000000.000000    NaN  ...                        NaN   \n",
       "\n",
       "                      offspring orientation                       pets  \\\n",
       "count                     24385       59946                      40025   \n",
       "unique                       15           3                         15   \n",
       "top     doesn&rsquo;t have kids    straight  likes dogs and likes cats   \n",
       "freq                       7560       51606                      14814   \n",
       "mean                        NaN         NaN                        NaN   \n",
       "std                         NaN         NaN                        NaN   \n",
       "min                         NaN         NaN                        NaN   \n",
       "25%                         NaN         NaN                        NaN   \n",
       "50%                         NaN         NaN                        NaN   \n",
       "75%                         NaN         NaN                        NaN   \n",
       "max                         NaN         NaN                        NaN   \n",
       "\n",
       "           religion    sex                                      sign smokes  \\\n",
       "count         39720  59946                                     48890  54434   \n",
       "unique           45      2                                        48      5   \n",
       "top     agnosticism      m  gemini and it&rsquo;s fun to think about     no   \n",
       "freq           2724  35829                                      1782  43896   \n",
       "mean            NaN    NaN                                       NaN    NaN   \n",
       "std             NaN    NaN                                       NaN    NaN   \n",
       "min             NaN    NaN                                       NaN    NaN   \n",
       "25%             NaN    NaN                                       NaN    NaN   \n",
       "50%             NaN    NaN                                       NaN    NaN   \n",
       "75%             NaN    NaN                                       NaN    NaN   \n",
       "max             NaN    NaN                                       NaN    NaN   \n",
       "\n",
       "         speaks  status  \n",
       "count     59896   59946  \n",
       "unique     7647       5  \n",
       "top     english  single  \n",
       "freq      21828   55697  \n",
       "mean        NaN     NaN  \n",
       "std         NaN     NaN  \n",
       "min         NaN     NaN  \n",
       "25%         NaN     NaN  \n",
       "50%         NaN     NaN  \n",
       "75%         NaN     NaN  \n",
       "max         NaN     NaN  \n",
       "\n",
       "[11 rows x 21 columns]"
      ]
     },
     "execution_count": 298,
     "metadata": {},
     "output_type": "execute_result"
    }
   ],
   "source": [
    "X.describe(include='all')"
   ]
  },
  {
   "cell_type": "markdown",
   "metadata": {},
   "source": [
    "### Numerical Variables"
   ]
  },
  {
   "cell_type": "markdown",
   "metadata": {},
   "source": [
    "From this summary, we can already see something strange:\n",
    "\n",
    "1) Max `age` is 110. Even though not impossible, it sounds very odd that a 110-years-old person uses a dating app. Furthermore, being the median of 30-years-old and the 75th percentile of 37-years-old, it will be very hard to match.\n",
    "\n",
    "2) Min `height` is 1. That's obviously an outlier.\n",
    "\n",
    "3) It seems that a lot of people has `income` of -1, being this value not only the median, but also the 3rd quartile. That is probably not an outlier nor a mistake, but a way to assess that income is not a crucial feature (or, in case of students, that they don't have any income).\n",
    "\n",
    "Let's clean those issues starting with age:"
   ]
  },
  {
   "cell_type": "code",
   "execution_count": 299,
   "metadata": {
    "scrolled": false
   },
   "outputs": [
    {
     "data": {
      "image/png": "[encoded data removed]",
      "text/plain": [
       "<Figure size 432x288 with 1 Axes>"
      ]
     },
     "metadata": {
      "needs_background": "light"
     },
     "output_type": "display_data"
    },
    {
     "name": "stdout",
     "output_type": "stream",
     "text": [
      "263\n",
      "2\n"
     ]
    },
    {
     "data": {
      "text/html": [
       "<div>\n",
       "<style scoped>\n",
       "    .dataframe tbody tr th:only-of-type {\n",
       "        vertical-align: middle;\n",
       "    }\n",
       "\n",
       "    .dataframe tbody tr th {\n",
       "        vertical-align: top;\n",
       "    }\n",
       "\n",
       "    .dataframe thead th {\n",
       "        text-align: right;\n",
       "    }\n",
       "</style>\n",
       "<table border=\"1\" class=\"dataframe\">\n",
       "  <thead>\n",
       "    <tr style=\"text-align: right;\">\n",
       "      <th></th>\n",
       "      <th>age</th>\n",
       "      <th>body_type</th>\n",
       "      <th>diet</th>\n",
       "      <th>drinks</th>\n",
       "      <th>drugs</th>\n",
       "      <th>education</th>\n",
       "      <th>ethnicity</th>\n",
       "      <th>height</th>\n",
       "      <th>income</th>\n",
       "      <th>job</th>\n",
       "      <th>...</th>\n",
       "      <th>location</th>\n",
       "      <th>offspring</th>\n",
       "      <th>orientation</th>\n",
       "      <th>pets</th>\n",
       "      <th>religion</th>\n",
       "      <th>sex</th>\n",
       "      <th>sign</th>\n",
       "      <th>smokes</th>\n",
       "      <th>speaks</th>\n",
       "      <th>status</th>\n",
       "    </tr>\n",
       "  </thead>\n",
       "  <tbody>\n",
       "    <tr>\n",
       "      <th>2512</th>\n",
       "      <td>110</td>\n",
       "      <td>NaN</td>\n",
       "      <td>NaN</td>\n",
       "      <td>NaN</td>\n",
       "      <td>NaN</td>\n",
       "      <td>NaN</td>\n",
       "      <td>NaN</td>\n",
       "      <td>67.0</td>\n",
       "      <td>-1</td>\n",
       "      <td>NaN</td>\n",
       "      <td>...</td>\n",
       "      <td>daly city, california</td>\n",
       "      <td>NaN</td>\n",
       "      <td>straight</td>\n",
       "      <td>NaN</td>\n",
       "      <td>NaN</td>\n",
       "      <td>f</td>\n",
       "      <td>NaN</td>\n",
       "      <td>NaN</td>\n",
       "      <td>english</td>\n",
       "      <td>single</td>\n",
       "    </tr>\n",
       "    <tr>\n",
       "      <th>25324</th>\n",
       "      <td>109</td>\n",
       "      <td>athletic</td>\n",
       "      <td>mostly other</td>\n",
       "      <td>NaN</td>\n",
       "      <td>never</td>\n",
       "      <td>working on masters program</td>\n",
       "      <td>NaN</td>\n",
       "      <td>95.0</td>\n",
       "      <td>-1</td>\n",
       "      <td>student</td>\n",
       "      <td>...</td>\n",
       "      <td>san francisco, california</td>\n",
       "      <td>might want kids</td>\n",
       "      <td>straight</td>\n",
       "      <td>NaN</td>\n",
       "      <td>other and somewhat serious about it</td>\n",
       "      <td>m</td>\n",
       "      <td>aquarius but it doesn&amp;rsquo;t matter</td>\n",
       "      <td>when drinking</td>\n",
       "      <td>english (okay)</td>\n",
       "      <td>available</td>\n",
       "    </tr>\n",
       "  </tbody>\n",
       "</table>\n",
       "<p>2 rows × 21 columns</p>\n",
       "</div>"
      ],
      "text/plain": [
       "       age body_type          diet drinks  drugs                   education  \\\n",
       "2512   110       NaN           NaN    NaN    NaN                         NaN   \n",
       "25324  109  athletic  mostly other    NaN  never  working on masters program   \n",
       "\n",
       "      ethnicity  height  income      job  ...                   location  \\\n",
       "2512        NaN    67.0      -1      NaN  ...      daly city, california   \n",
       "25324       NaN    95.0      -1  student  ...  san francisco, california   \n",
       "\n",
       "             offspring orientation pets                             religion  \\\n",
       "2512               NaN    straight  NaN                                  NaN   \n",
       "25324  might want kids    straight  NaN  other and somewhat serious about it   \n",
       "\n",
       "      sex                                  sign         smokes  \\\n",
       "2512    f                                   NaN            NaN   \n",
       "25324   m  aquarius but it doesn&rsquo;t matter  when drinking   \n",
       "\n",
       "               speaks     status  \n",
       "2512          english     single  \n",
       "25324  english (okay)  available  \n",
       "\n",
       "[2 rows x 21 columns]"
      ]
     },
     "execution_count": 299,
     "metadata": {},
     "output_type": "execute_result"
    }
   ],
   "source": [
    "plt.hist(X['age'])\n",
    "plt.title('Age distribution')\n",
    "plt.show()\n",
    "\n",
    "print(len(X[X.age>65]))\n",
    "print(len(X[X.age>70]))\n",
    "X[X.age>70]"
   ]
  },
  {
   "cell_type": "markdown",
   "metadata": {},
   "source": [
    "We have 263 profiles with `age`>65, but only 2 with `age`>70, and those two have values of 110 and 109, obviously outliers. Let's remove them."
   ]
  },
  {
   "cell_type": "code",
   "execution_count": 300,
   "metadata": {},
   "outputs": [],
   "source": [
    "X = X[X.age < 80]"
   ]
  },
  {
   "cell_type": "markdown",
   "metadata": {},
   "source": [
    "We exclude also every profile with a `height` lower than 45 inches and higher than 90 inches, which are very much likely outliers as well"
   ]
  },
  {
   "cell_type": "code",
   "execution_count": 301,
   "metadata": {
    "scrolled": true
   },
   "outputs": [],
   "source": [
    "X = X[(X.height>=45)&(X.height<90)]"
   ]
  },
  {
   "cell_type": "code",
   "execution_count": 302,
   "metadata": {},
   "outputs": [
    {
     "name": "stdout",
     "output_type": "stream",
     "text": [
      "People with income = -1: 48407\n",
      "People with income > -1: 11483\n",
      "People with income between 300000 and 900000$: 48\n",
      "People with income higher than 500000$: 510\n"
     ]
    },
    {
     "data": {
      "image/png": "[encoded data removed]",
      "text/plain": [
       "<Figure size 1440x720 with 1 Axes>"
      ]
     },
     "metadata": {
      "needs_background": "light"
     },
     "output_type": "display_data"
    }
   ],
   "source": [
    "print(\"People with income = -1: \" + str(len(X[X.income==-1])))\n",
    "print(\"People with income > -1: \" + str(len(X[X.income>0])))\n",
    "print(\"People with income between 300000 and 900000$: \" + str(len(X[(X.income>=300000)&(X.income<=900000)])))\n",
    "print(\"People with income higher than 500000$: \" + str(len(X[X.income>500000])))\n",
    "\n",
    "#plt.hist(X.income)\n",
    "plt.figure(figsize=(20,10))\n",
    "sns.countplot(x=X[X.income>0].income)\n",
    "plt.title(\"Distribution of incomes (between 0 and 1000000)\", fontdict={'fontsize': 15})\n",
    "plt.show()"
   ]
  },
  {
   "cell_type": "markdown",
   "metadata": {},
   "source": [
    "We have the highest majority of people (almost 81%) with `income` value of -1, meaning that they do not care about the income.\n",
    "Furthermore, there are around 500 people declaring an income of 1000000, which seems as well a declaration of not caring.\n",
    "Anyway, let's keep the values as they are and see whether they can be useful in a Machine Learning Algorithm.\n",
    "\n",
    "Apart from these values, the distribution of incomes seems bimodal, with the highest peak at 20000 and another local maximum at 100000."
   ]
  },
  {
   "cell_type": "markdown",
   "metadata": {},
   "source": [
    "### Categorical variables"
   ]
  },
  {
   "cell_type": "markdown",
   "metadata": {},
   "source": [
    "Let's now encode the Categorical variables.\n",
    "\n",
    "1) __BODY TYPE__: unordered Categorical variable, which can be one-hot encoded. NaNs can be replaced with the mode, which is `average`. In order to simplify things, we can group similar description in the following way:\n",
    "\n",
    "- `thin`, `skinny` and `used up` = `thin`\n",
    "- `fit`, `athletic`, `full figured` and `jacked` = `fit`\n",
    "- `curvy`, `a little extra` and `overweight` = `curvy`"
   ]
  },
  {
   "cell_type": "code",
   "execution_count": 303,
   "metadata": {},
   "outputs": [
    {
     "name": "stdout",
     "output_type": "stream",
     "text": [
      "fit               25936\n",
      "average           19929\n",
      "curvy              6994\n",
      "thin               6834\n",
      "rather not say      197\n",
      "Name: body_type, dtype: int64\n"
     ]
    }
   ],
   "source": [
    "body_mode = X['body_type'].mode()\n",
    "X['body_type'].fillna(body_mode[0],inplace=True)\n",
    "X['body_type'].replace(to_replace = ['skinny','used up'], value = 'thin', inplace=True)\n",
    "X['body_type'].replace(to_replace = ['athletic','full figured','jacked'], value = 'fit', inplace=True)\n",
    "X['body_type'].replace(to_replace = ['a little extra','overweight'], value = 'curvy', inplace=True)\n",
    "print(X.body_type.value_counts())"
   ]
  },
  {
   "cell_type": "markdown",
   "metadata": {},
   "source": [
    "2) __DIET__: unordered Categorical variable, which can be one-hot encoded. NaNs can be replaced with the mode, which is `mostly anything`. In order to simplify things, we can group similar description (e.g.: `mostly anything`, `anything` and `strictly anything` can all grouped up in `anything`):"
   ]
  },
  {
   "cell_type": "code",
   "execution_count": 304,
   "metadata": {
    "scrolled": true
   },
   "outputs": [
    {
     "name": "stdout",
     "output_type": "stream",
     "text": [
      "anything      52230\n",
      "vegetarian     4984\n",
      "other          1782\n",
      "vegan           702\n",
      "kosher          115\n",
      "halal            77\n",
      "Name: diet, dtype: int64\n"
     ]
    }
   ],
   "source": [
    "diet_mode = X['diet'].mode()\n",
    "X['diet'].fillna(diet_mode[0],inplace=True)\n",
    "X['diet'].replace({'mostly ': '', 'strictly ': ''}, regex=True, inplace=True)\n",
    "print(X.diet.value_counts())"
   ]
  },
  {
   "cell_type": "markdown",
   "metadata": {},
   "source": [
    "3) **DRINKS**: We have a categorical feature with 6 different values, which can be ordered (and thus mapped) in the following way:\n",
    "\n",
    "- `0` = `not at all`\n",
    "- `1` = `rarely`\n",
    "- `2` = `socially`\n",
    "- `3` = `often`\n",
    "- `4` = `very often`\n",
    "- `5` = `desperately`\n",
    "\n",
    "`NaN`s can be replaced with the mode, which is `socially`"
   ]
  },
  {
   "cell_type": "code",
   "execution_count": 305,
   "metadata": {},
   "outputs": [],
   "source": [
    "drinks_mode = X['drinks'].mode()\n",
    "X['drinks'].fillna(drinks_mode[0],inplace=True)\n",
    "X['drinks'] = X.drinks.map({'not at all': 0, 'rarely': 1, 'socially': 2, 'often': 3, 'very often': 4, 'desperately': 5})"
   ]
  },
  {
   "cell_type": "markdown",
   "metadata": {},
   "source": [
    "4) **DRUGS**: Like `drinks`, this feature can be ordered and mapped in the following way:\n",
    "\n",
    "- `0` = `never`\n",
    "- `1` = `sometimes`\n",
    "- `2` = `often`\n",
    "\n",
    "`NaN`s can be replaced with the mode, which is `never`"
   ]
  },
  {
   "cell_type": "code",
   "execution_count": 306,
   "metadata": {},
   "outputs": [],
   "source": [
    "drugs_mode = X['drugs'].mode()\n",
    "X['drugs'].fillna(drugs_mode[0],inplace=True)\n",
    "X['drugs'] = X.drugs.map({'never': 0, 'sometimes': 1, 'often': 2})"
   ]
  },
  {
   "cell_type": "markdown",
   "metadata": {},
   "source": [
    "5) __EDUCATION__: nordered Categorical feature to be one-hot encoded. In this case, replacing `NaN`s with the mode could be inaccurate, thus `NaN`s will be replaced with `rather not say`. In order to simplify things, we can group similar description (e.g.: `graduated from law school`, `law school` and `working on law school` can all grouped up in `law school`). Also `dropped out` will be grouped together.\n"
   ]
  },
  {
   "cell_type": "code",
   "execution_count": 307,
   "metadata": {},
   "outputs": [
    {
     "name": "stdout",
     "output_type": "stream",
     "text": [
      "college/university    30454\n",
      "masters program       10775\n",
      "rather not say         6615\n",
      "two-year college       2824\n",
      "ph.d program           2278\n",
      "dropped out            2103\n",
      "high school            1609\n",
      "law school             1409\n",
      "space camp             1154\n",
      "med school              669\n",
      "Name: education, dtype: int64\n"
     ]
    }
   ],
   "source": [
    "X['education'].fillna('rather not say',inplace=True)\n",
    "X['education'].replace({'graduated from ': '', 'working on ': '', r'^dropped out of .*$': 'dropped out'}, regex=True, inplace=True)\n",
    "print(X.education.value_counts())"
   ]
  },
  {
   "cell_type": "markdown",
   "metadata": {},
   "source": [
    "6) __ETHNICITY__: unordered Categorical feature. This feature is quite a mess. Looking at the pie chart of the distribution of categories, the main ones are the following:\n",
    "\n",
    "- `white`\n",
    "- `black`\n",
    "- `asian`\n",
    "- `hispanic/latin`\n",
    "- `indian`\n",
    "- `pacific islander`\n",
    "- `native american`\n",
    "- `middle eastern`\n",
    "\n",
    "There are cases (around 3.5%) with multiple options: for instance, we can find '_asian, indian, pacific islander, white_'.\n",
    "To make order, we rearrange each `ethnicity` entry into one of the main categories listed above, following one simple rule: with multiple option, the least common wins. Thus, this is the hierarchy:\n",
    "\n",
    "`middle eastern` > `native american` > `pacific islander` > `indian` > `black` > `hispanic/latin` > `asian` > `white`\n",
    "\n",
    "**Example**: the case '_asian, indian, pacific islander, white_', according to the hierarchy mentioned above, will become `pacific islander`"
   ]
  },
  {
   "cell_type": "code",
   "execution_count": 308,
   "metadata": {},
   "outputs": [
    {
     "name": "stdout",
     "output_type": "stream",
     "text": [
      "Number of middle easterns: 943\n",
      "Number of native americans: 1258\n",
      "Number of pacific islander: 1465\n"
     ]
    },
    {
     "data": {
      "image/png": "[encoded data removed]",
      "text/plain": [
       "<Figure size 1440x864 with 1 Axes>"
      ]
     },
     "metadata": {},
     "output_type": "display_data"
    }
   ],
   "source": [
    "print(\"Number of middle easterns: \" + str(X.ethnicity.str.contains('middle eastern',case=True, regex=True).sum()))\n",
    "print(\"Number of native americans: \" + str(X.ethnicity.str.contains('native american',case=True, regex=True).sum()))\n",
    "print(\"Number of pacific islander: \" + str(X.ethnicity.str.contains('pacific islander',case=True, regex=True).sum()))\n",
    "prova = X.ethnicity.value_counts()\n",
    "plt.figure(figsize=(20,12))\n",
    "plt.pie(prova[0:10], labels=prova[0:10].index.values, autopct = '%.2f')\n",
    "plt.legend(loc='best')\n",
    "plt.title('Distribution of ethnicity categories')\n",
    "plt.show()"
   ]
  },
  {
   "cell_type": "code",
   "execution_count": 309,
   "metadata": {},
   "outputs": [
    {
     "name": "stdout",
     "output_type": "stream",
     "text": [
      "white               33461\n",
      "rather not say       7364\n",
      "asian                7104\n",
      "hispanic             4521\n",
      "black                2750\n",
      "pacific islander     1310\n",
      "indian               1288\n",
      "native american      1149\n",
      "middle eastern        943\n",
      "Name: ethnicity, dtype: int64\n"
     ]
    }
   ],
   "source": [
    "import re\n",
    "\n",
    "X.ethnicity.fillna('rather not say',inplace=True)\n",
    "\n",
    "X.reset_index(drop=True, inplace=True)\n",
    "\n",
    "for i in range(len(X)):\n",
    "    if ('middle eastern' in X.at[i, 'ethnicity']):\n",
    "        X.at[i, 'ethnicity'] = 'middle eastern'\n",
    "    elif 'native american' in X.at[i, 'ethnicity']:\n",
    "        X.at[i, 'ethnicity'] = 'native american'\n",
    "    elif 'pacific islander' in X.at[i, 'ethnicity']:\n",
    "        X.at[i, 'ethnicity'] = 'pacific islander'\n",
    "    elif 'indian' in X.at[i, 'ethnicity']:\n",
    "        X.at[i, 'ethnicity'] = 'indian'\n",
    "    elif 'black' in X.at[i, 'ethnicity']:\n",
    "        X.at[i, 'ethnicity'] = 'black'\n",
    "    elif re.search(r'hispanic\\s*/\\s*latin', X.at[i, 'ethnicity']):\n",
    "        X.at[i, 'ethnicity'] = 'hispanic'\n",
    "    elif 'asian' in X.at[i, 'ethnicity']:\n",
    "        X.at[i, 'ethnicity'] = 'asian'\n",
    "    elif 'white' in X.at[i, 'ethnicity']:\n",
    "        X.at[i, 'ethnicity'] = 'white'\n",
    "    else:\n",
    "        X.at[i, 'ethnicity'] = 'rather not say'\n",
    "\n",
    "print(X.ethnicity.value_counts())"
   ]
  },
  {
   "cell_type": "markdown",
   "metadata": {},
   "source": [
    "7) __JOB__: unordered Categorical feature to be one-hot encoded. `NaN`s can be replaced with `rather not say`"
   ]
  },
  {
   "cell_type": "code",
   "execution_count": 310,
   "metadata": {
    "scrolled": true
   },
   "outputs": [
    {
     "data": {
      "text/plain": [
       "rather not say                       8614\n",
       "other                                7585\n",
       "student                              4875\n",
       "science / tech / engineering         4846\n",
       "computer / hardware / software       4706\n",
       "artistic / musical / writer          4435\n",
       "sales / marketing / biz dev          4390\n",
       "medicine / health                    3679\n",
       "education / academia                 3510\n",
       "executive / management               2371\n",
       "banking / financial / real estate    2265\n",
       "entertainment / media                2248\n",
       "law / legal services                 1380\n",
       "hospitality / travel                 1363\n",
       "construction / craftsmanship         1021\n",
       "clerical / administrative             805\n",
       "political / government                707\n",
       "transportation                        366\n",
       "unemployed                            272\n",
       "retired                               249\n",
       "military                              203\n",
       "Name: job, dtype: int64"
      ]
     },
     "execution_count": 310,
     "metadata": {},
     "output_type": "execute_result"
    }
   ],
   "source": [
    "X['job'].fillna('rather not say',inplace=True)\n",
    "X.job.value_counts()"
   ]
  },
  {
   "cell_type": "markdown",
   "metadata": {},
   "source": [
    "8) **LAST ONLINE**: This variable is not particularly useful, thus can be dropped"
   ]
  },
  {
   "cell_type": "code",
   "execution_count": 311,
   "metadata": {
    "scrolled": true
   },
   "outputs": [],
   "source": [
    "X.drop(columns='last_online',inplace=True)"
   ]
  },
  {
   "cell_type": "markdown",
   "metadata": {},
   "source": [
    "9) __LOCATION__: Location feature has the structure \"city, state\". First of all, we split *city* and *state* in two separate columns. Then, we clean a little bit the *city* column (for instance, the value \"south san francisco\" can be converted in \"san francisco\", in order to reduce the number of unique values without losing much information)"
   ]
  },
  {
   "cell_type": "code",
   "execution_count": 312,
   "metadata": {
    "scrolled": false
   },
   "outputs": [
    {
     "name": "stdout",
     "output_type": "stream",
     "text": [
      "california            59800\n",
      "newyork                  17\n",
      "illinois                  8\n",
      "massachusetts             5\n",
      "texas                     4\n",
      "oregon                    4\n",
      "michigan                  4\n",
      "arizona                   3\n",
      "florida                   3\n",
      "districtofcolumbia        2\n",
      "washington                2\n",
      "utah                      2\n",
      "georgia                   2\n",
      "minnesota                 2\n",
      "colorado                  2\n",
      "unitedkingdom             2\n",
      "ohio                      2\n",
      "spain                     2\n",
      "virginia                  2\n",
      "hawaii                    2\n",
      "louisiana                 1\n",
      "tennessee                 1\n",
      "switzerland               1\n",
      "netherlands               1\n",
      "pennsylvania              1\n",
      "germany                   1\n",
      "missouri                  1\n",
      "britishcolumbia           1\n",
      "rhodeisland               1\n",
      "westvirginia              1\n",
      "connecticut               1\n",
      "ireland                   1\n",
      "montana                   1\n",
      "wisconsin                 1\n",
      "nevada                    1\n",
      "newjersey                 1\n",
      "mississippi               1\n",
      "vietnam                   1\n",
      "northcarolina             1\n",
      "idaho                     1\n",
      "Name: state, dtype: int64\n"
     ]
    }
   ],
   "source": [
    "location_temp = X.location.str.split(pat=',',expand=True)\n",
    "X['state'] = location_temp[1]\n",
    "X['state'] = X.state.replace(to_replace=' ', value='', regex=True)\n",
    "X['city'] = location_temp[0]\n",
    "X['city'] = X.city.replace(to_replace='^north ',value='',regex=True)\n",
    "X['city'] = X.city.replace(to_replace='^south ',value='',regex=True)\n",
    "X['city'] = X.city.replace(to_replace='^east ',value='',regex=True)\n",
    "X['city'] = X.city.replace(to_replace='^west ',value='',regex=True)\n",
    "print(X.state.value_counts())"
   ]
  },
  {
   "cell_type": "markdown",
   "metadata": {},
   "source": [
    "Since almost everyone is from California, we keep only people from California (and then this feature can be dropped)"
   ]
  },
  {
   "cell_type": "code",
   "execution_count": 313,
   "metadata": {
    "scrolled": true
   },
   "outputs": [],
   "source": [
    "X = X[X.state == 'california']\n",
    "X.drop(columns=['location','state'],inplace=True)"
   ]
  },
  {
   "cell_type": "markdown",
   "metadata": {},
   "source": [
    "Give the `city`, we can calculate the distance between each Californian `city` and the mode of the dataframe, which is `san francisco`"
   ]
  },
  {
   "cell_type": "code",
   "execution_count": 35,
   "metadata": {},
   "outputs": [
    {
     "name": "stdout",
     "output_type": "stream",
     "text": [
      "0\n"
     ]
    }
   ],
   "source": [
    "from geopy.geocoders import Nominatim\n",
    "import haversine as hs\n",
    "import time\n",
    "\n",
    "# Initialize Nominatim API\n",
    "geolocator = Nominatim(user_agent=\"MyApp\")\n",
    "\n",
    "san_fran = geolocator.geocode(\"san francisco\")\n",
    "sanfran_coord = (san_fran.latitude, san_fran.longitude)\n",
    "\n",
    "distance = []\n",
    "for city in X.city:\n",
    "    city_temp = geolocator.geocode(city)\n",
    "    city_coord = (city_temp.latitude, city_temp.longitude)\n",
    "    bdistance.append(np.round(hs.haversine(sanfran_coord,city_coord),1))\n",
    "    time.sleep(1)"
   ]
  },
  {
   "cell_type": "markdown",
   "metadata": {},
   "source": [
    "10) **OFFSPRING**: The vast majority of entries of this feature is `NaN`, which can be easily interpreted as `doesn't have kids`, considering the context.\n",
    "\n",
    "Furthermore, this variable gives us hints about whether people wants kids as well. Nevertheless, it's more difficult to associate this aspect to `NaN`s. We can thus create a new boolean feature `has_kids` (with `NaN`s values = 0) and drop the information about the will of having new kids."
   ]
  },
  {
   "cell_type": "code",
   "execution_count": 314,
   "metadata": {},
   "outputs": [
    {
     "name": "stdout",
     "output_type": "stream",
     "text": [
      "doesn't have kids                          43011\n",
      "doesn't have kids, but might want them      3870\n",
      "doesn't have kids, but wants them           3557\n",
      "doesn't want kids                           2919\n",
      "has a kid                                   1879\n",
      "has kids                                    1879\n",
      "doesn't have kids, and doesn't want any     1127\n",
      "has kids, but doesn't want more              441\n",
      "has a kid, but doesn't want more             274\n",
      "has a kid, and might want more               231\n",
      "wants kids                                   225\n",
      "might want kids                              181\n",
      "has kids, and might want more                115\n",
      "has a kid, and wants more                     70\n",
      "has kids, and wants more                      21\n",
      "Name: offspring, dtype: int64\n",
      "0    54890\n",
      "1     4910\n",
      "Name: has_kids, dtype: int64\n"
     ]
    }
   ],
   "source": [
    "X['offspring'].fillna('doesn\\'t have kids',inplace=True)\n",
    "X['offspring'].replace('&rsquo;','\\'',inplace=True, regex=True)\n",
    "X['has_kids'] = X['offspring'].apply(lambda x: 1 if ('has' in x) else 0)\n",
    "print(X.offspring.value_counts())\n",
    "print(X.has_kids.value_counts())\n",
    "X.drop(columns='offspring',inplace=True)"
   ]
  },
  {
   "cell_type": "markdown",
   "metadata": {},
   "source": [
    "11) __ORIENTATION__: there are 3 values: *straight*, *gay* and *bisex*. Since *bisex* is matchable with both *straight* and *gay*, this variable can be splitted in 2 dummy variables, __*straight_comp*__ and __*gay_comp*__, which are regulated by the following look-up table:\n",
    "\n",
    "\n",
    "| Orientation | straight_comp | gay_comp |\n",
    "|-------------|:-------------:|---------:|\n",
    "| straight    |       1       |    0     |\n",
    "| gay         |       0       |    1     |\n",
    "| bisex       |       1       |    1     |"
   ]
  },
  {
   "cell_type": "code",
   "execution_count": 315,
   "metadata": {},
   "outputs": [],
   "source": [
    "X['straight_comp'] = X['orientation'].apply(lambda x: 1 if (x=='straight')|(x=='bisexual') else 0)\n",
    "X['gay_comp'] = X['orientation'].apply(lambda x: 1 if (x=='gay')|(x=='bisexual') else 0)\n",
    "X.drop(columns='orientation',inplace=True)"
   ]
  },
  {
   "cell_type": "markdown",
   "metadata": {},
   "source": [
    "12) **PETS**: this feature gives us information about people's preferences about dogs and cats. In particular, it tells us if people has or not dogs and/or cats, and/or if they like or dislikes them.\n",
    "We approach this feature following two hypotesis:\n",
    "\n",
    "- having a dog/cat means liking them\n",
    "- no explicits statements about disliking a pet (i.e: `NaN`s, or cases such as `likes dogs` - where no info about cats is provided) means liking that pet.\n",
    "\n",
    "Based on these hypoteses, we can convert the feature in 2 new features, `likes_dogs` and `likes_cats`:"
   ]
  },
  {
   "cell_type": "code",
   "execution_count": 316,
   "metadata": {
    "scrolled": true
   },
   "outputs": [
    {
     "name": "stdout",
     "output_type": "stream",
     "text": [
      "1    59243\n",
      "0      557\n",
      "Name: likes_dogs, dtype: int64\n",
      "1    56907\n",
      "0     2893\n",
      "Name: likes_cats, dtype: int64\n"
     ]
    }
   ],
   "source": [
    "X['pets'].fillna('likes dogs and likes cats', inplace=True)\n",
    "X['likes_dogs'] = X['pets'].apply(lambda x: 0 if 'dislikes dogs' in x else 1)\n",
    "X['likes_cats'] = X['pets'].apply(lambda x: 0 if 'dislikes cats' in x else 1)\n",
    "print(X.likes_dogs.value_counts())\n",
    "print(X.likes_cats.value_counts())\n",
    "X.drop(columns='pets',inplace=True)"
   ]
  },
  {
   "cell_type": "markdown",
   "metadata": {},
   "source": [
    "13) **RELIGION**: religion feature has about 20k `NaN`s (which can be converted in the usual `Rather not say`). Apart from that, there are mainly 9 religious options:\n",
    "\n",
    "- *Agnosticism*\n",
    "- *Atheism*\n",
    "- *Catholicism*\n",
    "- *Christianity*\n",
    "- *Judaism*\n",
    "- *Buddhism*\n",
    "- *Hinduism*\n",
    "- *Islam*\n",
    "- *Other*\n",
    "\n",
    "For each of those options, we can find information about how seriously are they taken into consideration.\n",
    "We can split those information in 2 features: `religion` will keep only the religion options, while `religion_serious` is a boolean feature indicating whether religion is considered seriously or not.\n",
    "\n",
    "`NaN` cases will be considered not serious about religion"
   ]
  },
  {
   "cell_type": "code",
   "execution_count": 317,
   "metadata": {},
   "outputs": [
    {
     "data": {
      "text/plain": [
       "rather not say    20171\n",
       "agnosticism        8795\n",
       "other              7719\n",
       "atheism            6966\n",
       "christianity       5779\n",
       "catholicism        4752\n",
       "judaism            3089\n",
       "buddhism           1942\n",
       "hinduism            449\n",
       "islam               138\n",
       "Name: religion, dtype: int64"
      ]
     },
     "execution_count": 317,
     "metadata": {},
     "output_type": "execute_result"
    }
   ],
   "source": [
    "X['religion'].fillna('rather not say',inplace=True)\n",
    "X['religion_serious'] = X['religion'].apply(lambda x: 1 if re.search(r'(somewhat|very) serious',x) else 0)\n",
    "religions = ['agnosticism','atheism','catholicism','christianity','judaism','buddhism','hinduism','islam','other']\n",
    "for religion in religions:\n",
    "    X['religion'] = X['religion'].apply(lambda x: religion if religion in x else x)\n",
    "\n",
    "X['religion'].value_counts()"
   ]
  },
  {
   "cell_type": "markdown",
   "metadata": {},
   "source": [
    "14) __SEX__: only 2 values, *m* and *f*"
   ]
  },
  {
   "cell_type": "code",
   "execution_count": 318,
   "metadata": {},
   "outputs": [
    {
     "name": "stdout",
     "output_type": "stream",
     "text": [
      "m    35732\n",
      "f    24068\n",
      "Name: sex, dtype: int64\n",
      "0    35732\n",
      "1    24068\n",
      "Name: sex, dtype: int64\n"
     ]
    }
   ],
   "source": [
    "sex_dict = {'m':0, 'f':1}\n",
    "print(X.sex.value_counts())\n",
    "X['sex'] = X.sex.map(sex_dict)\n",
    "print(X.sex.value_counts())"
   ]
  },
  {
   "cell_type": "code",
   "execution_count": 319,
   "metadata": {},
   "outputs": [
    {
     "data": {
      "text/plain": [
       "Index(['age', 'body_type', 'diet', 'drinks', 'drugs', 'education', 'essay0',\n",
       "       'essay1', 'essay2', 'essay3', 'essay4', 'essay5', 'essay6', 'essay7',\n",
       "       'essay8', 'essay9', 'ethnicity', 'height', 'income', 'job',\n",
       "       'last_online', 'location', 'offspring', 'orientation', 'pets',\n",
       "       'religion', 'sex', 'sign', 'smokes', 'speaks', 'status'],\n",
       "      dtype='object')"
      ]
     },
     "execution_count": 319,
     "metadata": {},
     "output_type": "execute_result"
    }
   ],
   "source": [
    "df.columns"
   ]
  },
  {
   "cell_type": "markdown",
   "metadata": {},
   "source": [
    "15) **SIGN**: Sign feature can be hanled as `religion`: `NaN`s will become `rather not say`, while other entries can be renamed with the 12 signs available. \n",
    "\n",
    "The information about how sign matters can be dropped. **DA VALUTARE SE INVECE MANTENERLA**"
   ]
  },
  {
   "cell_type": "code",
   "execution_count": 320,
   "metadata": {},
   "outputs": [
    {
     "data": {
      "text/plain": [
       "rather not say    11017\n",
       "leo                4362\n",
       "gemini             4302\n",
       "libra              4199\n",
       "cancer             4198\n",
       "virgo              4136\n",
       "taurus             4131\n",
       "scorpio            4124\n",
       "aries              3979\n",
       "pisces             3937\n",
       "sagittarius        3933\n",
       "aquarius           3918\n",
       "capricorn          3564\n",
       "Name: sign, dtype: int64"
      ]
     },
     "execution_count": 320,
     "metadata": {},
     "output_type": "execute_result"
    }
   ],
   "source": [
    "X.sign.fillna('rather not say',inplace=True)\n",
    "signs = ['gemini','scorpio','leo','libra','taurus','cancer','pisces','sagittarius','virgo','aries','aquarius','capricorn']\n",
    "for sign in signs:\n",
    "    X['sign']=X['sign'].apply(lambda x: sign if sign in x else x)\n",
    "    \n",
    "X.sign.value_counts()"
   ]
  },
  {
   "cell_type": "markdown",
   "metadata": {},
   "source": [
    "16) **SMOKES**: We can make this feature boolean, with 1 if smoker and 0 if not smoker "
   ]
  },
  {
   "cell_type": "code",
   "execution_count": 321,
   "metadata": {},
   "outputs": [
    {
     "data": {
      "text/plain": [
       "0    43804\n",
       "1    15996\n",
       "Name: smokes, dtype: int64"
      ]
     },
     "execution_count": 321,
     "metadata": {},
     "output_type": "execute_result"
    }
   ],
   "source": [
    "X['smokes'] = X.smokes.apply(lambda x: 0 if x=='no' else 1)\n",
    "X.smokes.value_counts()"
   ]
  },
  {
   "cell_type": "markdown",
   "metadata": {},
   "source": [
    "17) **SPEAKS**: This feature has 7647 unique values, with a large number of languages (from spanish to c++) associated with their level (poorly, okay or fluently). Nevertheless, since english is common to each entry, and is by far the most popular language, this feature can be dropped."
   ]
  },
  {
   "cell_type": "code",
   "execution_count": 322,
   "metadata": {
    "scrolled": true
   },
   "outputs": [
    {
     "name": "stdout",
     "output_type": "stream",
     "text": [
      "Number of people speaking fluent english: 28156\n",
      "Number of people speaking english: 59800\n"
     ]
    }
   ],
   "source": [
    "X['speaks'].fillna('english', inplace=True)\n",
    "temp = X['speaks'].apply(lambda x: 1 if re.search(r'english \\(fluently\\).*',x) else 0)\n",
    "prova = X[temp==1]\n",
    "print('Number of people speaking fluent english: ' + str(len(prova)))\n",
    "temp = X['speaks'].apply(lambda x: 1 if re.search(r'english',x) else 0)\n",
    "prova = X[temp==1]\n",
    "print('Number of people speaking english: ' + str(len(prova)))\n",
    "\n",
    "X.drop(columns='speaks',inplace=True)"
   ]
  },
  {
   "cell_type": "markdown",
   "metadata": {},
   "source": [
    "18) **STATUS**: Theoretically in a dating app this feature should have `single` or `available` in every entry. Instead, there is a (small) number of people `seeing someone` and `married`. Anyway, for the purpose of this project, we can drop this feature, since it does not bring useful information "
   ]
  },
  {
   "cell_type": "code",
   "execution_count": 323,
   "metadata": {},
   "outputs": [],
   "source": [
    "X.drop(columns='status',inplace=True)"
   ]
  },
  {
   "cell_type": "markdown",
   "metadata": {},
   "source": [
    "Let's recap what we have done looking at a `describe` of all the features:"
   ]
  },
  {
   "cell_type": "code",
   "execution_count": 324,
   "metadata": {},
   "outputs": [
    {
     "data": {
      "text/html": [
       "<div>\n",
       "<style scoped>\n",
       "    .dataframe tbody tr th:only-of-type {\n",
       "        vertical-align: middle;\n",
       "    }\n",
       "\n",
       "    .dataframe tbody tr th {\n",
       "        vertical-align: top;\n",
       "    }\n",
       "\n",
       "    .dataframe thead th {\n",
       "        text-align: right;\n",
       "    }\n",
       "</style>\n",
       "<table border=\"1\" class=\"dataframe\">\n",
       "  <thead>\n",
       "    <tr style=\"text-align: right;\">\n",
       "      <th></th>\n",
       "      <th>count</th>\n",
       "      <th>unique</th>\n",
       "      <th>top</th>\n",
       "      <th>freq</th>\n",
       "      <th>mean</th>\n",
       "      <th>std</th>\n",
       "      <th>min</th>\n",
       "      <th>25%</th>\n",
       "      <th>50%</th>\n",
       "      <th>75%</th>\n",
       "      <th>max</th>\n",
       "    </tr>\n",
       "  </thead>\n",
       "  <tbody>\n",
       "    <tr>\n",
       "      <th>age</th>\n",
       "      <td>59800.0</td>\n",
       "      <td>NaN</td>\n",
       "      <td>NaN</td>\n",
       "      <td>NaN</td>\n",
       "      <td>32.343746</td>\n",
       "      <td>9.445258</td>\n",
       "      <td>18.0</td>\n",
       "      <td>26.0</td>\n",
       "      <td>30.0</td>\n",
       "      <td>37.0</td>\n",
       "      <td>69.0</td>\n",
       "    </tr>\n",
       "    <tr>\n",
       "      <th>body_type</th>\n",
       "      <td>59800</td>\n",
       "      <td>5</td>\n",
       "      <td>fit</td>\n",
       "      <td>25892</td>\n",
       "      <td>NaN</td>\n",
       "      <td>NaN</td>\n",
       "      <td>NaN</td>\n",
       "      <td>NaN</td>\n",
       "      <td>NaN</td>\n",
       "      <td>NaN</td>\n",
       "      <td>NaN</td>\n",
       "    </tr>\n",
       "    <tr>\n",
       "      <th>diet</th>\n",
       "      <td>59800</td>\n",
       "      <td>6</td>\n",
       "      <td>anything</td>\n",
       "      <td>52158</td>\n",
       "      <td>NaN</td>\n",
       "      <td>NaN</td>\n",
       "      <td>NaN</td>\n",
       "      <td>NaN</td>\n",
       "      <td>NaN</td>\n",
       "      <td>NaN</td>\n",
       "      <td>NaN</td>\n",
       "    </tr>\n",
       "    <tr>\n",
       "      <th>drinks</th>\n",
       "      <td>59800.0</td>\n",
       "      <td>NaN</td>\n",
       "      <td>NaN</td>\n",
       "      <td>NaN</td>\n",
       "      <td>1.909114</td>\n",
       "      <td>0.68865</td>\n",
       "      <td>0.0</td>\n",
       "      <td>2.0</td>\n",
       "      <td>2.0</td>\n",
       "      <td>2.0</td>\n",
       "      <td>5.0</td>\n",
       "    </tr>\n",
       "    <tr>\n",
       "      <th>drugs</th>\n",
       "      <td>59800.0</td>\n",
       "      <td>NaN</td>\n",
       "      <td>NaN</td>\n",
       "      <td>NaN</td>\n",
       "      <td>0.142525</td>\n",
       "      <td>0.368364</td>\n",
       "      <td>0.0</td>\n",
       "      <td>0.0</td>\n",
       "      <td>0.0</td>\n",
       "      <td>0.0</td>\n",
       "      <td>2.0</td>\n",
       "    </tr>\n",
       "    <tr>\n",
       "      <th>education</th>\n",
       "      <td>59800</td>\n",
       "      <td>10</td>\n",
       "      <td>college/university</td>\n",
       "      <td>30412</td>\n",
       "      <td>NaN</td>\n",
       "      <td>NaN</td>\n",
       "      <td>NaN</td>\n",
       "      <td>NaN</td>\n",
       "      <td>NaN</td>\n",
       "      <td>NaN</td>\n",
       "      <td>NaN</td>\n",
       "    </tr>\n",
       "    <tr>\n",
       "      <th>ethnicity</th>\n",
       "      <td>59800</td>\n",
       "      <td>9</td>\n",
       "      <td>white</td>\n",
       "      <td>33405</td>\n",
       "      <td>NaN</td>\n",
       "      <td>NaN</td>\n",
       "      <td>NaN</td>\n",
       "      <td>NaN</td>\n",
       "      <td>NaN</td>\n",
       "      <td>NaN</td>\n",
       "      <td>NaN</td>\n",
       "    </tr>\n",
       "    <tr>\n",
       "      <th>height</th>\n",
       "      <td>59800.0</td>\n",
       "      <td>NaN</td>\n",
       "      <td>NaN</td>\n",
       "      <td>NaN</td>\n",
       "      <td>68.296438</td>\n",
       "      <td>3.866919</td>\n",
       "      <td>47.0</td>\n",
       "      <td>66.0</td>\n",
       "      <td>68.0</td>\n",
       "      <td>71.0</td>\n",
       "      <td>89.0</td>\n",
       "    </tr>\n",
       "    <tr>\n",
       "      <th>income</th>\n",
       "      <td>59800.0</td>\n",
       "      <td>NaN</td>\n",
       "      <td>NaN</td>\n",
       "      <td>NaN</td>\n",
       "      <td>19866.415853</td>\n",
       "      <td>96522.337233</td>\n",
       "      <td>-1.0</td>\n",
       "      <td>-1.0</td>\n",
       "      <td>-1.0</td>\n",
       "      <td>-1.0</td>\n",
       "      <td>1000000.0</td>\n",
       "    </tr>\n",
       "    <tr>\n",
       "      <th>job</th>\n",
       "      <td>59800</td>\n",
       "      <td>21</td>\n",
       "      <td>rather not say</td>\n",
       "      <td>8599</td>\n",
       "      <td>NaN</td>\n",
       "      <td>NaN</td>\n",
       "      <td>NaN</td>\n",
       "      <td>NaN</td>\n",
       "      <td>NaN</td>\n",
       "      <td>NaN</td>\n",
       "      <td>NaN</td>\n",
       "    </tr>\n",
       "    <tr>\n",
       "      <th>religion</th>\n",
       "      <td>59800</td>\n",
       "      <td>10</td>\n",
       "      <td>rather not say</td>\n",
       "      <td>20171</td>\n",
       "      <td>NaN</td>\n",
       "      <td>NaN</td>\n",
       "      <td>NaN</td>\n",
       "      <td>NaN</td>\n",
       "      <td>NaN</td>\n",
       "      <td>NaN</td>\n",
       "      <td>NaN</td>\n",
       "    </tr>\n",
       "    <tr>\n",
       "      <th>sex</th>\n",
       "      <td>59800.0</td>\n",
       "      <td>NaN</td>\n",
       "      <td>NaN</td>\n",
       "      <td>NaN</td>\n",
       "      <td>0.402475</td>\n",
       "      <td>0.490401</td>\n",
       "      <td>0.0</td>\n",
       "      <td>0.0</td>\n",
       "      <td>0.0</td>\n",
       "      <td>1.0</td>\n",
       "      <td>1.0</td>\n",
       "    </tr>\n",
       "    <tr>\n",
       "      <th>sign</th>\n",
       "      <td>59800</td>\n",
       "      <td>13</td>\n",
       "      <td>rather not say</td>\n",
       "      <td>11017</td>\n",
       "      <td>NaN</td>\n",
       "      <td>NaN</td>\n",
       "      <td>NaN</td>\n",
       "      <td>NaN</td>\n",
       "      <td>NaN</td>\n",
       "      <td>NaN</td>\n",
       "      <td>NaN</td>\n",
       "    </tr>\n",
       "    <tr>\n",
       "      <th>smokes</th>\n",
       "      <td>59800.0</td>\n",
       "      <td>NaN</td>\n",
       "      <td>NaN</td>\n",
       "      <td>NaN</td>\n",
       "      <td>0.267492</td>\n",
       "      <td>0.442655</td>\n",
       "      <td>0.0</td>\n",
       "      <td>0.0</td>\n",
       "      <td>0.0</td>\n",
       "      <td>1.0</td>\n",
       "      <td>1.0</td>\n",
       "    </tr>\n",
       "    <tr>\n",
       "      <th>city</th>\n",
       "      <td>59800</td>\n",
       "      <td>132</td>\n",
       "      <td>san francisco</td>\n",
       "      <td>31450</td>\n",
       "      <td>NaN</td>\n",
       "      <td>NaN</td>\n",
       "      <td>NaN</td>\n",
       "      <td>NaN</td>\n",
       "      <td>NaN</td>\n",
       "      <td>NaN</td>\n",
       "      <td>NaN</td>\n",
       "    </tr>\n",
       "    <tr>\n",
       "      <th>has_kids</th>\n",
       "      <td>59800.0</td>\n",
       "      <td>NaN</td>\n",
       "      <td>NaN</td>\n",
       "      <td>NaN</td>\n",
       "      <td>0.082107</td>\n",
       "      <td>0.27453</td>\n",
       "      <td>0.0</td>\n",
       "      <td>0.0</td>\n",
       "      <td>0.0</td>\n",
       "      <td>0.0</td>\n",
       "      <td>1.0</td>\n",
       "    </tr>\n",
       "    <tr>\n",
       "      <th>straight_comp</th>\n",
       "      <td>59800.0</td>\n",
       "      <td>NaN</td>\n",
       "      <td>NaN</td>\n",
       "      <td>NaN</td>\n",
       "      <td>0.907007</td>\n",
       "      <td>0.290425</td>\n",
       "      <td>0.0</td>\n",
       "      <td>1.0</td>\n",
       "      <td>1.0</td>\n",
       "      <td>1.0</td>\n",
       "      <td>1.0</td>\n",
       "    </tr>\n",
       "    <tr>\n",
       "      <th>gay_comp</th>\n",
       "      <td>59800.0</td>\n",
       "      <td>NaN</td>\n",
       "      <td>NaN</td>\n",
       "      <td>NaN</td>\n",
       "      <td>0.139114</td>\n",
       "      <td>0.346068</td>\n",
       "      <td>0.0</td>\n",
       "      <td>0.0</td>\n",
       "      <td>0.0</td>\n",
       "      <td>0.0</td>\n",
       "      <td>1.0</td>\n",
       "    </tr>\n",
       "    <tr>\n",
       "      <th>likes_dogs</th>\n",
       "      <td>59800.0</td>\n",
       "      <td>NaN</td>\n",
       "      <td>NaN</td>\n",
       "      <td>NaN</td>\n",
       "      <td>0.990686</td>\n",
       "      <td>0.096061</td>\n",
       "      <td>0.0</td>\n",
       "      <td>1.0</td>\n",
       "      <td>1.0</td>\n",
       "      <td>1.0</td>\n",
       "      <td>1.0</td>\n",
       "    </tr>\n",
       "    <tr>\n",
       "      <th>likes_cats</th>\n",
       "      <td>59800.0</td>\n",
       "      <td>NaN</td>\n",
       "      <td>NaN</td>\n",
       "      <td>NaN</td>\n",
       "      <td>0.951622</td>\n",
       "      <td>0.214565</td>\n",
       "      <td>0.0</td>\n",
       "      <td>1.0</td>\n",
       "      <td>1.0</td>\n",
       "      <td>1.0</td>\n",
       "      <td>1.0</td>\n",
       "    </tr>\n",
       "    <tr>\n",
       "      <th>religion_serious</th>\n",
       "      <td>59800.0</td>\n",
       "      <td>NaN</td>\n",
       "      <td>NaN</td>\n",
       "      <td>NaN</td>\n",
       "      <td>0.112241</td>\n",
       "      <td>0.315665</td>\n",
       "      <td>0.0</td>\n",
       "      <td>0.0</td>\n",
       "      <td>0.0</td>\n",
       "      <td>0.0</td>\n",
       "      <td>1.0</td>\n",
       "    </tr>\n",
       "  </tbody>\n",
       "</table>\n",
       "</div>"
      ],
      "text/plain": [
       "                    count unique                 top   freq          mean  \\\n",
       "age               59800.0    NaN                 NaN    NaN     32.343746   \n",
       "body_type           59800      5                 fit  25892           NaN   \n",
       "diet                59800      6            anything  52158           NaN   \n",
       "drinks            59800.0    NaN                 NaN    NaN      1.909114   \n",
       "drugs             59800.0    NaN                 NaN    NaN      0.142525   \n",
       "education           59800     10  college/university  30412           NaN   \n",
       "ethnicity           59800      9               white  33405           NaN   \n",
       "height            59800.0    NaN                 NaN    NaN     68.296438   \n",
       "income            59800.0    NaN                 NaN    NaN  19866.415853   \n",
       "job                 59800     21      rather not say   8599           NaN   \n",
       "religion            59800     10      rather not say  20171           NaN   \n",
       "sex               59800.0    NaN                 NaN    NaN      0.402475   \n",
       "sign                59800     13      rather not say  11017           NaN   \n",
       "smokes            59800.0    NaN                 NaN    NaN      0.267492   \n",
       "city                59800    132       san francisco  31450           NaN   \n",
       "has_kids          59800.0    NaN                 NaN    NaN      0.082107   \n",
       "straight_comp     59800.0    NaN                 NaN    NaN      0.907007   \n",
       "gay_comp          59800.0    NaN                 NaN    NaN      0.139114   \n",
       "likes_dogs        59800.0    NaN                 NaN    NaN      0.990686   \n",
       "likes_cats        59800.0    NaN                 NaN    NaN      0.951622   \n",
       "religion_serious  59800.0    NaN                 NaN    NaN      0.112241   \n",
       "\n",
       "                           std   min   25%   50%   75%        max  \n",
       "age                   9.445258  18.0  26.0  30.0  37.0       69.0  \n",
       "body_type                  NaN   NaN   NaN   NaN   NaN        NaN  \n",
       "diet                       NaN   NaN   NaN   NaN   NaN        NaN  \n",
       "drinks                 0.68865   0.0   2.0   2.0   2.0        5.0  \n",
       "drugs                 0.368364   0.0   0.0   0.0   0.0        2.0  \n",
       "education                  NaN   NaN   NaN   NaN   NaN        NaN  \n",
       "ethnicity                  NaN   NaN   NaN   NaN   NaN        NaN  \n",
       "height                3.866919  47.0  66.0  68.0  71.0       89.0  \n",
       "income            96522.337233  -1.0  -1.0  -1.0  -1.0  1000000.0  \n",
       "job                        NaN   NaN   NaN   NaN   NaN        NaN  \n",
       "religion                   NaN   NaN   NaN   NaN   NaN        NaN  \n",
       "sex                   0.490401   0.0   0.0   0.0   1.0        1.0  \n",
       "sign                       NaN   NaN   NaN   NaN   NaN        NaN  \n",
       "smokes                0.442655   0.0   0.0   0.0   1.0        1.0  \n",
       "city                       NaN   NaN   NaN   NaN   NaN        NaN  \n",
       "has_kids               0.27453   0.0   0.0   0.0   0.0        1.0  \n",
       "straight_comp         0.290425   0.0   1.0   1.0   1.0        1.0  \n",
       "gay_comp              0.346068   0.0   0.0   0.0   0.0        1.0  \n",
       "likes_dogs            0.096061   0.0   1.0   1.0   1.0        1.0  \n",
       "likes_cats            0.214565   0.0   1.0   1.0   1.0        1.0  \n",
       "religion_serious      0.315665   0.0   0.0   0.0   0.0        1.0  "
      ]
     },
     "execution_count": 324,
     "metadata": {},
     "output_type": "execute_result"
    }
   ],
   "source": [
    "X.describe(include='all').T"
   ]
  },
  {
   "cell_type": "markdown",
   "metadata": {},
   "source": [
    "## Step 2: Solve problems with ML"
   ]
  },
  {
   "cell_type": "markdown",
   "metadata": {},
   "source": [
    "Here some questions to answer using ML models:\n",
    "\n",
    "1) Can we predict `sex` from other features?\n",
    "\n",
    "2) Are there features able to predict `sign`?\n",
    "\n",
    "3) Are there features able to predict `job`?\n",
    "\n",
    "4) Can we accurately foresee the `income` using other features?"
   ]
  },
  {
   "cell_type": "code",
   "execution_count": null,
   "metadata": {},
   "outputs": [],
   "source": [
    "from sklearn.model_selection import train_test_split\n",
    "\n",
    "\n",
    "def ML_pipeline(df):\n",
    "    #split train and test sets\n",
    "    X_train,X_test,y_train,y_test = train_test_split(df,test_size=0.33,random_state=42)\n",
    "    \n",
    "    #First: Logistic Regression\n",
    "    "
   ]
  },
  {
   "cell_type": "code",
   "execution_count": 325,
   "metadata": {},
   "outputs": [
    {
     "name": "stdout",
     "output_type": "stream",
     "text": [
      "Found 9 unique tokens.\n"
     ]
    }
   ],
   "source": [
    "from keras.preprocessing.text import Tokenizer\n",
    "\n",
    "samples = ['The cat sat on the mat.', 'The dog ate my homework.']\n",
    "tokenizer = Tokenizer(num_words=1000)\n",
    "tokenizer.fit_on_texts(samples)\n",
    "sequences = tokenizer.texts_to_sequences(samples)\n",
    "\n",
    "one_hot_results = tokenizer.texts_to_matrix(samples, mode='binary')\n",
    "word_index = tokenizer.word_index\n",
    "print('Found %s unique tokens.' % len(word_index))"
   ]
  },
  {
   "cell_type": "code",
   "execution_count": 326,
   "metadata": {},
   "outputs": [
    {
     "name": "stdout",
     "output_type": "stream",
     "text": [
      "[[1, 2, 3, 4, 1, 5], [1, 6, 7, 8, 9]]\n"
     ]
    }
   ],
   "source": [
    "print(sequences)"
   ]
  },
  {
   "cell_type": "code",
   "execution_count": 333,
   "metadata": {},
   "outputs": [
    {
     "name": "stdout",
     "output_type": "stream",
     "text": [
      "[0. 1. 1. 1. 1. 1. 0. 0. 0. 0. 0. 0. 0. 0. 0. 0. 0. 0. 0. 0. 0. 0. 0. 0.\n",
      " 0. 0. 0. 0. 0. 0. 0. 0. 0. 0. 0. 0. 0. 0. 0. 0. 0. 0. 0. 0. 0. 0. 0. 0.\n",
      " 0. 0. 0. 0. 0. 0. 0. 0. 0. 0. 0. 0. 0. 0. 0. 0. 0. 0. 0. 0. 0. 0. 0. 0.\n",
      " 0. 0. 0. 0. 0. 0. 0. 0. 0. 0. 0. 0. 0. 0. 0. 0. 0. 0. 0. 0. 0. 0. 0. 0.\n",
      " 0. 0. 0. 0. 0. 0. 0. 0. 0. 0. 0. 0. 0. 0. 0. 0. 0. 0. 0. 0. 0. 0. 0. 0.\n",
      " 0. 0. 0. 0. 0. 0. 0. 0. 0. 0. 0. 0. 0. 0. 0. 0. 0. 0. 0. 0. 0. 0. 0. 0.\n",
      " 0. 0. 0. 0. 0. 0. 0. 0. 0. 0. 0. 0. 0. 0. 0. 0. 0. 0. 0. 0. 0. 0. 0. 0.\n",
      " 0. 0. 0. 0. 0. 0. 0. 0. 0. 0. 0. 0. 0. 0. 0. 0. 0. 0. 0. 0. 0. 0. 0. 0.\n",
      " 0. 0. 0. 0. 0. 0. 0. 0. 0. 0. 0. 0. 0. 0. 0. 0. 0. 0. 0. 0. 0. 0. 0. 0.\n",
      " 0. 0. 0. 0. 0. 0. 0. 0. 0. 0. 0. 0. 0. 0. 0. 0. 0. 0. 0. 0. 0. 0. 0. 0.\n",
      " 0. 0. 0. 0. 0. 0. 0. 0. 0. 0. 0. 0. 0. 0. 0. 0. 0. 0. 0. 0. 0. 0. 0. 0.\n",
      " 0. 0. 0. 0. 0. 0. 0. 0. 0. 0. 0. 0. 0. 0. 0. 0. 0. 0. 0. 0. 0. 0. 0. 0.\n",
      " 0. 0. 0. 0. 0. 0. 0. 0. 0. 0. 0. 0. 0. 0. 0. 0. 0. 0. 0. 0. 0. 0. 0. 0.\n",
      " 0. 0. 0. 0. 0. 0. 0. 0. 0. 0. 0. 0. 0. 0. 0. 0. 0. 0. 0. 0. 0. 0. 0. 0.\n",
      " 0. 0. 0. 0. 0. 0. 0. 0. 0. 0. 0. 0. 0. 0. 0. 0. 0. 0. 0. 0. 0. 0. 0. 0.\n",
      " 0. 0. 0. 0. 0. 0. 0. 0. 0. 0. 0. 0. 0. 0. 0. 0. 0. 0. 0. 0. 0. 0. 0. 0.\n",
      " 0. 0. 0. 0. 0. 0. 0. 0. 0. 0. 0. 0. 0. 0. 0. 0. 0. 0. 0. 0. 0. 0. 0. 0.\n",
      " 0. 0. 0. 0. 0. 0. 0. 0. 0. 0. 0. 0. 0. 0. 0. 0. 0. 0. 0. 0. 0. 0. 0. 0.\n",
      " 0. 0. 0. 0. 0. 0. 0. 0. 0. 0. 0. 0. 0. 0. 0. 0. 0. 0. 0. 0. 0. 0. 0. 0.\n",
      " 0. 0. 0. 0. 0. 0. 0. 0. 0. 0. 0. 0. 0. 0. 0. 0. 0. 0. 0. 0. 0. 0. 0. 0.\n",
      " 0. 0. 0. 0. 0. 0. 0. 0. 0. 0. 0. 0. 0. 0. 0. 0. 0. 0. 0. 0. 0. 0. 0. 0.\n",
      " 0. 0. 0. 0. 0. 0. 0. 0. 0. 0. 0. 0. 0. 0. 0. 0. 0. 0. 0. 0. 0. 0. 0. 0.\n",
      " 0. 0. 0. 0. 0. 0. 0. 0. 0. 0. 0. 0. 0. 0. 0. 0. 0. 0. 0. 0. 0. 0. 0. 0.\n",
      " 0. 0. 0. 0. 0. 0. 0. 0. 0. 0. 0. 0. 0. 0. 0. 0. 0. 0. 0. 0. 0. 0. 0. 0.\n",
      " 0. 0. 0. 0. 0. 0. 0. 0. 0. 0. 0. 0. 0. 0. 0. 0. 0. 0. 0. 0. 0. 0. 0. 0.\n",
      " 0. 0. 0. 0. 0. 0. 0. 0. 0. 0. 0. 0. 0. 0. 0. 0. 0. 0. 0. 0. 0. 0. 0. 0.\n",
      " 0. 0. 0. 0. 0. 0. 0. 0. 0. 0. 0. 0. 0. 0. 0. 0. 0. 0. 0. 0. 0. 0. 0. 0.\n",
      " 0. 0. 0. 0. 0. 0. 0. 0. 0. 0. 0. 0. 0. 0. 0. 0. 0. 0. 0. 0. 0. 0. 0. 0.\n",
      " 0. 0. 0. 0. 0. 0. 0. 0. 0. 0. 0. 0. 0. 0. 0. 0. 0. 0. 0. 0. 0. 0. 0. 0.\n",
      " 0. 0. 0. 0. 0. 0. 0. 0. 0. 0. 0. 0. 0. 0. 0. 0. 0. 0. 0. 0. 0. 0. 0. 0.\n",
      " 0. 0. 0. 0. 0. 0. 0. 0. 0. 0. 0. 0. 0. 0. 0. 0. 0. 0. 0. 0. 0. 0. 0. 0.\n",
      " 0. 0. 0. 0. 0. 0. 0. 0. 0. 0. 0. 0. 0. 0. 0. 0. 0. 0. 0. 0. 0. 0. 0. 0.\n",
      " 0. 0. 0. 0. 0. 0. 0. 0. 0. 0. 0. 0. 0. 0. 0. 0. 0. 0. 0. 0. 0. 0. 0. 0.\n",
      " 0. 0. 0. 0. 0. 0. 0. 0. 0. 0. 0. 0. 0. 0. 0. 0. 0. 0. 0. 0. 0. 0. 0. 0.\n",
      " 0. 0. 0. 0. 0. 0. 0. 0. 0. 0. 0. 0. 0. 0. 0. 0. 0. 0. 0. 0. 0. 0. 0. 0.\n",
      " 0. 0. 0. 0. 0. 0. 0. 0. 0. 0. 0. 0. 0. 0. 0. 0. 0. 0. 0. 0. 0. 0. 0. 0.\n",
      " 0. 0. 0. 0. 0. 0. 0. 0. 0. 0. 0. 0. 0. 0. 0. 0. 0. 0. 0. 0. 0. 0. 0. 0.\n",
      " 0. 0. 0. 0. 0. 0. 0. 0. 0. 0. 0. 0. 0. 0. 0. 0. 0. 0. 0. 0. 0. 0. 0. 0.\n",
      " 0. 0. 0. 0. 0. 0. 0. 0. 0. 0. 0. 0. 0. 0. 0. 0. 0. 0. 0. 0. 0. 0. 0. 0.\n",
      " 0. 0. 0. 0. 0. 0. 0. 0. 0. 0. 0. 0. 0. 0. 0. 0. 0. 0. 0. 0. 0. 0. 0. 0.\n",
      " 0. 0. 0. 0. 0. 0. 0. 0. 0. 0. 0. 0. 0. 0. 0. 0. 0. 0. 0. 0. 0. 0. 0. 0.\n",
      " 0. 0. 0. 0. 0. 0. 0. 0. 0. 0. 0. 0. 0. 0. 0. 0.]\n"
     ]
    }
   ],
   "source": [
    "print(one_hot_results[0])"
   ]
  },
  {
   "cell_type": "code",
   "execution_count": 330,
   "metadata": {},
   "outputs": [
    {
     "name": "stdout",
     "output_type": "stream",
     "text": [
      "{'the': 1, 'cat': 2, 'sat': 3, 'on': 4, 'mat': 5, 'dog': 6, 'ate': 7, 'my': 8, 'homework': 9}\n"
     ]
    }
   ],
   "source": [
    "print(word_index)"
   ]
  },
  {
   "cell_type": "code",
   "execution_count": null,
   "metadata": {},
   "outputs": [],
   "source": []
  }
 ],
 "metadata": {
  "kernelspec": {
   "display_name": "Python 3 (ipykernel)",
   "language": "python",
   "name": "python3"
  },
  "language_info": {
   "codemirror_mode": {
    "name": "ipython",
    "version": 3
   },
   "file_extension": ".py",
   "mimetype": "text/x-python",
   "name": "python",
   "nbconvert_exporter": "python",
   "pygments_lexer": "ipython3",
   "version": "3.9.12"
  }
 },
 "nbformat": 4,
 "nbformat_minor": 4
}
