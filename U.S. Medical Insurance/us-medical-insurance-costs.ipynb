{
 "cells": [
  {
   "cell_type": "markdown",
   "metadata": {},
   "source": [
    "# U.S. Medical Insurance Costs"
   ]
  },
  {
   "cell_type": "markdown",
   "metadata": {},
   "source": [
    "The project consists on the analysis of data concerning the insurance costs in the U.S. The file given, \"insurance.csv\", contains the following data for each individual considered:\n",
    "\n",
    "- age: integer number\n",
    "- sex: male/female\n",
    "- bmi: float number\n",
    "- number of children: integer number\n",
    "- smoker: yes/no\n",
    "- region: 4 differen regions available --> NorthWest, SouthWest, NorthEast, SouthEast\n",
    "- charges: integer number "
   ]
  },
  {
   "cell_type": "markdown",
   "metadata": {},
   "source": [
    "## Step 1: load data from csv"
   ]
  },
  {
   "cell_type": "markdown",
   "metadata": {},
   "source": [
    "The first thing to do is retrieve our data from the file and save them in useful variables.\n",
    "Since in the original file there is no information about names, it seems more appropriate save all data in lists more than in a dictionary (a dictionary would have been perfect if we would have had names as key to whom associate each row - i.e another dictionary - of our csv file as variable)."
   ]
  },
  {
   "cell_type": "markdown",
   "metadata": {},
   "source": [
    "Starting from our lists, we can now make several evaluations, which would give us some insights about how those parameters affect the insurance costs in the population analyzed"
   ]
  },
  {
   "cell_type": "code",
   "execution_count": 61,
   "metadata": {},
   "outputs": [],
   "source": [
    "import csv\n",
    "\n",
    "# open file \"insurance.csv\" and save all the information in lists, which will be used to make the analysis\n",
    "# age, bmi, children and charges will be converted into numbers\n",
    "\n",
    "with open('insurance.csv', newline = '') as insurance_data:\n",
    "    insurance_dict = csv.DictReader(insurance_data, delimiter=',')\n",
    "    ages = []\n",
    "    sex = []\n",
    "    bmi = []\n",
    "    children = []\n",
    "    smoker = []\n",
    "    region = []\n",
    "    charges = []\n",
    "    for row in insurance_dict:\n",
    "        ages.append(int(row['age']))\n",
    "        sex.append(row['sex'])\n",
    "        bmi.append(float(row['bmi']))\n",
    "        children.append(int(row['children']))\n",
    "        smoker.append(row['smoker'])\n",
    "        region.append(row['region'])\n",
    "        charges.append(float(row['charges']))"
   ]
  },
  {
   "cell_type": "markdown",
   "metadata": {},
   "source": [
    "Let's first check how big is the total population of our analysis"
   ]
  },
  {
   "cell_type": "code",
   "execution_count": 23,
   "metadata": {
    "scrolled": true
   },
   "outputs": [
    {
     "name": "stdout",
     "output_type": "stream",
     "text": [
      "1338\n"
     ]
    }
   ],
   "source": [
    "total_population = len(ages)\n",
    "print(total_population)"
   ]
  },
  {
   "cell_type": "markdown",
   "metadata": {},
   "source": [
    "So we have data for a total of 1338 individuals. This will be useful to make some statistics out of the data "
   ]
  },
  {
   "cell_type": "markdown",
   "metadata": {},
   "source": [
    "## Step 2: data evaluation"
   ]
  },
  {
   "cell_type": "markdown",
   "metadata": {},
   "source": [
    "One last thing to do before the real analysis is check whether our population is reliable or not, i.e: whether the population is representative of all the possible aspects that might affect the analysis or, in our specific case, the insurance cost.\n",
    "\n",
    "Let's start with the __categorical variables__!\n",
    "\n",
    "For instance, let's check how many males and females are inside our population"
   ]
  },
  {
   "cell_type": "code",
   "execution_count": 33,
   "metadata": {
    "scrolled": true
   },
   "outputs": [
    {
     "name": "stdout",
     "output_type": "stream",
     "text": [
      "number of males: 676, which is the 50.5% of the total population\n",
      "number of females: 662, which is the 49.5% of the total population\n"
     ]
    }
   ],
   "source": [
    "male_count = sex.count('male')\n",
    "female_count = sex.count('female')\n",
    "print('number of males: ' + str(male_count) + ', which is the ' + str(round(male_count/total_population*100,1)) + '% of the total population')\n",
    "print('number of females: ' + str(female_count) + ', which is the ' + str(round(female_count/total_population*100,1)) + '% of the total population')"
   ]
  },
  {
   "cell_type": "markdown",
   "metadata": {},
   "source": [
    "Correctly, half of the population are males, half are females. \n",
    "Let's check now the number of smoker, in general and between males and females:"
   ]
  },
  {
   "cell_type": "code",
   "execution_count": 34,
   "metadata": {},
   "outputs": [
    {
     "name": "stdout",
     "output_type": "stream",
     "text": [
      "number of smokers: 274, which is the 20.5% of the total population\n",
      "number of male smokers: 159, which is the 23.5% of the total male population\n",
      "number of female smokers: 115, which is the 17.4% of the total female population\n"
     ]
    }
   ],
   "source": [
    "# Smoker percentage inside the population\n",
    "\n",
    "smoker_count = smoker.count('yes')\n",
    "print('number of smokers: ' + str(smoker_count) + ', which is the ' + str(round(smoker_count/total_population*100,1)) + '% of the total population')\n",
    "\n",
    "# To check smokers inside male and female groups, we can create a temporary dictionary containing sex as key and smoker as values\n",
    "sex_smoke_dict={'male':[], 'female':[]}\n",
    "for count in range(len(sex)):\n",
    "    if sex[count] == 'male':\n",
    "        sex_smoke_dict['male'].append(smoker[count])\n",
    "    elif sex[count] == 'female':\n",
    "        sex_smoke_dict['female'].append(smoker[count])\n",
    "\n",
    "male_smokers = sex_smoke_dict['male'].count('yes')    \n",
    "female_smokers = sex_smoke_dict['female'].count('yes')  \n",
    "print('number of male smokers: ' + str(male_smokers) + ', which is the ' + str(round(male_smokers/male_count*100,1)) + '% of the total male population')\n",
    "print('number of female smokers: ' + str(female_smokers) + ', which is the ' + str(round(female_smokers/female_count*100,1)) + '% of the total female population')"
   ]
  },
  {
   "cell_type": "markdown",
   "metadata": {},
   "source": [
    "The amount of smokers equal to 20.5 % of the total population seems in line with global data regarding smokers in the US (see this [link](https://www.americashealthrankings.org/explore/annual/measure/Smoking))...even higher, since in the US smokers are about 15% of the total population"
   ]
  },
  {
   "cell_type": "markdown",
   "metadata": {},
   "source": [
    "Also the percentage of male and female smokers is in line with global data (see this [link](https://www.cdc.gov/tobacco/campaign/tips/resources/data/cigarette-smoking-in-united-states.html))...still a little bit overestimated, but ok overall"
   ]
  },
  {
   "cell_type": "markdown",
   "metadata": {},
   "source": [
    "Let's see now the distribution among regions:"
   ]
  },
  {
   "cell_type": "code",
   "execution_count": 39,
   "metadata": {},
   "outputs": [],
   "source": [
    "nw_count = region.count('northwest')\n",
    "sw_count = region.count('southwest')\n",
    "ne_count = region.count('northeast')\n",
    "se_count = region.count('southeast')\n"
   ]
  },
  {
   "cell_type": "code",
   "execution_count": 40,
   "metadata": {
    "scrolled": true
   },
   "outputs": [
    {
     "name": "stdout",
     "output_type": "stream",
     "text": [
      "number of people from NorthWest: 325, which is the 24.3% of the total population\n",
      "number of people from SouthWest: 325, which is the 24.3% of the total population\n",
      "number of people from NorthEast: 324, which is the 24.2% of the total population\n",
      "number of people from SouthEast: 364, which is the 27.2% of the total population\n"
     ]
    }
   ],
   "source": [
    "print('number of people from NorthWest: ' + str(nw_count) + ', which is the ' + str(round(nw_count/total_population*100,1)) + '% of the total population')\n",
    "print('number of people from SouthWest: ' + str(sw_count) + ', which is the ' + str(round(sw_count/total_population*100,1)) + '% of the total population')\n",
    "print('number of people from NorthEast: ' + str(ne_count) + ', which is the ' + str(round(ne_count/total_population*100,1)) + '% of the total population')\n",
    "print('number of people from SouthEast: ' + str(se_count) + ', which is the ' + str(round(se_count/total_population*100,1)) + '% of the total population')"
   ]
  },
  {
   "cell_type": "markdown",
   "metadata": {},
   "source": [
    "Each region is correctly represented by about 25% of the total population.\n",
    "\n",
    "Now let's move to the __quantitative variables__:\n",
    "\n",
    "For instance, let's see the distribution of ages. We are going to classify ages in slots (each including a range of 10 years), starting from 16 years old (age from which people is considered \"adult\" in the U.S.) up to the max value inside the population, which is:"
   ]
  },
  {
   "cell_type": "code",
   "execution_count": 55,
   "metadata": {},
   "outputs": [
    {
     "data": {
      "text/plain": [
       "64"
      ]
     },
     "execution_count": 55,
     "metadata": {},
     "output_type": "execute_result"
    }
   ],
   "source": [
    "max(ages) # After 65 years old health insurance becomes free"
   ]
  },
  {
   "cell_type": "code",
   "execution_count": 53,
   "metadata": {},
   "outputs": [
    {
     "name": "stdout",
     "output_type": "stream",
     "text": [
      "From 16 to 25 years old: 306 (22.9% of the total population)\n",
      "From 26 to 35 years old: 240 (17.9% of the total population)\n",
      "From 36 to 45 years old: 239 (17.9% of the total population)\n",
      "From 46 to 55 years old: 255 (19.1% of the total population)\n",
      "From 56 to 65 years old: 190 (14.2% of the total population)\n"
     ]
    }
   ],
   "source": [
    "ages_16_25 = 0\n",
    "ages_26_35 = 0\n",
    "ages_36_45 = 0\n",
    "ages_46_55 = 0\n",
    "ages_56_65 = 0\n",
    "\n",
    "for index in range(total_population):\n",
    "    if ages[index] > 16 and ages[index] <= 25:\n",
    "        ages_16_25 += 1\n",
    "    elif ages[index] > 26 and ages[index] <= 35:\n",
    "        ages_26_35 += 1\n",
    "    elif ages[index] > 36 and ages[index] <= 45:\n",
    "        ages_36_45 += 1\n",
    "    elif ages[index] > 46 and ages[index] <= 55:\n",
    "        ages_46_55 += 1\n",
    "    elif ages[index] > 56 and ages[index] <= 65:\n",
    "        ages_56_65 += 1\n",
    "        \n",
    "print('From 16 to 25 years old: ' + str(ages_16_25) + ' (' + str(round(ages_16_25/total_population * 100,1)) + '% of the total population)')\n",
    "print('From 26 to 35 years old: ' + str(ages_26_35) + ' (' + str(round(ages_26_35/total_population * 100,1)) + '% of the total population)')\n",
    "print('From 36 to 45 years old: ' + str(ages_36_45) + ' (' + str(round(ages_36_45/total_population * 100,1)) + '% of the total population)')\n",
    "print('From 46 to 55 years old: ' + str(ages_46_55) + ' (' + str(round(ages_46_55/total_population * 100,1)) + '% of the total population)')\n",
    "print('From 56 to 65 years old: ' + str(ages_56_65) + ' (' + str(round(ages_56_65/total_population * 100,1)) + '% of the total population)')"
   ]
  },
  {
   "cell_type": "markdown",
   "metadata": {},
   "source": [
    "It seems that the population is fairly distributed among all the age ranges of interest, with a slight increase in the range 16-25 years old (range of ages when you start to buy health insurance) and a slight decrease in the range 56-65 years old (range of ages just before the threshold of free health insurance)"
   ]
  },
  {
   "cell_type": "markdown",
   "metadata": {},
   "source": [
    "Let's do the same evaulation with BMI, knowing that the min and max limit BMI in the population are:"
   ]
  },
  {
   "cell_type": "code",
   "execution_count": 56,
   "metadata": {},
   "outputs": [
    {
     "name": "stdout",
     "output_type": "stream",
     "text": [
      "15.96\n",
      "53.13\n"
     ]
    }
   ],
   "source": [
    "print(min(bmi))\n",
    "print(max(bmi))"
   ]
  },
  {
   "cell_type": "markdown",
   "metadata": {},
   "source": [
    "To classify BMIs, we'll use the cut-offs defined by WHO (see this [link](https://apps.who.int/iris/bitstream/handle/10665/43190/9241593024_eng.pdf)):\n",
    "\n",
    "- < 16.0 :     Underweight (Severe thinness)\n",
    "- 16 - 16.9:   Underweight (Moderate thinness)\n",
    "- 17 - 18.4:   Underweight (Mild thinness)\n",
    "- 18.5 - 24.9: Normal range\n",
    "- 25.0 - 29.9: Overweight (Pre-obese)\n",
    "- 30 - 34.9:   Obese (Class I)\n",
    "- 35 - 39.9:   Obese (Class II)\n",
    "- ≥ 40:        Obese (Class III)\n",
    "\n",
    "Let's check the overall distribution and the distribution between males and females:"
   ]
  },
  {
   "cell_type": "code",
   "execution_count": 68,
   "metadata": {},
   "outputs": [
    {
     "name": "stdout",
     "output_type": "stream",
     "text": [
      "BMI <16: 1 (0.1% of the total population), 100.0% males, 0.0% females\n",
      "BMI 16-16.9: 2 (0.1% of the total population), 50.0% males, 50.0% females\n",
      "BMI 17-18.4: 17 (1.3% of the total population), 35.3% males, 64.7% females\n",
      "BMI 18.5-24.9: 225 (16.8% of the total population), 48.0% males, 52.0% females\n",
      "BMI 25-29.9: 386 (28.8% of the total population), 48.4% males, 51.6% females\n",
      "BMI 30-34.9: 391 (29.2% of the total population), 52.2% males, 47.8% females\n",
      "BMI 35-39.9: 225 (16.8% of the total population), 52.4% males, 47.6% females\n",
      "BMI >40: 91 (6.8% of the total population), 56.0% males, 44.0% females\n"
     ]
    }
   ],
   "source": [
    "# initialize variables for overall BMI distribution evaluation\n",
    "underweight_1 = 0\n",
    "underweight_2 = 0\n",
    "underweight_3 = 0\n",
    "normal = 0\n",
    "overweight = 0\n",
    "obese_1 = 0\n",
    "obese_2 = 0\n",
    "obese_3 = 0\n",
    "\n",
    "# initialize dictionary for male BMI distribution evaluation\n",
    "bmi_male = {\n",
    "    'underweight_1' : 0,\n",
    "    'underweight_2' : 0,\n",
    "    'underweight_3' : 0,\n",
    "    'normal' : 0,\n",
    "    'overweight' : 0,\n",
    "    'obese_1' : 0,\n",
    "    'obese_2' : 0,\n",
    "    'obese_3' : 0\n",
    "}\n",
    "\n",
    "# initialize dictionary for female BMI distribution evaluation\n",
    "bmi_female = {\n",
    "    'underweight_1' : 0,\n",
    "    'underweight_2' : 0,\n",
    "    'underweight_3' : 0,\n",
    "    'normal' : 0,\n",
    "    'overweight' : 0,\n",
    "    'obese_1' : 0,\n",
    "    'obese_2' : 0,\n",
    "    'obese_3' : 0\n",
    "}\n",
    "\n",
    "# classification of bmi values inside popolation according WHO ranges\n",
    "for index in range(total_population):\n",
    "    if bmi[index] < 16:\n",
    "        underweight_1 += 1 # overall distribution\n",
    "        if sex[index] == 'male':\n",
    "            bmi_male['underweight_1'] += 1 # male distribution\n",
    "        else:\n",
    "            bmi_female['underweight_1'] += 1 # female distribution\n",
    "    elif bmi[index] >= 16 and bmi[index] < 17:\n",
    "        underweight_2 += 1\n",
    "        if sex[index] == 'male':\n",
    "            bmi_male['underweight_2'] += 1\n",
    "        else:\n",
    "            bmi_female['underweight_2'] += 1\n",
    "    elif bmi[index] >= 17 and bmi[index] < 18.5:\n",
    "        underweight_3 += 1\n",
    "        if sex[index] == 'male':\n",
    "            bmi_male['underweight_3'] += 1\n",
    "        else:\n",
    "            bmi_female['underweight_3'] += 1\n",
    "    elif bmi[index] >= 18.5 and bmi[index] < 25:\n",
    "        normal += 1\n",
    "        if sex[index] == 'male':\n",
    "            bmi_male['normal'] += 1\n",
    "        else:\n",
    "            bmi_female['normal'] += 1\n",
    "    elif bmi[index] >= 25 and bmi[index] < 30:\n",
    "        overweight += 1\n",
    "        if sex[index] == 'male':\n",
    "            bmi_male['overweight'] += 1\n",
    "        else:\n",
    "            bmi_female['overweight'] += 1\n",
    "    elif bmi[index] >= 30 and bmi[index] < 35:\n",
    "        obese_1 += 1\n",
    "        if sex[index] == 'male':\n",
    "            bmi_male['obese_1'] += 1\n",
    "        else:\n",
    "            bmi_female['obese_1'] += 1\n",
    "    elif bmi[index] >= 35 and bmi[index] < 40:\n",
    "        obese_2 += 1\n",
    "        if sex[index] == 'male':\n",
    "            bmi_male['obese_2'] += 1\n",
    "        else:\n",
    "            bmi_female['obese_2'] += 1\n",
    "    else:\n",
    "        obese_3 += 1\n",
    "        if sex[index] == 'male':\n",
    "            bmi_male['obese_3'] += 1\n",
    "        else:\n",
    "            bmi_female['obese_3'] += 1\n",
    "              \n",
    "print('BMI <16: ' + str(underweight_1) + ' (' + str(round(underweight_1/total_population * 100,1)) + '% of the total population), ' + str(round(bmi_male['underweight_1']/underweight_1*100,1)) + '% males, ' + str(round(bmi_female['underweight_1']/underweight_1*100,1)) + '% females')\n",
    "print('BMI 16-16.9: ' + str(underweight_2) + ' (' + str(round(underweight_2/total_population * 100,1)) + '% of the total population), ' + str(round(bmi_male['underweight_2']/underweight_2*100,1)) + '% males, ' + str(round(bmi_female['underweight_2']/underweight_2*100,1)) + '% females')\n",
    "print('BMI 17-18.4: ' + str(underweight_3) + ' (' + str(round(underweight_3/total_population * 100,1)) + '% of the total population), ' + str(round(bmi_male['underweight_3']/underweight_3*100,1)) + '% males, ' + str(round(bmi_female['underweight_3']/underweight_3*100,1)) + '% females')\n",
    "print('BMI 18.5-24.9: ' + str(normal) + ' (' + str(round(normal/total_population * 100,1)) + '% of the total population), ' + str(round(bmi_male['normal']/normal*100,1)) + '% males, ' + str(round(bmi_female['normal']/normal*100,1)) + '% females')\n",
    "print('BMI 25-29.9: ' + str(overweight) + ' (' + str(round(overweight/total_population * 100,1)) + '% of the total population), ' + str(round(bmi_male['overweight']/overweight*100,1)) + '% males, ' + str(round(bmi_female['overweight']/overweight*100,1)) + '% females')\n",
    "print('BMI 30-34.9: ' + str(obese_1) + ' (' + str(round(obese_1/total_population * 100,1)) + '% of the total population), ' + str(round(bmi_male['obese_1']/obese_1*100,1)) + '% males, ' + str(round(bmi_female['obese_1']/obese_1*100,1)) + '% females')\n",
    "print('BMI 35-39.9: ' + str(obese_2) + ' (' + str(round(obese_2/total_population * 100,1)) + '% of the total population), ' + str(round(bmi_male['obese_2']/obese_2*100,1)) + '% males, ' + str(round(bmi_female['obese_2']/obese_2*100,1)) + '% females')\n",
    "print('BMI >40: ' + str(obese_3) + ' (' + str(round(obese_3/total_population * 100,1)) + '% of the total population), ' + str(round(bmi_male['obese_3']/obese_3*100,1)) + '% males, ' + str(round(bmi_female['obese_3']/obese_3*100,1)) + '% females')"
   ]
  },
  {
   "cell_type": "markdown",
   "metadata": {},
   "source": [
    "Accoding to [withing company](https://obs.withings.com/us/weight), in the U.S. there's 34.3% of the people with normal BMI, and 64.2% overweight or obese. Compared to these data, our population is shifted towards higher BMIs for about 15-18%. This may be due to the fact an insurance cost analysis could be more appealing for people who spend more for health insurance, and thus higher BMI can be useful for the analysis."
   ]
  },
  {
   "cell_type": "markdown",
   "metadata": {},
   "source": [
    "Finally, let's check the distribution of number of children. The maximum number of children in the population is:"
   ]
  },
  {
   "cell_type": "code",
   "execution_count": 69,
   "metadata": {},
   "outputs": [
    {
     "name": "stdout",
     "output_type": "stream",
     "text": [
      "5\n"
     ]
    }
   ],
   "source": [
    "print(max(children))"
   ]
  },
  {
   "cell_type": "markdown",
   "metadata": {},
   "source": [
    "Thus, we check the distribution between 0 and 5:"
   ]
  },
  {
   "cell_type": "code",
   "execution_count": 77,
   "metadata": {},
   "outputs": [
    {
     "name": "stdout",
     "output_type": "stream",
     "text": [
      "42.9% of the population has no children (574 in total)\n",
      "24.2% of the population has 1 child (324 in total)\n",
      "17.9% of the population has 2 children (240 in total)\n",
      "11.7% of the population has 3 children (157 in total)\n",
      "1.9% of the population has 4 children (25 in total)\n",
      "1.3% of the population has 5 children (18 in total)\n"
     ]
    }
   ],
   "source": [
    "child_0 = children.count(0)\n",
    "child_1 = children.count(1)\n",
    "child_2 = children.count(2)\n",
    "child_3 = children.count(3)\n",
    "child_4 = children.count(4)\n",
    "child_5 = children.count(5)\n",
    "\n",
    "print(str(round(child_0/total_population*100,1)) + '% of the population has no children (' + str(child_0) + ' in total)')\n",
    "print(str(round(child_1/total_population*100,1)) + '% of the population has 1 child (' + str(child_1) + ' in total)')\n",
    "print(str(round(child_2/total_population*100,1)) + '% of the population has 2 children (' + str(child_2) + ' in total)')\n",
    "print(str(round(child_3/total_population*100,1)) + '% of the population has 3 children (' + str(child_3) + ' in total)')\n",
    "print(str(round(child_4/total_population*100,1)) + '% of the population has 4 children (' + str(child_4) + ' in total)')\n",
    "print(str(round(child_5/total_population*100,1)) + '% of the population has 5 children (' + str(child_5) + ' in total)')"
   ]
  },
  {
   "cell_type": "markdown",
   "metadata": {},
   "source": [
    "Looking at the general data from [census](https://www.census.gov/data/tables/time-series/demo/families/households.html), the distribution inside our population is more or less in agreement"
   ]
  },
  {
   "cell_type": "markdown",
   "metadata": {},
   "source": [
    "## Step 3: Data analysis"
   ]
  },
  {
   "cell_type": "markdown",
   "metadata": {},
   "source": [
    "The key questions of this analysis are:\n",
    "- Who is more incline to spend an higher amount of money in health insurance?\n",
    "- What affect most the costs of health insurance? How can those people save money from that cost?\n",
    "\n",
    "A good way to answer those questions is to create a function that gives us some insights about individuals with higher insurance costs: if we define a cost threshold, the function will analyze data only for people with insurance costs higher than the threshold. This way, we can find some common patterns that define the average profile of a \"high-insurance-cost\" user."
   ]
  },
  {
   "cell_type": "code",
   "execution_count": 156,
   "metadata": {},
   "outputs": [],
   "source": [
    "def higher_cost_analysis(threshold, ages, sex, bmi, children, smoker,region, charges, total_population):\n",
    "    # The \"higher_\" prefix of each of the following variables reminds us that we are analyzing people with high insurance costs\n",
    "    higher_tot = 0 # total number of individuals paying a insurance cost >= treshold\n",
    "    higher_charges_tot = 0 # variable that will give the average insurance charge\n",
    "    higher_males = 0 # counter for male individuals\n",
    "    higher_females = 0 # counter for female individuals\n",
    "    higher_smoker = 0 # conuter for smoker individuals\n",
    "    higher_children = 0 # variable that will give the average number of children\n",
    "    higher_bmi = 0 # variable that will give the average bmi\n",
    "    higher_age = 0 # variable that will give the average age\n",
    "    # 4 variables detecting the region the individuals come from\n",
    "    higher_ne = 0\n",
    "    higher_se = 0\n",
    "    higher_nw = 0\n",
    "    higher_sw = 0\n",
    "    for index in range(total_population):\n",
    "        if charges[index] >= threshold:\n",
    "            higher_tot += 1 # increment the number of individuals with insurance costs >= threshold\n",
    "            higher_charges_tot += charges[index]\n",
    "            higher_age += ages[index]\n",
    "            # let's find if they are male or female\n",
    "            if sex[index] == 'male':\n",
    "                higher_males += 1\n",
    "            else:\n",
    "                higher_females += 1\n",
    "            # let's find if they are smokers\n",
    "            if smoker[index] == 'yes':\n",
    "                higher_smoker += 1\n",
    "            # let's sum the number of children\n",
    "            higher_children += children[index]\n",
    "            \n",
    "            #let's sum the bmi\n",
    "            higher_bmi += bmi[index]\n",
    "            \n",
    "            # finally, let's definre which region they come from\n",
    "            if region[index] == 'northwest':\n",
    "                higher_nw += 1\n",
    "            elif region[index] == 'northeast':\n",
    "                higher_ne += 1\n",
    "            elif region[index] == 'southwest':\n",
    "                higher_sw += 1\n",
    "            elif region[index] == 'southeast':\n",
    "                higher_se += 1\n",
    "            \n",
    "    # And now let's make some statistics\n",
    "    print('Individuals that pay more for health insurance inside the population are: \\n')\n",
    "    # males vs females\n",
    "    if higher_males > higher_females:\n",
    "         print('\\t - Mainly male, with a percentage of ' + str(round(higher_males/higher_tot*100,1)) + '%\\n')\n",
    "    elif higher_males < higher_females:\n",
    "        print('\\t - Mainly female, with a percentage of ' + str(round(higher_females/higher_tot*100,1)) + '%\\n')\n",
    "    else:\n",
    "        print('\\t - Equally distributed between man and women\\n')\n",
    "    \n",
    "    # age\n",
    "    print('\\t - ' + str(round(higher_age/higher_tot,1)) + ' years old in average\\n')\n",
    "    \n",
    "    # smoker vs non-smoker\n",
    "    print('\\t - Smoker in the ' + str(round(higher_smoker/higher_tot*100,1)) + '% of the cases\\n')\n",
    "            \n",
    "    # bmi\n",
    "    print('\\t - With an average bmi of ' + str(round(higher_bmi/higher_tot,1)) + '\\n')\n",
    "                  \n",
    "    # children\n",
    "    print('\\t - With an average of ' + str(round(higher_children/higher_tot,1)) + ' children\\n')\n",
    "                  \n",
    "    # region\n",
    "    print('\\t - Geographically distributed in the following way:\\n')\n",
    "    print('\\t \\t * Northwest: ' + str(round(higher_nw/higher_tot*100,1)) + '%\\n')\n",
    "    print('\\t \\t * Northeast: ' + str(round(higher_ne/higher_tot*100,1)) + '%\\n')\n",
    "    print('\\t \\t * Southwest: ' + str(round(higher_sw/higher_tot*100,1)) + '%\\n')\n",
    "    print('\\t \\t * Southeast: ' + str(round(higher_se/higher_tot*100,1)) + '%\\n')\n",
    "            \n",
    "    # mean insurance cost\n",
    "    print('Those individuals pay for health insurance in average ' + str(round(higher_charges_tot/higher_tot,1)) + ' dollars')"
   ]
  },
  {
   "cell_type": "markdown",
   "metadata": {},
   "source": [
    "Before running our function, let's look at the min, max and average insurance cost paid inside our population, in order to define a valid threshold"
   ]
  },
  {
   "cell_type": "code",
   "execution_count": 97,
   "metadata": {},
   "outputs": [
    {
     "name": "stdout",
     "output_type": "stream",
     "text": [
      "Minimum insurance cost: 1121.9 dollars\n",
      "Maximum insurance cost: 63770.4 dollars\n",
      "Average insurance cost: 13270.4 dollars\n"
     ]
    }
   ],
   "source": [
    "charges_total = 0\n",
    "for index in range(total_population):\n",
    "    charges_total += charges[index]\n",
    "\n",
    "print('Minimum insurance cost: ' + str(round(min(charges),1)) + ' dollars')\n",
    "print('Maximum insurance cost: ' + str(round(max(charges),1)) + ' dollars')\n",
    "print('Mean insurance cost: ' + str(round(charges_total/total_population,1)) + ' dollars')"
   ]
  },
  {
   "cell_type": "markdown",
   "metadata": {},
   "source": [
    "Let's calculate also the median value, in order to have all information possible:"
   ]
  },
  {
   "cell_type": "code",
   "execution_count": 131,
   "metadata": {},
   "outputs": [
    {
     "name": "stdout",
     "output_type": "stream",
     "text": [
      "Median insurance cost: 9391.346 dollars\n"
     ]
    }
   ],
   "source": [
    "sorted_charges = sorted(charges)\n",
    "median_charges = sorted_charges[int(round((len(charges)+1)/2,0))]\n",
    "\n",
    "print('Median insurance cost: ' + str(median_charges) + ' dollars')"
   ]
  },
  {
   "cell_type": "markdown",
   "metadata": {},
   "source": [
    "Having the median much lower than the mean means that the insurance cost distribution is not normal, with a long tail at lower charges, identifying thus a left-skewed distribution.\n",
    "Let's apply then our function using the mean value as threshold:"
   ]
  },
  {
   "cell_type": "code",
   "execution_count": 157,
   "metadata": {},
   "outputs": [
    {
     "name": "stdout",
     "output_type": "stream",
     "text": [
      "Individuals that pay more for health insurance inside the population are: \n",
      "\n",
      "\t - Mainly male, with a percentage of 52.6%\n",
      "\n",
      "\t - 42.5 years old in average\n",
      "\n",
      "\t - Smoker in the 65.0% of the cases\n",
      "\n",
      "\t - With an average bmi of 31.0\n",
      "\n",
      "\t - With an average of 1.1 children\n",
      "\n",
      "\t - Geographically distributed in the following way:\n",
      "\n",
      "\t \t * Northwest: 22.9%\n",
      "\n",
      "\t \t * Northeast: 26.0%\n",
      "\n",
      "\t \t * Southwest: 20.2%\n",
      "\n",
      "\t \t * Southeast: 31.0%\n",
      "\n",
      "Those individuals pay for health insurance in average 27751.3 dollars\n"
     ]
    }
   ],
   "source": [
    "threshold = round(charges_total/total_population,1)\n",
    "higher_cost_analysis(threshold, ages, sex, bmi, children, smoker,region, charges, total_population)"
   ]
  },
  {
   "cell_type": "markdown",
   "metadata": {},
   "source": [
    "Looking at the results, we can observe that:\n",
    "\n",
    "- Gender is not a crucial variable in defining the higher cost of the health insurance\n",
    "- Smoking impact on the insurance cost seems very important.\n",
    "- The average bmi is in the \"Mild Obesity\" range.\n",
    "- The average number of children is relatively low, thus that's not the main aspect that impact on the final cost\n",
    "- Higher insurance costs are paid mainly in Soutwest region"
   ]
  },
  {
   "cell_type": "markdown",
   "metadata": {},
   "source": [
    "We can conclude than that the best way to lower health insurance costs is to quit smoking and keep in shape, lowering the bmi to the normal range as much as possible.\n",
    "\n",
    "About the peak of costly insurances in the Southeast region, it could be interesting understand whether the region is a direct factor of higher insurance costs (i.e: insurance companies in the Southeast region have higher prices) or instead is an indirect factor (i.e: Southwest region shows an elevated number of costly insurances because it's famous to be a region full of smokers).\n",
    "\n",
    "Let's find out this last issue with another function"
   ]
  },
  {
   "cell_type": "code",
   "execution_count": 151,
   "metadata": {},
   "outputs": [],
   "source": [
    "def deepen_region_analysis(target, ages, bmi, children, smoker, region, charges, total_population):\n",
    "    # Let's find out the smoking level, mean # of children and mean bmi in the Southwest region\n",
    "    sw_total = 0\n",
    "    sw_smoker = 0\n",
    "    sw_children = 0\n",
    "    sw_bmi = 0\n",
    "    sw_age = 0\n",
    "    sw_age_list =[]\n",
    "    for index in range(total_population):\n",
    "        # select only individuals from southwest region\n",
    "        if region[index] == target:\n",
    "            sw_total += 1\n",
    "            sw_age += ages[index]\n",
    "            sw_age_list.append(ages[index])\n",
    "            # let's find if they are smokers\n",
    "            if smoker[index] == 'yes':\n",
    "                sw_smoker += 1\n",
    "            # let's sum the number of children\n",
    "            sw_children += children[index]\n",
    "            \n",
    "            #let's sum the bmi\n",
    "            sw_bmi += bmi[index]\n",
    "    \n",
    "    # Print out the results\n",
    "    print('In the ' + target + ' region the ' + str(round(sw_smoker/sw_total*100,1)) + '% of the population smokes\\n')\n",
    "    print('The average age is: ' + str(round(sw_age/sw_total,1)) + '\\n')\n",
    "    print('The average bmi is: ' + str(round(sw_bmi/sw_total,1)) + '\\n')\n",
    "    print('The average number of children is: ' + str(round(sw_children/sw_total,1)) + '\\n')\n",
    "                "
   ]
  },
  {
   "cell_type": "markdown",
   "metadata": {},
   "source": [
    "**southwest region**"
   ]
  },
  {
   "cell_type": "code",
   "execution_count": 152,
   "metadata": {
    "scrolled": true
   },
   "outputs": [
    {
     "name": "stdout",
     "output_type": "stream",
     "text": [
      "In the southwest region the 17.8% of the population smokes\n",
      "\n",
      "The average age is: 39.5\n",
      "\n",
      "The average bmi is: 30.6\n",
      "\n",
      "The average number of children is: 1.1\n",
      "\n"
     ]
    }
   ],
   "source": [
    "deepen_region_analysis('southwest', ages, bmi, children, smoker, region, charges, total_population)"
   ]
  },
  {
   "cell_type": "markdown",
   "metadata": {},
   "source": [
    "**southeast region**"
   ]
  },
  {
   "cell_type": "code",
   "execution_count": 155,
   "metadata": {
    "scrolled": true
   },
   "outputs": [
    {
     "name": "stdout",
     "output_type": "stream",
     "text": [
      "In the southeast region the 25.0% of the population smokes\n",
      "\n",
      "The average age is: 38.9\n",
      "\n",
      "The average bmi is: 33.4\n",
      "\n",
      "The average number of children is: 1.0\n",
      "\n"
     ]
    }
   ],
   "source": [
    "deepen_region_analysis('southeast', ages, bmi, children, smoker, region, charges, total_population)"
   ]
  },
  {
   "cell_type": "markdown",
   "metadata": {},
   "source": [
    "**northwest region**"
   ]
  },
  {
   "cell_type": "code",
   "execution_count": 158,
   "metadata": {},
   "outputs": [
    {
     "name": "stdout",
     "output_type": "stream",
     "text": [
      "In the northwest region the 17.8% of the population smokes\n",
      "\n",
      "The average age is: 39.2\n",
      "\n",
      "The average bmi is: 29.2\n",
      "\n",
      "The average number of children is: 1.1\n",
      "\n"
     ]
    }
   ],
   "source": [
    "deepen_region_analysis('northwest', ages, bmi, children, smoker, region, charges, total_population)"
   ]
  },
  {
   "cell_type": "markdown",
   "metadata": {},
   "source": [
    "**northeast region**"
   ]
  },
  {
   "cell_type": "code",
   "execution_count": 159,
   "metadata": {},
   "outputs": [
    {
     "name": "stdout",
     "output_type": "stream",
     "text": [
      "In the northeast region the 20.7% of the population smokes\n",
      "\n",
      "The average age is: 39.3\n",
      "\n",
      "The average bmi is: 29.2\n",
      "\n",
      "The average number of children is: 1.0\n",
      "\n"
     ]
    }
   ],
   "source": [
    "deepen_region_analysis('northeast', ages, bmi, children, smoker, region, charges, total_population)"
   ]
  },
  {
   "cell_type": "markdown",
   "metadata": {},
   "source": [
    "This further analysis confirms that the peak in the southeast region is due to an higher mean bmi as much as an higher number ok smoking people!"
   ]
  },
  {
   "cell_type": "code",
   "execution_count": null,
   "metadata": {},
   "outputs": [],
   "source": []
  }
 ],
 "metadata": {
  "kernelspec": {
   "display_name": "Python 3 (ipykernel)",
   "language": "python",
   "name": "python3"
  },
  "language_info": {
   "codemirror_mode": {
    "name": "ipython",
    "version": 3
   },
   "file_extension": ".py",
   "mimetype": "text/x-python",
   "name": "python",
   "nbconvert_exporter": "python",
   "pygments_lexer": "ipython3",
   "version": "3.9.12"
  }
 },
 "nbformat": 4,
 "nbformat_minor": 4
}
