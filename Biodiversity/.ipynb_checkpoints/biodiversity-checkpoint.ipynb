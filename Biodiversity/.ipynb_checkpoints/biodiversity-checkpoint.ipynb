{
 "cells": [
  {
   "cell_type": "markdown",
   "metadata": {},
   "source": [
    "# Portfolio project: Biodiversity in National Parks"
   ]
  },
  {
   "cell_type": "markdown",
   "metadata": {},
   "source": [
    "## Introduction"
   ]
  },
  {
   "cell_type": "markdown",
   "metadata": {},
   "source": [
    "This project is focused on interpreting data from the National Parks Service about endangered species.\n",
    "\n",
    "In particular, we are going to analyze several species of animals/plants, check their conservation status (whether they are in danger of extinction or not) and look how many weekly observations of them we have in the following US National Parks (info about their dimensions are taken [here](https://www.terragalleria.com/parks/info/national-parks-by-area.html)):\n",
    "\n",
    "- __Yellowstone__ (2219790.71 Acres, 3,468 Sq. miles)\n",
    "- __Yosemite__ (761266.19 Acres, 1,189 Sq. miles)\n",
    "- __Great Smoky Mountains__ (521490.13 Acres, 815 Sq. miles)\n",
    "- __Bryce__ (35835.08 Acres, 56 Sq. miles)\n",
    "\n",
    "At the end of the analysis we can draw some conclusions about the relationship between the species mostly in danger and their habitat (i.e. the National Parks where they have been observed)"
   ]
  },
  {
   "cell_type": "markdown",
   "metadata": {},
   "source": [
    "## Step one: EDA\n",
    "\n",
    "First, we have to look at the data! There are two csv files, \"species_info.csv\" and \"observations.csv\". Let's load them and explore them with `head()`, `dtypes` and `describe()` functions:"
   ]
  },
  {
   "cell_type": "markdown",
   "metadata": {},
   "source": [
    "### 1) Clean `species_info.csv`"
   ]
  },
  {
   "cell_type": "code",
   "execution_count": 456,
   "metadata": {
    "scrolled": true
   },
   "outputs": [
    {
     "data": {
      "text/html": [
       "<div>\n",
       "<style scoped>\n",
       "    .dataframe tbody tr th:only-of-type {\n",
       "        vertical-align: middle;\n",
       "    }\n",
       "\n",
       "    .dataframe tbody tr th {\n",
       "        vertical-align: top;\n",
       "    }\n",
       "\n",
       "    .dataframe thead th {\n",
       "        text-align: right;\n",
       "    }\n",
       "</style>\n",
       "<table border=\"1\" class=\"dataframe\">\n",
       "  <thead>\n",
       "    <tr style=\"text-align: right;\">\n",
       "      <th></th>\n",
       "      <th>category</th>\n",
       "      <th>scientific_name</th>\n",
       "      <th>common_names</th>\n",
       "      <th>conservation_status</th>\n",
       "    </tr>\n",
       "  </thead>\n",
       "  <tbody>\n",
       "    <tr>\n",
       "      <th>0</th>\n",
       "      <td>Mammal</td>\n",
       "      <td>Clethrionomys gapperi gapperi</td>\n",
       "      <td>Gapper's Red-Backed Vole</td>\n",
       "      <td>NaN</td>\n",
       "    </tr>\n",
       "    <tr>\n",
       "      <th>1</th>\n",
       "      <td>Mammal</td>\n",
       "      <td>Bos bison</td>\n",
       "      <td>American Bison, Bison</td>\n",
       "      <td>NaN</td>\n",
       "    </tr>\n",
       "    <tr>\n",
       "      <th>2</th>\n",
       "      <td>Mammal</td>\n",
       "      <td>Bos taurus</td>\n",
       "      <td>Aurochs, Aurochs, Domestic Cattle (Feral), Dom...</td>\n",
       "      <td>NaN</td>\n",
       "    </tr>\n",
       "    <tr>\n",
       "      <th>3</th>\n",
       "      <td>Mammal</td>\n",
       "      <td>Ovis aries</td>\n",
       "      <td>Domestic Sheep, Mouflon, Red Sheep, Sheep (Feral)</td>\n",
       "      <td>NaN</td>\n",
       "    </tr>\n",
       "    <tr>\n",
       "      <th>4</th>\n",
       "      <td>Mammal</td>\n",
       "      <td>Cervus elaphus</td>\n",
       "      <td>Wapiti Or Elk</td>\n",
       "      <td>NaN</td>\n",
       "    </tr>\n",
       "  </tbody>\n",
       "</table>\n",
       "</div>"
      ],
      "text/plain": [
       "  category                scientific_name  \\\n",
       "0   Mammal  Clethrionomys gapperi gapperi   \n",
       "1   Mammal                      Bos bison   \n",
       "2   Mammal                     Bos taurus   \n",
       "3   Mammal                     Ovis aries   \n",
       "4   Mammal                 Cervus elaphus   \n",
       "\n",
       "                                        common_names conservation_status  \n",
       "0                           Gapper's Red-Backed Vole                 NaN  \n",
       "1                              American Bison, Bison                 NaN  \n",
       "2  Aurochs, Aurochs, Domestic Cattle (Feral), Dom...                 NaN  \n",
       "3  Domestic Sheep, Mouflon, Red Sheep, Sheep (Feral)                 NaN  \n",
       "4                                      Wapiti Or Elk                 NaN  "
      ]
     },
     "execution_count": 456,
     "metadata": {},
     "output_type": "execute_result"
    }
   ],
   "source": [
    "import pandas as pd\n",
    "import numpy as np\n",
    "import matplotlib.pyplot as plt\n",
    "import seaborn as sns\n",
    "\n",
    "species = pd.read_csv('species_info.csv')\n",
    "obs = pd.read_csv('observations.csv')\n",
    "\n",
    "species.head()"
   ]
  },
  {
   "cell_type": "code",
   "execution_count": 457,
   "metadata": {},
   "outputs": [
    {
     "data": {
      "text/plain": [
       "category               object\n",
       "scientific_name        object\n",
       "common_names           object\n",
       "conservation_status    object\n",
       "dtype: object"
      ]
     },
     "execution_count": 457,
     "metadata": {},
     "output_type": "execute_result"
    }
   ],
   "source": [
    "species.dtypes"
   ]
  },
  {
   "cell_type": "code",
   "execution_count": 458,
   "metadata": {
    "scrolled": true
   },
   "outputs": [
    {
     "data": {
      "text/html": [
       "<div>\n",
       "<style scoped>\n",
       "    .dataframe tbody tr th:only-of-type {\n",
       "        vertical-align: middle;\n",
       "    }\n",
       "\n",
       "    .dataframe tbody tr th {\n",
       "        vertical-align: top;\n",
       "    }\n",
       "\n",
       "    .dataframe thead th {\n",
       "        text-align: right;\n",
       "    }\n",
       "</style>\n",
       "<table border=\"1\" class=\"dataframe\">\n",
       "  <thead>\n",
       "    <tr style=\"text-align: right;\">\n",
       "      <th></th>\n",
       "      <th>category</th>\n",
       "      <th>scientific_name</th>\n",
       "      <th>common_names</th>\n",
       "      <th>conservation_status</th>\n",
       "    </tr>\n",
       "  </thead>\n",
       "  <tbody>\n",
       "    <tr>\n",
       "      <th>count</th>\n",
       "      <td>5824</td>\n",
       "      <td>5824</td>\n",
       "      <td>5824</td>\n",
       "      <td>191</td>\n",
       "    </tr>\n",
       "    <tr>\n",
       "      <th>unique</th>\n",
       "      <td>7</td>\n",
       "      <td>5541</td>\n",
       "      <td>5504</td>\n",
       "      <td>4</td>\n",
       "    </tr>\n",
       "    <tr>\n",
       "      <th>top</th>\n",
       "      <td>Vascular Plant</td>\n",
       "      <td>Castor canadensis</td>\n",
       "      <td>Brachythecium Moss</td>\n",
       "      <td>Species of Concern</td>\n",
       "    </tr>\n",
       "    <tr>\n",
       "      <th>freq</th>\n",
       "      <td>4470</td>\n",
       "      <td>3</td>\n",
       "      <td>7</td>\n",
       "      <td>161</td>\n",
       "    </tr>\n",
       "  </tbody>\n",
       "</table>\n",
       "</div>"
      ],
      "text/plain": [
       "              category    scientific_name        common_names  \\\n",
       "count             5824               5824                5824   \n",
       "unique               7               5541                5504   \n",
       "top     Vascular Plant  Castor canadensis  Brachythecium Moss   \n",
       "freq              4470                  3                   7   \n",
       "\n",
       "       conservation_status  \n",
       "count                  191  \n",
       "unique                   4  \n",
       "top     Species of Concern  \n",
       "freq                   161  "
      ]
     },
     "execution_count": 458,
     "metadata": {},
     "output_type": "execute_result"
    }
   ],
   "source": [
    "species.describe(include='all')"
   ]
  },
  {
   "cell_type": "markdown",
   "metadata": {},
   "source": [
    "`species` DataFrame contains a list of species, described both by `scientific_names` and `common_names`, associated to their class (here described as `category`) and their `conservation_status` (i.e: whether they risk extinction or not).\n",
    "\n",
    "Every variable here is categorical.\n",
    "\n",
    "Looking at the `describe` output, we can see that the column `scientific_name` has some repeated value (having 5541 unique values and 5824 rows). We actually do not expect any repetitions of `scientific_name`. Nevertheless, if we check for duplicates we obtain:"
   ]
  },
  {
   "cell_type": "code",
   "execution_count": 459,
   "metadata": {},
   "outputs": [
    {
     "data": {
      "text/plain": [
       "0"
      ]
     },
     "execution_count": 459,
     "metadata": {},
     "output_type": "execute_result"
    }
   ],
   "source": [
    "species.duplicated().sum()"
   ]
  },
  {
   "cell_type": "markdown",
   "metadata": {},
   "source": [
    "That's probably because the same `scientific_name` is associated to several `common_names`. Let's confirm it:"
   ]
  },
  {
   "cell_type": "code",
   "execution_count": 460,
   "metadata": {
    "scrolled": true
   },
   "outputs": [
    {
     "data": {
      "text/html": [
       "<div>\n",
       "<style scoped>\n",
       "    .dataframe tbody tr th:only-of-type {\n",
       "        vertical-align: middle;\n",
       "    }\n",
       "\n",
       "    .dataframe tbody tr th {\n",
       "        vertical-align: top;\n",
       "    }\n",
       "\n",
       "    .dataframe thead th {\n",
       "        text-align: right;\n",
       "    }\n",
       "</style>\n",
       "<table border=\"1\" class=\"dataframe\">\n",
       "  <thead>\n",
       "    <tr style=\"text-align: right;\">\n",
       "      <th></th>\n",
       "      <th>category</th>\n",
       "      <th>scientific_name</th>\n",
       "      <th>common_names</th>\n",
       "      <th>conservation_status</th>\n",
       "    </tr>\n",
       "  </thead>\n",
       "  <tbody>\n",
       "    <tr>\n",
       "      <th>49</th>\n",
       "      <td>Mammal</td>\n",
       "      <td>Castor canadensis</td>\n",
       "      <td>American Beaver, Beaver</td>\n",
       "      <td>NaN</td>\n",
       "    </tr>\n",
       "    <tr>\n",
       "      <th>3050</th>\n",
       "      <td>Mammal</td>\n",
       "      <td>Castor canadensis</td>\n",
       "      <td>American Beaver</td>\n",
       "      <td>NaN</td>\n",
       "    </tr>\n",
       "    <tr>\n",
       "      <th>4475</th>\n",
       "      <td>Mammal</td>\n",
       "      <td>Castor canadensis</td>\n",
       "      <td>Beaver</td>\n",
       "      <td>NaN</td>\n",
       "    </tr>\n",
       "  </tbody>\n",
       "</table>\n",
       "</div>"
      ],
      "text/plain": [
       "     category    scientific_name             common_names conservation_status\n",
       "49     Mammal  Castor canadensis  American Beaver, Beaver                 NaN\n",
       "3050   Mammal  Castor canadensis          American Beaver                 NaN\n",
       "4475   Mammal  Castor canadensis                   Beaver                 NaN"
      ]
     },
     "execution_count": 460,
     "metadata": {},
     "output_type": "execute_result"
    }
   ],
   "source": [
    "species[species.scientific_name == 'Castor canadensis']"
   ]
  },
  {
   "cell_type": "markdown",
   "metadata": {},
   "source": [
    "Indeed, here for the same `scientific_name` we have 3 different strings in `common_names`, even though they don't add much information. \n",
    "\n",
    "In order to avoid mistakes in count or sum values later on, it seems better for now to drop the `common_names` column and remove the duplicates."
   ]
  },
  {
   "cell_type": "code",
   "execution_count": 461,
   "metadata": {
    "scrolled": true
   },
   "outputs": [
    {
     "name": "stdout",
     "output_type": "stream",
     "text": [
      "281\n",
      "0\n"
     ]
    },
    {
     "data": {
      "text/html": [
       "<div>\n",
       "<style scoped>\n",
       "    .dataframe tbody tr th:only-of-type {\n",
       "        vertical-align: middle;\n",
       "    }\n",
       "\n",
       "    .dataframe tbody tr th {\n",
       "        vertical-align: top;\n",
       "    }\n",
       "\n",
       "    .dataframe thead th {\n",
       "        text-align: right;\n",
       "    }\n",
       "</style>\n",
       "<table border=\"1\" class=\"dataframe\">\n",
       "  <thead>\n",
       "    <tr style=\"text-align: right;\">\n",
       "      <th></th>\n",
       "      <th>category</th>\n",
       "      <th>scientific_name</th>\n",
       "      <th>conservation_status</th>\n",
       "    </tr>\n",
       "  </thead>\n",
       "  <tbody>\n",
       "    <tr>\n",
       "      <th>count</th>\n",
       "      <td>5543</td>\n",
       "      <td>5543</td>\n",
       "      <td>180</td>\n",
       "    </tr>\n",
       "    <tr>\n",
       "      <th>unique</th>\n",
       "      <td>7</td>\n",
       "      <td>5541</td>\n",
       "      <td>4</td>\n",
       "    </tr>\n",
       "    <tr>\n",
       "      <th>top</th>\n",
       "      <td>Vascular Plant</td>\n",
       "      <td>Oncorhynchus mykiss</td>\n",
       "      <td>Species of Concern</td>\n",
       "    </tr>\n",
       "    <tr>\n",
       "      <th>freq</th>\n",
       "      <td>4262</td>\n",
       "      <td>2</td>\n",
       "      <td>151</td>\n",
       "    </tr>\n",
       "  </tbody>\n",
       "</table>\n",
       "</div>"
      ],
      "text/plain": [
       "              category      scientific_name conservation_status\n",
       "count             5543                 5543                 180\n",
       "unique               7                 5541                   4\n",
       "top     Vascular Plant  Oncorhynchus mykiss  Species of Concern\n",
       "freq              4262                    2                 151"
      ]
     },
     "execution_count": 461,
     "metadata": {},
     "output_type": "execute_result"
    }
   ],
   "source": [
    "species_no_common = species[['category','scientific_name','conservation_status']]\n",
    "print(species_no_common.duplicated().sum())\n",
    "species_no_common = species_no_common.drop_duplicates().reset_index(drop=True)\n",
    "print(species_no_common.duplicated().sum())\n",
    "species_no_common.describe()"
   ]
  },
  {
   "cell_type": "markdown",
   "metadata": {},
   "source": [
    "The situation has improved, but still we have some duplicates in `scientific_name`. Let's investigate why looking at *Oncorhynchus mykiss* rows:"
   ]
  },
  {
   "cell_type": "code",
   "execution_count": 462,
   "metadata": {},
   "outputs": [
    {
     "data": {
      "text/html": [
       "<div>\n",
       "<style scoped>\n",
       "    .dataframe tbody tr th:only-of-type {\n",
       "        vertical-align: middle;\n",
       "    }\n",
       "\n",
       "    .dataframe tbody tr th {\n",
       "        vertical-align: top;\n",
       "    }\n",
       "\n",
       "    .dataframe thead th {\n",
       "        text-align: right;\n",
       "    }\n",
       "</style>\n",
       "<table border=\"1\" class=\"dataframe\">\n",
       "  <thead>\n",
       "    <tr style=\"text-align: right;\">\n",
       "      <th></th>\n",
       "      <th>category</th>\n",
       "      <th>scientific_name</th>\n",
       "      <th>conservation_status</th>\n",
       "    </tr>\n",
       "  </thead>\n",
       "  <tbody>\n",
       "    <tr>\n",
       "      <th>560</th>\n",
       "      <td>Fish</td>\n",
       "      <td>Oncorhynchus mykiss</td>\n",
       "      <td>NaN</td>\n",
       "    </tr>\n",
       "    <tr>\n",
       "      <th>3247</th>\n",
       "      <td>Fish</td>\n",
       "      <td>Oncorhynchus mykiss</td>\n",
       "      <td>Threatened</td>\n",
       "    </tr>\n",
       "  </tbody>\n",
       "</table>\n",
       "</div>"
      ],
      "text/plain": [
       "     category      scientific_name conservation_status\n",
       "560      Fish  Oncorhynchus mykiss                 NaN\n",
       "3247     Fish  Oncorhynchus mykiss          Threatened"
      ]
     },
     "execution_count": 462,
     "metadata": {},
     "output_type": "execute_result"
    }
   ],
   "source": [
    "species_no_common[species_no_common.scientific_name == 'Oncorhynchus mykiss']"
   ]
  },
  {
   "cell_type": "markdown",
   "metadata": {},
   "source": [
    "It appears that the same `scientific_name` is erroneously associated to multiple `conservation_status`. We do not actually know which one is the correct one, so we stay conservative, keeping the worse `conservation_status`. \n",
    "\n",
    "Let's apply that to all conflicts:"
   ]
  },
  {
   "cell_type": "code",
   "execution_count": 463,
   "metadata": {
    "scrolled": true
   },
   "outputs": [
    {
     "data": {
      "text/plain": [
       "Oncorhynchus mykiss                2\n",
       "Canis lupus                        2\n",
       "Clethrionomys gapperi gapperi      1\n",
       "Valeriana dioica var. sylvatica    1\n",
       "Gaultheria humifusa                1\n",
       "                                  ..\n",
       "Viola pubescens                    1\n",
       "Viola porterana                    1\n",
       "Viola pedata                       1\n",
       "Viola odorata                      1\n",
       "Tribulus terrestris                1\n",
       "Name: scientific_name, Length: 5541, dtype: int64"
      ]
     },
     "execution_count": 463,
     "metadata": {},
     "output_type": "execute_result"
    }
   ],
   "source": [
    "species_no_common.scientific_name.value_counts()"
   ]
  },
  {
   "cell_type": "code",
   "execution_count": 464,
   "metadata": {},
   "outputs": [
    {
     "data": {
      "text/html": [
       "<div>\n",
       "<style scoped>\n",
       "    .dataframe tbody tr th:only-of-type {\n",
       "        vertical-align: middle;\n",
       "    }\n",
       "\n",
       "    .dataframe tbody tr th {\n",
       "        vertical-align: top;\n",
       "    }\n",
       "\n",
       "    .dataframe thead th {\n",
       "        text-align: right;\n",
       "    }\n",
       "</style>\n",
       "<table border=\"1\" class=\"dataframe\">\n",
       "  <thead>\n",
       "    <tr style=\"text-align: right;\">\n",
       "      <th></th>\n",
       "      <th>category</th>\n",
       "      <th>scientific_name</th>\n",
       "      <th>conservation_status</th>\n",
       "    </tr>\n",
       "  </thead>\n",
       "  <tbody>\n",
       "    <tr>\n",
       "      <th>8</th>\n",
       "      <td>Mammal</td>\n",
       "      <td>Canis lupus</td>\n",
       "      <td>Endangered</td>\n",
       "    </tr>\n",
       "    <tr>\n",
       "      <th>3018</th>\n",
       "      <td>Mammal</td>\n",
       "      <td>Canis lupus</td>\n",
       "      <td>In Recovery</td>\n",
       "    </tr>\n",
       "  </tbody>\n",
       "</table>\n",
       "</div>"
      ],
      "text/plain": [
       "     category scientific_name conservation_status\n",
       "8      Mammal     Canis lupus          Endangered\n",
       "3018   Mammal     Canis lupus         In Recovery"
      ]
     },
     "execution_count": 464,
     "metadata": {},
     "output_type": "execute_result"
    }
   ],
   "source": [
    "# We have another conflict with \"Canis lupus\"\n",
    "\n",
    "species_no_common[species_no_common.scientific_name == 'Canis lupus']"
   ]
  },
  {
   "cell_type": "code",
   "execution_count": 465,
   "metadata": {},
   "outputs": [],
   "source": [
    "species_no_common.loc[560,'conservation_status'] = 'Threatened'\n",
    "species_no_common.loc[3018,'conservation_status'] = 'Endangered'"
   ]
  },
  {
   "cell_type": "code",
   "execution_count": 466,
   "metadata": {},
   "outputs": [
    {
     "name": "stdout",
     "output_type": "stream",
     "text": [
      "2\n",
      "0\n"
     ]
    },
    {
     "data": {
      "text/html": [
       "<div>\n",
       "<style scoped>\n",
       "    .dataframe tbody tr th:only-of-type {\n",
       "        vertical-align: middle;\n",
       "    }\n",
       "\n",
       "    .dataframe tbody tr th {\n",
       "        vertical-align: top;\n",
       "    }\n",
       "\n",
       "    .dataframe thead th {\n",
       "        text-align: right;\n",
       "    }\n",
       "</style>\n",
       "<table border=\"1\" class=\"dataframe\">\n",
       "  <thead>\n",
       "    <tr style=\"text-align: right;\">\n",
       "      <th></th>\n",
       "      <th>category</th>\n",
       "      <th>scientific_name</th>\n",
       "      <th>conservation_status</th>\n",
       "    </tr>\n",
       "  </thead>\n",
       "  <tbody>\n",
       "    <tr>\n",
       "      <th>count</th>\n",
       "      <td>5541</td>\n",
       "      <td>5541</td>\n",
       "      <td>179</td>\n",
       "    </tr>\n",
       "    <tr>\n",
       "      <th>unique</th>\n",
       "      <td>7</td>\n",
       "      <td>5541</td>\n",
       "      <td>4</td>\n",
       "    </tr>\n",
       "    <tr>\n",
       "      <th>top</th>\n",
       "      <td>Vascular Plant</td>\n",
       "      <td>Clethrionomys gapperi gapperi</td>\n",
       "      <td>Species of Concern</td>\n",
       "    </tr>\n",
       "    <tr>\n",
       "      <th>freq</th>\n",
       "      <td>4262</td>\n",
       "      <td>1</td>\n",
       "      <td>151</td>\n",
       "    </tr>\n",
       "  </tbody>\n",
       "</table>\n",
       "</div>"
      ],
      "text/plain": [
       "              category                scientific_name conservation_status\n",
       "count             5541                           5541                 179\n",
       "unique               7                           5541                   4\n",
       "top     Vascular Plant  Clethrionomys gapperi gapperi  Species of Concern\n",
       "freq              4262                              1                 151"
      ]
     },
     "execution_count": 466,
     "metadata": {},
     "output_type": "execute_result"
    }
   ],
   "source": [
    "print(species_no_common.duplicated().sum())\n",
    "species_no_common = species_no_common.drop_duplicates().reset_index(drop=True)\n",
    "print(species_no_common.duplicated().sum())\n",
    "species_no_common.describe()"
   ]
  },
  {
   "cell_type": "markdown",
   "metadata": {},
   "source": [
    "### 2) Clean `observations.csv`"
   ]
  },
  {
   "cell_type": "code",
   "execution_count": 467,
   "metadata": {
    "scrolled": true
   },
   "outputs": [
    {
     "data": {
      "text/html": [
       "<div>\n",
       "<style scoped>\n",
       "    .dataframe tbody tr th:only-of-type {\n",
       "        vertical-align: middle;\n",
       "    }\n",
       "\n",
       "    .dataframe tbody tr th {\n",
       "        vertical-align: top;\n",
       "    }\n",
       "\n",
       "    .dataframe thead th {\n",
       "        text-align: right;\n",
       "    }\n",
       "</style>\n",
       "<table border=\"1\" class=\"dataframe\">\n",
       "  <thead>\n",
       "    <tr style=\"text-align: right;\">\n",
       "      <th></th>\n",
       "      <th>scientific_name</th>\n",
       "      <th>park_name</th>\n",
       "      <th>observations</th>\n",
       "    </tr>\n",
       "  </thead>\n",
       "  <tbody>\n",
       "    <tr>\n",
       "      <th>0</th>\n",
       "      <td>Vicia benghalensis</td>\n",
       "      <td>Great Smoky Mountains National Park</td>\n",
       "      <td>68</td>\n",
       "    </tr>\n",
       "    <tr>\n",
       "      <th>1</th>\n",
       "      <td>Neovison vison</td>\n",
       "      <td>Great Smoky Mountains National Park</td>\n",
       "      <td>77</td>\n",
       "    </tr>\n",
       "    <tr>\n",
       "      <th>2</th>\n",
       "      <td>Prunus subcordata</td>\n",
       "      <td>Yosemite National Park</td>\n",
       "      <td>138</td>\n",
       "    </tr>\n",
       "    <tr>\n",
       "      <th>3</th>\n",
       "      <td>Abutilon theophrasti</td>\n",
       "      <td>Bryce National Park</td>\n",
       "      <td>84</td>\n",
       "    </tr>\n",
       "    <tr>\n",
       "      <th>4</th>\n",
       "      <td>Githopsis specularioides</td>\n",
       "      <td>Great Smoky Mountains National Park</td>\n",
       "      <td>85</td>\n",
       "    </tr>\n",
       "  </tbody>\n",
       "</table>\n",
       "</div>"
      ],
      "text/plain": [
       "            scientific_name                            park_name  observations\n",
       "0        Vicia benghalensis  Great Smoky Mountains National Park            68\n",
       "1            Neovison vison  Great Smoky Mountains National Park            77\n",
       "2         Prunus subcordata               Yosemite National Park           138\n",
       "3      Abutilon theophrasti                  Bryce National Park            84\n",
       "4  Githopsis specularioides  Great Smoky Mountains National Park            85"
      ]
     },
     "execution_count": 467,
     "metadata": {},
     "output_type": "execute_result"
    }
   ],
   "source": [
    "obs.head()"
   ]
  },
  {
   "cell_type": "code",
   "execution_count": 468,
   "metadata": {},
   "outputs": [
    {
     "data": {
      "text/plain": [
       "scientific_name    object\n",
       "park_name          object\n",
       "observations        int64\n",
       "dtype: object"
      ]
     },
     "execution_count": 468,
     "metadata": {},
     "output_type": "execute_result"
    }
   ],
   "source": [
    "obs.dtypes"
   ]
  },
  {
   "cell_type": "code",
   "execution_count": 469,
   "metadata": {},
   "outputs": [
    {
     "data": {
      "text/html": [
       "<div>\n",
       "<style scoped>\n",
       "    .dataframe tbody tr th:only-of-type {\n",
       "        vertical-align: middle;\n",
       "    }\n",
       "\n",
       "    .dataframe tbody tr th {\n",
       "        vertical-align: top;\n",
       "    }\n",
       "\n",
       "    .dataframe thead th {\n",
       "        text-align: right;\n",
       "    }\n",
       "</style>\n",
       "<table border=\"1\" class=\"dataframe\">\n",
       "  <thead>\n",
       "    <tr style=\"text-align: right;\">\n",
       "      <th></th>\n",
       "      <th>scientific_name</th>\n",
       "      <th>park_name</th>\n",
       "      <th>observations</th>\n",
       "    </tr>\n",
       "  </thead>\n",
       "  <tbody>\n",
       "    <tr>\n",
       "      <th>count</th>\n",
       "      <td>23296</td>\n",
       "      <td>23296</td>\n",
       "      <td>23296.000000</td>\n",
       "    </tr>\n",
       "    <tr>\n",
       "      <th>unique</th>\n",
       "      <td>5541</td>\n",
       "      <td>4</td>\n",
       "      <td>NaN</td>\n",
       "    </tr>\n",
       "    <tr>\n",
       "      <th>top</th>\n",
       "      <td>Myotis lucifugus</td>\n",
       "      <td>Great Smoky Mountains National Park</td>\n",
       "      <td>NaN</td>\n",
       "    </tr>\n",
       "    <tr>\n",
       "      <th>freq</th>\n",
       "      <td>12</td>\n",
       "      <td>5824</td>\n",
       "      <td>NaN</td>\n",
       "    </tr>\n",
       "    <tr>\n",
       "      <th>mean</th>\n",
       "      <td>NaN</td>\n",
       "      <td>NaN</td>\n",
       "      <td>142.287904</td>\n",
       "    </tr>\n",
       "    <tr>\n",
       "      <th>std</th>\n",
       "      <td>NaN</td>\n",
       "      <td>NaN</td>\n",
       "      <td>69.890532</td>\n",
       "    </tr>\n",
       "    <tr>\n",
       "      <th>min</th>\n",
       "      <td>NaN</td>\n",
       "      <td>NaN</td>\n",
       "      <td>9.000000</td>\n",
       "    </tr>\n",
       "    <tr>\n",
       "      <th>25%</th>\n",
       "      <td>NaN</td>\n",
       "      <td>NaN</td>\n",
       "      <td>86.000000</td>\n",
       "    </tr>\n",
       "    <tr>\n",
       "      <th>50%</th>\n",
       "      <td>NaN</td>\n",
       "      <td>NaN</td>\n",
       "      <td>124.000000</td>\n",
       "    </tr>\n",
       "    <tr>\n",
       "      <th>75%</th>\n",
       "      <td>NaN</td>\n",
       "      <td>NaN</td>\n",
       "      <td>195.000000</td>\n",
       "    </tr>\n",
       "    <tr>\n",
       "      <th>max</th>\n",
       "      <td>NaN</td>\n",
       "      <td>NaN</td>\n",
       "      <td>321.000000</td>\n",
       "    </tr>\n",
       "  </tbody>\n",
       "</table>\n",
       "</div>"
      ],
      "text/plain": [
       "         scientific_name                            park_name  observations\n",
       "count              23296                                23296  23296.000000\n",
       "unique              5541                                    4           NaN\n",
       "top     Myotis lucifugus  Great Smoky Mountains National Park           NaN\n",
       "freq                  12                                 5824           NaN\n",
       "mean                 NaN                                  NaN    142.287904\n",
       "std                  NaN                                  NaN     69.890532\n",
       "min                  NaN                                  NaN      9.000000\n",
       "25%                  NaN                                  NaN     86.000000\n",
       "50%                  NaN                                  NaN    124.000000\n",
       "75%                  NaN                                  NaN    195.000000\n",
       "max                  NaN                                  NaN    321.000000"
      ]
     },
     "execution_count": 469,
     "metadata": {},
     "output_type": "execute_result"
    }
   ],
   "source": [
    "obs.describe(include='all')"
   ]
  },
  {
   "cell_type": "markdown",
   "metadata": {},
   "source": [
    "`observations` DataFrame tells us where and how many times each species considered has been observed (description on site says that observations are referred to the past 7 days). Here as well we have all descriptive and categorical data, except for \"observations\", which is numerical.\n",
    "\n",
    "Looking at `dtypes` and `describe` outputs, the DataFrame seems ok:\n",
    "\n",
    "- the number of unique `scientific_name` is the same as in `species` dataframe\n",
    "- the number of unique `park_name` is 4 as expected\n",
    "- the type of `observations` is int64, which means that we should not ave any NaNs.\n",
    "\n",
    "Let's plot the histogram of `observations` in order to see if we have some outliers or some strange data shape: "
   ]
  },
  {
   "cell_type": "code",
   "execution_count": 470,
   "metadata": {},
   "outputs": [
    {
     "data": {
      "image/png": "[encoded data removed]",
      "text/plain": [
       "<Figure size 432x288 with 1 Axes>"
      ]
     },
     "metadata": {
      "needs_background": "light"
     },
     "output_type": "display_data"
    }
   ],
   "source": [
    "plt.hist(obs.observations,bins=150)\n",
    "plt.title('Number of observations')\n",
    "plt.show()"
   ]
  },
  {
   "cell_type": "markdown",
   "metadata": {},
   "source": [
    "It looks like a bi or even tri-modal distribution. That can be due to the different species we are observing: the peak around 250 observations is probably associated to plants and flowers, while the lower peaks can be associated to animal species. Anyway, the important thing is that there's no outlier.\n",
    "\n",
    "Now let's check if we have duplicates:"
   ]
  },
  {
   "cell_type": "code",
   "execution_count": 471,
   "metadata": {
    "scrolled": false
   },
   "outputs": [
    {
     "name": "stdout",
     "output_type": "stream",
     "text": [
      "15\n"
     ]
    },
    {
     "data": {
      "text/html": [
       "<div>\n",
       "<style scoped>\n",
       "    .dataframe tbody tr th:only-of-type {\n",
       "        vertical-align: middle;\n",
       "    }\n",
       "\n",
       "    .dataframe tbody tr th {\n",
       "        vertical-align: top;\n",
       "    }\n",
       "\n",
       "    .dataframe thead th {\n",
       "        text-align: right;\n",
       "    }\n",
       "</style>\n",
       "<table border=\"1\" class=\"dataframe\">\n",
       "  <thead>\n",
       "    <tr style=\"text-align: right;\">\n",
       "      <th></th>\n",
       "      <th>scientific_name</th>\n",
       "      <th>park_name</th>\n",
       "      <th>observations</th>\n",
       "    </tr>\n",
       "  </thead>\n",
       "  <tbody>\n",
       "    <tr>\n",
       "      <th>7263</th>\n",
       "      <td>Echinochloa crus-galli</td>\n",
       "      <td>Great Smoky Mountains National Park</td>\n",
       "      <td>62</td>\n",
       "    </tr>\n",
       "    <tr>\n",
       "      <th>8710</th>\n",
       "      <td>Streptopelia decaocto</td>\n",
       "      <td>Yellowstone National Park</td>\n",
       "      <td>255</td>\n",
       "    </tr>\n",
       "    <tr>\n",
       "      <th>10038</th>\n",
       "      <td>Plantago major</td>\n",
       "      <td>Great Smoky Mountains National Park</td>\n",
       "      <td>90</td>\n",
       "    </tr>\n",
       "    <tr>\n",
       "      <th>10674</th>\n",
       "      <td>Arctium minus</td>\n",
       "      <td>Yosemite National Park</td>\n",
       "      <td>162</td>\n",
       "    </tr>\n",
       "    <tr>\n",
       "      <th>12381</th>\n",
       "      <td>Eleocharis palustris</td>\n",
       "      <td>Great Smoky Mountains National Park</td>\n",
       "      <td>62</td>\n",
       "    </tr>\n",
       "    <tr>\n",
       "      <th>13372</th>\n",
       "      <td>Hesperis matronalis</td>\n",
       "      <td>Bryce National Park</td>\n",
       "      <td>124</td>\n",
       "    </tr>\n",
       "    <tr>\n",
       "      <th>16741</th>\n",
       "      <td>Prunella vulgaris</td>\n",
       "      <td>Great Smoky Mountains National Park</td>\n",
       "      <td>75</td>\n",
       "    </tr>\n",
       "    <tr>\n",
       "      <th>17378</th>\n",
       "      <td>Potentilla norvegica</td>\n",
       "      <td>Yosemite National Park</td>\n",
       "      <td>148</td>\n",
       "    </tr>\n",
       "    <tr>\n",
       "      <th>17577</th>\n",
       "      <td>Spilogale putorius</td>\n",
       "      <td>Yellowstone National Park</td>\n",
       "      <td>256</td>\n",
       "    </tr>\n",
       "    <tr>\n",
       "      <th>18141</th>\n",
       "      <td>Poa compressa</td>\n",
       "      <td>Great Smoky Mountains National Park</td>\n",
       "      <td>80</td>\n",
       "    </tr>\n",
       "    <tr>\n",
       "      <th>19392</th>\n",
       "      <td>Cichorium intybus</td>\n",
       "      <td>Yellowstone National Park</td>\n",
       "      <td>266</td>\n",
       "    </tr>\n",
       "    <tr>\n",
       "      <th>20294</th>\n",
       "      <td>Botrychium virginianum</td>\n",
       "      <td>Yellowstone National Park</td>\n",
       "      <td>232</td>\n",
       "    </tr>\n",
       "    <tr>\n",
       "      <th>20820</th>\n",
       "      <td>Monotropa hypopithys</td>\n",
       "      <td>Great Smoky Mountains National Park</td>\n",
       "      <td>73</td>\n",
       "    </tr>\n",
       "    <tr>\n",
       "      <th>21151</th>\n",
       "      <td>Trifolium campestre</td>\n",
       "      <td>Yellowstone National Park</td>\n",
       "      <td>239</td>\n",
       "    </tr>\n",
       "    <tr>\n",
       "      <th>22698</th>\n",
       "      <td>Salix exigua</td>\n",
       "      <td>Yosemite National Park</td>\n",
       "      <td>186</td>\n",
       "    </tr>\n",
       "  </tbody>\n",
       "</table>\n",
       "</div>"
      ],
      "text/plain": [
       "              scientific_name                            park_name  \\\n",
       "7263   Echinochloa crus-galli  Great Smoky Mountains National Park   \n",
       "8710    Streptopelia decaocto            Yellowstone National Park   \n",
       "10038          Plantago major  Great Smoky Mountains National Park   \n",
       "10674           Arctium minus               Yosemite National Park   \n",
       "12381    Eleocharis palustris  Great Smoky Mountains National Park   \n",
       "13372     Hesperis matronalis                  Bryce National Park   \n",
       "16741       Prunella vulgaris  Great Smoky Mountains National Park   \n",
       "17378    Potentilla norvegica               Yosemite National Park   \n",
       "17577      Spilogale putorius            Yellowstone National Park   \n",
       "18141           Poa compressa  Great Smoky Mountains National Park   \n",
       "19392       Cichorium intybus            Yellowstone National Park   \n",
       "20294  Botrychium virginianum            Yellowstone National Park   \n",
       "20820    Monotropa hypopithys  Great Smoky Mountains National Park   \n",
       "21151     Trifolium campestre            Yellowstone National Park   \n",
       "22698            Salix exigua               Yosemite National Park   \n",
       "\n",
       "       observations  \n",
       "7263             62  \n",
       "8710            255  \n",
       "10038            90  \n",
       "10674           162  \n",
       "12381            62  \n",
       "13372           124  \n",
       "16741            75  \n",
       "17378           148  \n",
       "17577           256  \n",
       "18141            80  \n",
       "19392           266  \n",
       "20294           232  \n",
       "20820            73  \n",
       "21151           239  \n",
       "22698           186  "
      ]
     },
     "execution_count": 471,
     "metadata": {},
     "output_type": "execute_result"
    }
   ],
   "source": [
    "print(obs.duplicated().sum())\n",
    "obs[obs.duplicated()]"
   ]
  },
  {
   "cell_type": "markdown",
   "metadata": {},
   "source": [
    "We have 15 duplicates. Let's check the rows associated to *Echinochloa crus-galli*:"
   ]
  },
  {
   "cell_type": "code",
   "execution_count": 472,
   "metadata": {},
   "outputs": [
    {
     "data": {
      "text/html": [
       "<div>\n",
       "<style scoped>\n",
       "    .dataframe tbody tr th:only-of-type {\n",
       "        vertical-align: middle;\n",
       "    }\n",
       "\n",
       "    .dataframe tbody tr th {\n",
       "        vertical-align: top;\n",
       "    }\n",
       "\n",
       "    .dataframe thead th {\n",
       "        text-align: right;\n",
       "    }\n",
       "</style>\n",
       "<table border=\"1\" class=\"dataframe\">\n",
       "  <thead>\n",
       "    <tr style=\"text-align: right;\">\n",
       "      <th></th>\n",
       "      <th>scientific_name</th>\n",
       "      <th>park_name</th>\n",
       "      <th>observations</th>\n",
       "    </tr>\n",
       "  </thead>\n",
       "  <tbody>\n",
       "    <tr>\n",
       "      <th>443</th>\n",
       "      <td>Echinochloa crus-galli</td>\n",
       "      <td>Yosemite National Park</td>\n",
       "      <td>159</td>\n",
       "    </tr>\n",
       "    <tr>\n",
       "      <th>802</th>\n",
       "      <td>Echinochloa crus-galli</td>\n",
       "      <td>Bryce National Park</td>\n",
       "      <td>112</td>\n",
       "    </tr>\n",
       "    <tr>\n",
       "      <th>1454</th>\n",
       "      <td>Echinochloa crus-galli</td>\n",
       "      <td>Great Smoky Mountains National Park</td>\n",
       "      <td>62</td>\n",
       "    </tr>\n",
       "    <tr>\n",
       "      <th>7263</th>\n",
       "      <td>Echinochloa crus-galli</td>\n",
       "      <td>Great Smoky Mountains National Park</td>\n",
       "      <td>62</td>\n",
       "    </tr>\n",
       "    <tr>\n",
       "      <th>11435</th>\n",
       "      <td>Echinochloa crus-galli</td>\n",
       "      <td>Bryce National Park</td>\n",
       "      <td>116</td>\n",
       "    </tr>\n",
       "    <tr>\n",
       "      <th>11688</th>\n",
       "      <td>Echinochloa crus-galli</td>\n",
       "      <td>Yellowstone National Park</td>\n",
       "      <td>254</td>\n",
       "    </tr>\n",
       "    <tr>\n",
       "      <th>17581</th>\n",
       "      <td>Echinochloa crus-galli</td>\n",
       "      <td>Yellowstone National Park</td>\n",
       "      <td>235</td>\n",
       "    </tr>\n",
       "    <tr>\n",
       "      <th>17639</th>\n",
       "      <td>Echinochloa crus-galli</td>\n",
       "      <td>Yosemite National Park</td>\n",
       "      <td>172</td>\n",
       "    </tr>\n",
       "  </tbody>\n",
       "</table>\n",
       "</div>"
      ],
      "text/plain": [
       "              scientific_name                            park_name  \\\n",
       "443    Echinochloa crus-galli               Yosemite National Park   \n",
       "802    Echinochloa crus-galli                  Bryce National Park   \n",
       "1454   Echinochloa crus-galli  Great Smoky Mountains National Park   \n",
       "7263   Echinochloa crus-galli  Great Smoky Mountains National Park   \n",
       "11435  Echinochloa crus-galli                  Bryce National Park   \n",
       "11688  Echinochloa crus-galli            Yellowstone National Park   \n",
       "17581  Echinochloa crus-galli            Yellowstone National Park   \n",
       "17639  Echinochloa crus-galli               Yosemite National Park   \n",
       "\n",
       "       observations  \n",
       "443             159  \n",
       "802             112  \n",
       "1454             62  \n",
       "7263             62  \n",
       "11435           116  \n",
       "11688           254  \n",
       "17581           235  \n",
       "17639           172  "
      ]
     },
     "execution_count": 472,
     "metadata": {},
     "output_type": "execute_result"
    }
   ],
   "source": [
    "obs[obs.scientific_name == 'Echinochloa crus-galli']"
   ]
  },
  {
   "cell_type": "markdown",
   "metadata": {},
   "source": [
    "How many are the odds that there have been 62 observations of *Echinochloa crus-galli* in two real, separate and indipendent sessions at Great Smoky Mountains National Park? It seems a little bit unreal, even though we can't exclude it a priori. \n",
    "\n",
    "Thus, we are going to officially keep them. Nevertheless, a parallel DataFrame without duplicates will be created, and eventually the results with and without duplicates will be compared, in order to check the weight of those repeated observations on the conclusions."
   ]
  },
  {
   "cell_type": "code",
   "execution_count": 473,
   "metadata": {},
   "outputs": [
    {
     "data": {
      "text/plain": [
       "0"
      ]
     },
     "execution_count": 473,
     "metadata": {},
     "output_type": "execute_result"
    }
   ],
   "source": [
    "obs_no_dupl = obs.drop_duplicates().reset_index(drop=True)\n",
    "obs_no_dupl.duplicated().sum()"
   ]
  },
  {
   "cell_type": "markdown",
   "metadata": {},
   "source": [
    "### 3) Merge all data into one handy dataframe\n",
    "\n",
    "Having two separate dataframe could be a problem. Since dataframes have column *scientific_name* in common, we can right merge *species_info* into *observation*: "
   ]
  },
  {
   "cell_type": "code",
   "execution_count": 474,
   "metadata": {},
   "outputs": [
    {
     "data": {
      "text/html": [
       "<div>\n",
       "<style scoped>\n",
       "    .dataframe tbody tr th:only-of-type {\n",
       "        vertical-align: middle;\n",
       "    }\n",
       "\n",
       "    .dataframe tbody tr th {\n",
       "        vertical-align: top;\n",
       "    }\n",
       "\n",
       "    .dataframe thead th {\n",
       "        text-align: right;\n",
       "    }\n",
       "</style>\n",
       "<table border=\"1\" class=\"dataframe\">\n",
       "  <thead>\n",
       "    <tr style=\"text-align: right;\">\n",
       "      <th></th>\n",
       "      <th>category</th>\n",
       "      <th>scientific_name</th>\n",
       "      <th>conservation_status</th>\n",
       "      <th>park_name</th>\n",
       "      <th>observations</th>\n",
       "    </tr>\n",
       "  </thead>\n",
       "  <tbody>\n",
       "    <tr>\n",
       "      <th>count</th>\n",
       "      <td>23296</td>\n",
       "      <td>23296</td>\n",
       "      <td>768</td>\n",
       "      <td>23296</td>\n",
       "      <td>23296.000000</td>\n",
       "    </tr>\n",
       "    <tr>\n",
       "      <th>unique</th>\n",
       "      <td>7</td>\n",
       "      <td>5541</td>\n",
       "      <td>4</td>\n",
       "      <td>4</td>\n",
       "      <td>NaN</td>\n",
       "    </tr>\n",
       "    <tr>\n",
       "      <th>top</th>\n",
       "      <td>Vascular Plant</td>\n",
       "      <td>Myotis lucifugus</td>\n",
       "      <td>Species of Concern</td>\n",
       "      <td>Great Smoky Mountains National Park</td>\n",
       "      <td>NaN</td>\n",
       "    </tr>\n",
       "    <tr>\n",
       "      <th>freq</th>\n",
       "      <td>17880</td>\n",
       "      <td>12</td>\n",
       "      <td>644</td>\n",
       "      <td>5824</td>\n",
       "      <td>NaN</td>\n",
       "    </tr>\n",
       "    <tr>\n",
       "      <th>mean</th>\n",
       "      <td>NaN</td>\n",
       "      <td>NaN</td>\n",
       "      <td>NaN</td>\n",
       "      <td>NaN</td>\n",
       "      <td>142.287904</td>\n",
       "    </tr>\n",
       "    <tr>\n",
       "      <th>std</th>\n",
       "      <td>NaN</td>\n",
       "      <td>NaN</td>\n",
       "      <td>NaN</td>\n",
       "      <td>NaN</td>\n",
       "      <td>69.890532</td>\n",
       "    </tr>\n",
       "    <tr>\n",
       "      <th>min</th>\n",
       "      <td>NaN</td>\n",
       "      <td>NaN</td>\n",
       "      <td>NaN</td>\n",
       "      <td>NaN</td>\n",
       "      <td>9.000000</td>\n",
       "    </tr>\n",
       "    <tr>\n",
       "      <th>25%</th>\n",
       "      <td>NaN</td>\n",
       "      <td>NaN</td>\n",
       "      <td>NaN</td>\n",
       "      <td>NaN</td>\n",
       "      <td>86.000000</td>\n",
       "    </tr>\n",
       "    <tr>\n",
       "      <th>50%</th>\n",
       "      <td>NaN</td>\n",
       "      <td>NaN</td>\n",
       "      <td>NaN</td>\n",
       "      <td>NaN</td>\n",
       "      <td>124.000000</td>\n",
       "    </tr>\n",
       "    <tr>\n",
       "      <th>75%</th>\n",
       "      <td>NaN</td>\n",
       "      <td>NaN</td>\n",
       "      <td>NaN</td>\n",
       "      <td>NaN</td>\n",
       "      <td>195.000000</td>\n",
       "    </tr>\n",
       "    <tr>\n",
       "      <th>max</th>\n",
       "      <td>NaN</td>\n",
       "      <td>NaN</td>\n",
       "      <td>NaN</td>\n",
       "      <td>NaN</td>\n",
       "      <td>321.000000</td>\n",
       "    </tr>\n",
       "  </tbody>\n",
       "</table>\n",
       "</div>"
      ],
      "text/plain": [
       "              category   scientific_name conservation_status  \\\n",
       "count            23296             23296                 768   \n",
       "unique               7              5541                   4   \n",
       "top     Vascular Plant  Myotis lucifugus  Species of Concern   \n",
       "freq             17880                12                 644   \n",
       "mean               NaN               NaN                 NaN   \n",
       "std                NaN               NaN                 NaN   \n",
       "min                NaN               NaN                 NaN   \n",
       "25%                NaN               NaN                 NaN   \n",
       "50%                NaN               NaN                 NaN   \n",
       "75%                NaN               NaN                 NaN   \n",
       "max                NaN               NaN                 NaN   \n",
       "\n",
       "                                  park_name  observations  \n",
       "count                                 23296  23296.000000  \n",
       "unique                                    4           NaN  \n",
       "top     Great Smoky Mountains National Park           NaN  \n",
       "freq                                   5824           NaN  \n",
       "mean                                    NaN    142.287904  \n",
       "std                                     NaN     69.890532  \n",
       "min                                     NaN      9.000000  \n",
       "25%                                     NaN     86.000000  \n",
       "50%                                     NaN    124.000000  \n",
       "75%                                     NaN    195.000000  \n",
       "max                                     NaN    321.000000  "
      ]
     },
     "execution_count": 474,
     "metadata": {},
     "output_type": "execute_result"
    }
   ],
   "source": [
    "df = species_no_common.merge(obs, how='right', on='scientific_name')\n",
    "df_no_dupl = species_no_common.merge(obs_no_dupl, how='right', on='scientific_name')\n",
    "df.describe(include = 'all')"
   ]
  },
  {
   "cell_type": "markdown",
   "metadata": {},
   "source": [
    "### 4) dealing with NaNs"
   ]
  },
  {
   "cell_type": "markdown",
   "metadata": {},
   "source": [
    "Checking the output of `describe()` function, we can understand that the only column with (a lot of) NaNs in column __conservation_status__. Let's confirm that:"
   ]
  },
  {
   "cell_type": "code",
   "execution_count": 475,
   "metadata": {
    "scrolled": true
   },
   "outputs": [
    {
     "name": "stdout",
     "output_type": "stream",
     "text": [
      "category                   0\n",
      "scientific_name            0\n",
      "conservation_status    22528\n",
      "park_name                  0\n",
      "observations               0\n",
      "dtype: int64\n"
     ]
    }
   ],
   "source": [
    "print(df.isna().sum())"
   ]
  },
  {
   "cell_type": "markdown",
   "metadata": {},
   "source": [
    "We have 23296 rows and 22528 NaNs, almost 97% of the total. Is _conservation_status_ column a candidate for removal?"
   ]
  },
  {
   "cell_type": "markdown",
   "metadata": {},
   "source": [
    "Since the objective of this research is to evaluate the status of endangered species in different parks, removing the column *conservation_status* seems a little bit reckless. Is there a reason behind those NaNs? Let's replace NaNs with string \"NaN\" and count the number of `observations` for each `conservation_status`:"
   ]
  },
  {
   "cell_type": "code",
   "execution_count": 476,
   "metadata": {
    "scrolled": true
   },
   "outputs": [
    {
     "name": "stdout",
     "output_type": "stream",
     "text": [
      "  conservation_status  observations\n",
      "0          Endangered          2798\n",
      "1         In Recovery          1392\n",
      "2                 NaN       3224631\n",
      "3  Species of Concern         82579\n",
      "4          Threatened          3339\n"
     ]
    }
   ],
   "source": [
    "df.fillna('NaN',inplace=True)\n",
    "print(df[['observations','conservation_status']].groupby('conservation_status').sum().reset_index())"
   ]
  },
  {
   "cell_type": "markdown",
   "metadata": {},
   "source": [
    "The number of observations for NaN cases is very much higher than any other conservation status case. In order of number of observations, we have:\n",
    "\n",
    "- NaN\n",
    "- Species of Concern\n",
    "- Threatened\n",
    "- Endangered\n",
    "- In recovery\n",
    "\n",
    "(Check [here](https://en.wikipedia.org/wiki/Endangered_Species_Act_of_1973) and [here](https://wildlife.ca.gov/Conservation/SSC) for further information about *Threatened*, *Endangered* and *Species of Concern* definitions)\n",
    "\n",
    "Let's check if this unbalance exists for every `category` considered:"
   ]
  },
  {
   "cell_type": "code",
   "execution_count": 477,
   "metadata": {
    "scrolled": false
   },
   "outputs": [
    {
     "data": {
      "text/html": [
       "<div>\n",
       "<style scoped>\n",
       "    .dataframe tbody tr th:only-of-type {\n",
       "        vertical-align: middle;\n",
       "    }\n",
       "\n",
       "    .dataframe tbody tr th {\n",
       "        vertical-align: top;\n",
       "    }\n",
       "\n",
       "    .dataframe thead th {\n",
       "        text-align: right;\n",
       "    }\n",
       "</style>\n",
       "<table border=\"1\" class=\"dataframe\">\n",
       "  <thead>\n",
       "    <tr style=\"text-align: right;\">\n",
       "      <th>category</th>\n",
       "      <th>Amphibian</th>\n",
       "      <th>Bird</th>\n",
       "      <th>Fish</th>\n",
       "      <th>Mammal</th>\n",
       "      <th>Nonvascular Plant</th>\n",
       "      <th>Reptile</th>\n",
       "      <th>Vascular Plant</th>\n",
       "    </tr>\n",
       "    <tr>\n",
       "      <th>conservation_status</th>\n",
       "      <th></th>\n",
       "      <th></th>\n",
       "      <th></th>\n",
       "      <th></th>\n",
       "      <th></th>\n",
       "      <th></th>\n",
       "      <th></th>\n",
       "    </tr>\n",
       "  </thead>\n",
       "  <tbody>\n",
       "    <tr>\n",
       "      <th>Endangered</th>\n",
       "      <td>144.0</td>\n",
       "      <td>574.0</td>\n",
       "      <td>455.0</td>\n",
       "      <td>1463.0</td>\n",
       "      <td>0.0</td>\n",
       "      <td>0.0</td>\n",
       "      <td>162.0</td>\n",
       "    </tr>\n",
       "    <tr>\n",
       "      <th>In Recovery</th>\n",
       "      <td>0.0</td>\n",
       "      <td>1392.0</td>\n",
       "      <td>0.0</td>\n",
       "      <td>0.0</td>\n",
       "      <td>0.0</td>\n",
       "      <td>0.0</td>\n",
       "      <td>0.0</td>\n",
       "    </tr>\n",
       "    <tr>\n",
       "      <th>NaN</th>\n",
       "      <td>41219.0</td>\n",
       "      <td>254225.0</td>\n",
       "      <td>66609.0</td>\n",
       "      <td>100247.0</td>\n",
       "      <td>187948.0</td>\n",
       "      <td>42142.0</td>\n",
       "      <td>2532241.0</td>\n",
       "    </tr>\n",
       "    <tr>\n",
       "      <th>Species of Concern</th>\n",
       "      <td>2044.0</td>\n",
       "      <td>36642.0</td>\n",
       "      <td>2109.0</td>\n",
       "      <td>14408.0</td>\n",
       "      <td>2705.0</td>\n",
       "      <td>2536.0</td>\n",
       "      <td>22135.0</td>\n",
       "    </tr>\n",
       "    <tr>\n",
       "      <th>Threatened</th>\n",
       "      <td>564.0</td>\n",
       "      <td>0.0</td>\n",
       "      <td>1645.0</td>\n",
       "      <td>578.0</td>\n",
       "      <td>0.0</td>\n",
       "      <td>0.0</td>\n",
       "      <td>552.0</td>\n",
       "    </tr>\n",
       "  </tbody>\n",
       "</table>\n",
       "</div>"
      ],
      "text/plain": [
       "category             Amphibian      Bird     Fish    Mammal  \\\n",
       "conservation_status                                           \n",
       "Endangered               144.0     574.0    455.0    1463.0   \n",
       "In Recovery                0.0    1392.0      0.0       0.0   \n",
       "NaN                    41219.0  254225.0  66609.0  100247.0   \n",
       "Species of Concern      2044.0   36642.0   2109.0   14408.0   \n",
       "Threatened               564.0       0.0   1645.0     578.0   \n",
       "\n",
       "category             Nonvascular Plant  Reptile  Vascular Plant  \n",
       "conservation_status                                              \n",
       "Endangered                         0.0      0.0           162.0  \n",
       "In Recovery                        0.0      0.0             0.0  \n",
       "NaN                           187948.0  42142.0       2532241.0  \n",
       "Species of Concern              2705.0   2536.0         22135.0  \n",
       "Threatened                         0.0      0.0           552.0  "
      ]
     },
     "execution_count": 477,
     "metadata": {},
     "output_type": "execute_result"
    }
   ],
   "source": [
    "df_NaN_eval = df.groupby(['category','conservation_status']).sum().reset_index()\n",
    "df_NaN_eval.pivot(index='conservation_status',columns='category',values='observations').fillna(0)"
   ]
  },
  {
   "cell_type": "markdown",
   "metadata": {},
   "source": [
    "Looking at the table, we have the confirm that NaN is by far the most observed for each `category` considered, always followed by *Species of Concern*. We can deduce then that __NaN means \"Safe species\"__. We can thus substitute \"NaN\". with \"Safe\""
   ]
  },
  {
   "cell_type": "code",
   "execution_count": 478,
   "metadata": {},
   "outputs": [
    {
     "name": "stdout",
     "output_type": "stream",
     "text": [
      "['Safe' 'Species of Concern' 'Threatened' 'Endangered' 'In Recovery']\n"
     ]
    }
   ],
   "source": [
    "df['conservation_status'].replace(to_replace='NaN',value='Safe',inplace=True)\n",
    "df_no_dupl.fillna('Safe',inplace=True) #We update also df_no_dupl dataframe, so we can make the same evaluations later on\n",
    "print(df.conservation_status.unique())"
   ]
  },
  {
   "cell_type": "markdown",
   "metadata": {},
   "source": [
    "## Step Two: Data analysis"
   ]
  },
  {
   "cell_type": "markdown",
   "metadata": {},
   "source": [
    "It's now time to analyze out data. Here are the questions we are going to address:\n",
    "\n",
    "1) Which `category` has the lowest observations? Which one the highest?\n",
    "\n",
    "2) Which `category` has the higher number of *Endangered* and *Threatened* species? How many observations of them we have?\n",
    "\n",
    "3) Which kind of animals or plants are mostly in danger?\n",
    "\n",
    "4) Are some categories more at risk than others (from a statistical point of view)?\n",
    "\n",
    "5) Which park has the highest number of observations of *Endangered* and *Threatened* species? Which one has the lowest?"
   ]
  },
  {
   "cell_type": "markdown",
   "metadata": {},
   "source": [
    "### Question 1: Which `category` has the lowest observations? Which one the highest?"
   ]
  },
  {
   "cell_type": "markdown",
   "metadata": {},
   "source": [
    "The table and the graph below show that:\n",
    "\n",
    "- __Amphibians and Reptiles are the ones with the lowest number of observations__ (curiously, Reptiles have a little bit more observations then Amphibian, even though being a little bit less in terms of number of species observed)\n",
    "- Fishes observed just a little bit more.\n",
    "- __Plants (especially Vascular Plants) are the ones most seen__."
   ]
  },
  {
   "cell_type": "code",
   "execution_count": 479,
   "metadata": {
    "scrolled": false
   },
   "outputs": [
    {
     "name": "stdout",
     "output_type": "stream",
     "text": [
      "**********************************************\n",
      "TOTAL NUMBER OF OBSERVATIONS FOR EACH CATEGORY\n",
      "**********************************************\n",
      "                   observations\n",
      "category                       \n",
      "Vascular Plant          2555090\n",
      "Bird                     292833\n",
      "Nonvascular Plant        190653\n",
      "Mammal                   116696\n",
      "Fish                      70818\n",
      "Reptile                   44678\n",
      "Amphibian                 43971\n"
     ]
    },
    {
     "data": {
      "image/png": "[encoded data removed]",
      "text/plain": [
       "<Figure size 432x288 with 1 Axes>"
      ]
     },
     "metadata": {
      "needs_background": "light"
     },
     "output_type": "display_data"
    }
   ],
   "source": [
    "df_categories = df[['category','conservation_status','observations']]\n",
    "quest_1 = df_categories.groupby('category').sum().sort_values(by='observations',ascending=False)\n",
    "print('**********************************************')\n",
    "print('TOTAL NUMBER OF OBSERVATIONS FOR EACH CATEGORY')\n",
    "print('**********************************************')\n",
    "print(quest_1)\n",
    "species_no_common.category.value_counts(sort=True).plot(kind='bar')\n",
    "plt.title('TOTAL NUMBER OF SPECIES OBSERVED FOR EACH CATEGORY')\n",
    "plt.xticks(rotation=45,horizontalalignment='right')\n",
    "plt.show()"
   ]
  },
  {
   "cell_type": "markdown",
   "metadata": {},
   "source": [
    "### Question 2: Which `category` has the higher number of *Endangered* and *Threatened* species? How many observation of them we have?"
   ]
  },
  {
   "cell_type": "code",
   "execution_count": 487,
   "metadata": {},
   "outputs": [
    {
     "name": "stdout",
     "output_type": "stream",
     "text": [
      "***********************************************************************\n",
      "# OF THREATENED OR ENDANGERED SPECIES FOR EACH CATEGORY\n",
      "***********************************************************************\n",
      "Mammal            8\n",
      "Fish              7\n",
      "Bird              4\n",
      "Vascular Plant    3\n",
      "Amphibian         3\n",
      "Name: category, dtype: int64\n",
      "***********************************************************************\n",
      "# OF OBSERVATIONS OF THREATENED OR ENDANGERED SPECIES FOR EACH CATEGORY\n",
      "***********************************************************************\n",
      "         category  observations\n",
      "2            Fish          2100\n",
      "3          Mammal          2041\n",
      "4  Vascular Plant           714\n",
      "0       Amphibian           708\n",
      "1            Bird           574\n",
      "***********************************************************************\n",
      "% OF OBSERVATIONS OF THREATENED OR ENDANGERED SPECIES FOR EACH CATEGORY\n",
      "***********************************************************************\n",
      "category\n",
      "Fish                 2.97\n",
      "Mammal               1.75\n",
      "Amphibian            1.61\n",
      "Bird                 0.20\n",
      "Vascular Plant       0.03\n",
      "Nonvascular Plant    0.00\n",
      "Reptile              0.00\n",
      "Name: Extinction, dtype: float64\n"
     ]
    }
   ],
   "source": [
    "quest_2_values = species_no_common[(species_no_common.conservation_status == 'Threatened')|(species_no_common.conservation_status =='Endangered')].category.value_counts()\n",
    "print('***********************************************************************')\n",
    "print('# OF THREATENED OR ENDANGERED SPECIES FOR EACH CATEGORY')\n",
    "print('***********************************************************************')\n",
    "print(quest_2_values)\n",
    "quest_2 = df_categories[(df_categories.conservation_status == 'Threatened')|(df_categories.conservation_status =='Endangered')].groupby('category').sum().reset_index().sort_values(by='observations',ascending=False)\n",
    "print('***********************************************************************')\n",
    "print('# OF OBSERVATIONS OF THREATENED OR ENDANGERED SPECIES FOR EACH CATEGORY')\n",
    "print('***********************************************************************')\n",
    "print(quest_2)\n",
    "#print(pd.crosstab(df_temp.category,df_temp.conservation_status,normalize='index'))\n",
    "Xtab = pd.crosstab(index=df_categories.category,columns=df_categories.conservation_status,values=df_categories.observations,aggfunc=sum,normalize='index')\n",
    "Xtab['Extinction'] = Xtab.Endangered + Xtab.Threatened\n",
    "Xtab = Xtab.sort_values(by='Extinction',ascending=False)\n",
    "print('***********************************************************************')\n",
    "print('% OF OBSERVATIONS OF THREATENED OR ENDANGERED SPECIES FOR EACH CATEGORY')\n",
    "print('***********************************************************************')\n",
    "print(np.round((Xtab.Extinction)*100,2))"
   ]
  },
  {
   "cell_type": "markdown",
   "metadata": {},
   "source": [
    "Looking at the results, we can see that:\n",
    "- __Mammal__ is the category with the highest number of species in danger.\n",
    "- __Fish__ is the category with both the highest number and the highest percentage of observations of threatened and endangered species.\n",
    "- __Amphibians__ have a low number of observations, but the percentage of species in danger observed is just behind Fishes and Mammals.\n",
    "- In contrast, *Vascular Plants* and *Birds*, despite being the categories with the highest number of observation, have a low percentage of observations of species in danger.\n",
    "- Luckily, none of Nonvascular Plant and Reptile species observed is Threatened or Endangered!\n",
    "\n",
    "In order to check possible risks in the future, let's take a look at the numbers and at the percenage of *Species of Concern* observed:"
   ]
  },
  {
   "cell_type": "code",
   "execution_count": 486,
   "metadata": {},
   "outputs": [
    {
     "name": "stdout",
     "output_type": "stream",
     "text": [
      "***********************************************************************\n",
      "# OF SPECIES OF CONCERN FOR EACH CATEGORY\n",
      "***********************************************************************\n",
      "Bird                 68\n",
      "Vascular Plant       43\n",
      "Mammal               22\n",
      "Reptile               5\n",
      "Nonvascular Plant     5\n",
      "Amphibian             4\n",
      "Fish                  4\n",
      "Name: category, dtype: int64\n",
      "*********************************************************\n",
      "% OF OBSERVATIONS OF SPECIES OF CONCERN FOR EACH CATEGORY\n",
      "*********************************************************\n",
      "category\n",
      "Bird                 12.51\n",
      "Mammal               12.35\n",
      "Reptile               5.68\n",
      "Amphibian             4.65\n",
      "Fish                  2.98\n",
      "Nonvascular Plant     1.42\n",
      "Vascular Plant        0.87\n",
      "Name: Species of Concern, dtype: float64\n"
     ]
    }
   ],
   "source": [
    "quest_2_bis = species_no_common[(species_no_common.conservation_status == 'Species of Concern')].category.value_counts()\n",
    "print('***********************************************************************')\n",
    "print('# OF SPECIES OF CONCERN FOR EACH CATEGORY')\n",
    "print('***********************************************************************')\n",
    "print(quest_2_bis)\n",
    "print('*********************************************************')\n",
    "print('% OF OBSERVATIONS OF SPECIES OF CONCERN FOR EACH CATEGORY')\n",
    "print('*********************************************************')\n",
    "print(np.round(Xtab['Species of Concern'].sort_values(ascending=False)*100,2))"
   ]
  },
  {
   "cell_type": "markdown",
   "metadata": {},
   "source": [
    "We can see here that:\n",
    "\n",
    "- __Mammals__ are still among the ones with highest percentage of species of concern observed. The risk of increasing the statistics of *Endangered* and *Threatened* statuses in the near future is quite high.\n",
    "- __Birds__ and __Reptiles__ have few to no species *Endangered* or *Threatened* observed, but the percentages of species of concern observed can be a bad signal for the future.\n",
    "- *Plant* situation seems quite under control."
   ]
  },
  {
   "cell_type": "markdown",
   "metadata": {},
   "source": [
    "### Question 3: Which kind of animals or plants are mostly in danger?"
   ]
  },
  {
   "cell_type": "markdown",
   "metadata": {},
   "source": [
    "Let's look at the `scientific_name`s and `common_name`s of species in danger:"
   ]
  },
  {
   "cell_type": "code",
   "execution_count": 511,
   "metadata": {
    "scrolled": false
   },
   "outputs": [
    {
     "data": {
      "text/html": [
       "<div>\n",
       "<style scoped>\n",
       "    .dataframe tbody tr th:only-of-type {\n",
       "        vertical-align: middle;\n",
       "    }\n",
       "\n",
       "    .dataframe tbody tr th {\n",
       "        vertical-align: top;\n",
       "    }\n",
       "\n",
       "    .dataframe thead th {\n",
       "        text-align: right;\n",
       "    }\n",
       "</style>\n",
       "<table border=\"1\" class=\"dataframe\">\n",
       "  <thead>\n",
       "    <tr style=\"text-align: right;\">\n",
       "      <th></th>\n",
       "      <th>category</th>\n",
       "      <th>scientific_name</th>\n",
       "      <th>conservation_status</th>\n",
       "      <th>common_names</th>\n",
       "    </tr>\n",
       "  </thead>\n",
       "  <tbody>\n",
       "    <tr>\n",
       "      <th>4385</th>\n",
       "      <td>Amphibian</td>\n",
       "      <td>Rana draytonii</td>\n",
       "      <td>Threatened</td>\n",
       "      <td>California Red-Legged Frog</td>\n",
       "    </tr>\n",
       "    <tr>\n",
       "      <th>4382</th>\n",
       "      <td>Amphibian</td>\n",
       "      <td>Anaxyrus canorus</td>\n",
       "      <td>Threatened</td>\n",
       "      <td>Yosemite Toad</td>\n",
       "    </tr>\n",
       "    <tr>\n",
       "      <th>4386</th>\n",
       "      <td>Amphibian</td>\n",
       "      <td>Rana sierrae</td>\n",
       "      <td>Endangered</td>\n",
       "      <td>Sierra Nevada Yellow-Legged Frog</td>\n",
       "    </tr>\n",
       "    <tr>\n",
       "      <th>4306</th>\n",
       "      <td>Bird</td>\n",
       "      <td>Gymnogyps californianus</td>\n",
       "      <td>Endangered</td>\n",
       "      <td>California Condor</td>\n",
       "    </tr>\n",
       "    <tr>\n",
       "      <th>173</th>\n",
       "      <td>Bird</td>\n",
       "      <td>Grus americana</td>\n",
       "      <td>Endangered</td>\n",
       "      <td>Whooping Crane</td>\n",
       "    </tr>\n",
       "    <tr>\n",
       "      <th>276</th>\n",
       "      <td>Bird</td>\n",
       "      <td>Vermivora bachmanii</td>\n",
       "      <td>Endangered</td>\n",
       "      <td>Bachman's Warbler, Bachman's Wood Warbler</td>\n",
       "    </tr>\n",
       "    <tr>\n",
       "      <th>343</th>\n",
       "      <td>Bird</td>\n",
       "      <td>Picoides borealis</td>\n",
       "      <td>Endangered</td>\n",
       "      <td>Red-Cockaded Woodpecker</td>\n",
       "    </tr>\n",
       "    <tr>\n",
       "      <th>570</th>\n",
       "      <td>Fish</td>\n",
       "      <td>Noturus baileyi</td>\n",
       "      <td>Endangered</td>\n",
       "      <td>Smoky Madtom</td>\n",
       "    </tr>\n",
       "    <tr>\n",
       "      <th>3238</th>\n",
       "      <td>Fish</td>\n",
       "      <td>Chasmistes liorus</td>\n",
       "      <td>Endangered</td>\n",
       "      <td>June Sucker</td>\n",
       "    </tr>\n",
       "    <tr>\n",
       "      <th>571</th>\n",
       "      <td>Fish</td>\n",
       "      <td>Noturus flavipinnis</td>\n",
       "      <td>Threatened</td>\n",
       "      <td>Yellowfin Madtom</td>\n",
       "    </tr>\n",
       "    <tr>\n",
       "      <th>560</th>\n",
       "      <td>Fish</td>\n",
       "      <td>Oncorhynchus mykiss</td>\n",
       "      <td>Threatened</td>\n",
       "      <td>Rainbow Trout\\nRainbow Trout</td>\n",
       "    </tr>\n",
       "    <tr>\n",
       "      <th>4397</th>\n",
       "      <td>Fish</td>\n",
       "      <td>Oncorhynchus clarkii henshawi</td>\n",
       "      <td>Threatened</td>\n",
       "      <td>Lahontan Cutthroat Trout</td>\n",
       "    </tr>\n",
       "    <tr>\n",
       "      <th>490</th>\n",
       "      <td>Fish</td>\n",
       "      <td>Erimonax monachus</td>\n",
       "      <td>Threatened</td>\n",
       "      <td>Spotfin Chub</td>\n",
       "    </tr>\n",
       "    <tr>\n",
       "      <th>540</th>\n",
       "      <td>Fish</td>\n",
       "      <td>Etheostoma percnurum</td>\n",
       "      <td>Endangered</td>\n",
       "      <td>Duskytail Darter</td>\n",
       "    </tr>\n",
       "    <tr>\n",
       "      <th>72</th>\n",
       "      <td>Mammal</td>\n",
       "      <td>Glaucomys sabrinus coloratus</td>\n",
       "      <td>Endangered</td>\n",
       "      <td>Carolina Northern Flying Squirrel, Northern Fl...</td>\n",
       "    </tr>\n",
       "    <tr>\n",
       "      <th>3024</th>\n",
       "      <td>Mammal</td>\n",
       "      <td>Ursus arctos horribilis</td>\n",
       "      <td>Threatened</td>\n",
       "      <td>Grizzly Bear</td>\n",
       "    </tr>\n",
       "    <tr>\n",
       "      <th>39</th>\n",
       "      <td>Mammal</td>\n",
       "      <td>Myotis sodalis</td>\n",
       "      <td>Endangered</td>\n",
       "      <td>Indiana Bat, Indiana Or Social Myotis</td>\n",
       "    </tr>\n",
       "    <tr>\n",
       "      <th>4267</th>\n",
       "      <td>Mammal</td>\n",
       "      <td>Ovis canadensis sierrae</td>\n",
       "      <td>Endangered</td>\n",
       "      <td>Sierra Nevada Bighorn Sheep</td>\n",
       "    </tr>\n",
       "    <tr>\n",
       "      <th>38</th>\n",
       "      <td>Mammal</td>\n",
       "      <td>Myotis septentrionalis</td>\n",
       "      <td>Threatened</td>\n",
       "      <td>Northern Long-Eared Bat, Northern Myotis</td>\n",
       "    </tr>\n",
       "    <tr>\n",
       "      <th>34</th>\n",
       "      <td>Mammal</td>\n",
       "      <td>Myotis grisescens</td>\n",
       "      <td>Endangered</td>\n",
       "      <td>Gray Myotis</td>\n",
       "    </tr>\n",
       "    <tr>\n",
       "      <th>9</th>\n",
       "      <td>Mammal</td>\n",
       "      <td>Canis rufus</td>\n",
       "      <td>Endangered</td>\n",
       "      <td>Red Wolf</td>\n",
       "    </tr>\n",
       "    <tr>\n",
       "      <th>8</th>\n",
       "      <td>Mammal</td>\n",
       "      <td>Canis lupus</td>\n",
       "      <td>Endangered</td>\n",
       "      <td>Gray Wolf\\nGray Wolf, Wolf\\nGray Wolf, Wolf</td>\n",
       "    </tr>\n",
       "    <tr>\n",
       "      <th>704</th>\n",
       "      <td>Vascular Plant</td>\n",
       "      <td>Isotria medeoloides</td>\n",
       "      <td>Threatened</td>\n",
       "      <td>Small Whorled Pogonia</td>\n",
       "    </tr>\n",
       "    <tr>\n",
       "      <th>2497</th>\n",
       "      <td>Vascular Plant</td>\n",
       "      <td>Geum radiatum</td>\n",
       "      <td>Endangered</td>\n",
       "      <td>Mountain Avens, Spreading Avens</td>\n",
       "    </tr>\n",
       "    <tr>\n",
       "      <th>2562</th>\n",
       "      <td>Vascular Plant</td>\n",
       "      <td>Spiraea virginiana</td>\n",
       "      <td>Threatened</td>\n",
       "      <td>Virginia Spiraea</td>\n",
       "    </tr>\n",
       "  </tbody>\n",
       "</table>\n",
       "</div>"
      ],
      "text/plain": [
       "            category                scientific_name conservation_status  \\\n",
       "4385       Amphibian                 Rana draytonii          Threatened   \n",
       "4382       Amphibian               Anaxyrus canorus          Threatened   \n",
       "4386       Amphibian                   Rana sierrae          Endangered   \n",
       "4306            Bird        Gymnogyps californianus          Endangered   \n",
       "173             Bird                 Grus americana          Endangered   \n",
       "276             Bird            Vermivora bachmanii          Endangered   \n",
       "343             Bird              Picoides borealis          Endangered   \n",
       "570             Fish                Noturus baileyi          Endangered   \n",
       "3238            Fish              Chasmistes liorus          Endangered   \n",
       "571             Fish            Noturus flavipinnis          Threatened   \n",
       "560             Fish            Oncorhynchus mykiss          Threatened   \n",
       "4397            Fish  Oncorhynchus clarkii henshawi          Threatened   \n",
       "490             Fish              Erimonax monachus          Threatened   \n",
       "540             Fish           Etheostoma percnurum          Endangered   \n",
       "72            Mammal   Glaucomys sabrinus coloratus          Endangered   \n",
       "3024          Mammal        Ursus arctos horribilis          Threatened   \n",
       "39            Mammal                 Myotis sodalis          Endangered   \n",
       "4267          Mammal        Ovis canadensis sierrae          Endangered   \n",
       "38            Mammal         Myotis septentrionalis          Threatened   \n",
       "34            Mammal              Myotis grisescens          Endangered   \n",
       "9             Mammal                    Canis rufus          Endangered   \n",
       "8             Mammal                    Canis lupus          Endangered   \n",
       "704   Vascular Plant            Isotria medeoloides          Threatened   \n",
       "2497  Vascular Plant                  Geum radiatum          Endangered   \n",
       "2562  Vascular Plant             Spiraea virginiana          Threatened   \n",
       "\n",
       "                                           common_names  \n",
       "4385                         California Red-Legged Frog  \n",
       "4382                                      Yosemite Toad  \n",
       "4386                   Sierra Nevada Yellow-Legged Frog  \n",
       "4306                                  California Condor  \n",
       "173                                      Whooping Crane  \n",
       "276           Bachman's Warbler, Bachman's Wood Warbler  \n",
       "343                             Red-Cockaded Woodpecker  \n",
       "570                                        Smoky Madtom  \n",
       "3238                                        June Sucker  \n",
       "571                                    Yellowfin Madtom  \n",
       "560                        Rainbow Trout\\nRainbow Trout  \n",
       "4397                           Lahontan Cutthroat Trout  \n",
       "490                                        Spotfin Chub  \n",
       "540                                    Duskytail Darter  \n",
       "72    Carolina Northern Flying Squirrel, Northern Fl...  \n",
       "3024                                       Grizzly Bear  \n",
       "39                Indiana Bat, Indiana Or Social Myotis  \n",
       "4267                        Sierra Nevada Bighorn Sheep  \n",
       "38             Northern Long-Eared Bat, Northern Myotis  \n",
       "34                                          Gray Myotis  \n",
       "9                                              Red Wolf  \n",
       "8           Gray Wolf\\nGray Wolf, Wolf\\nGray Wolf, Wolf  \n",
       "704                               Small Whorled Pogonia  \n",
       "2497                    Mountain Avens, Spreading Avens  \n",
       "2562                                   Virginia Spiraea  "
      ]
     },
     "execution_count": 511,
     "metadata": {},
     "output_type": "execute_result"
    }
   ],
   "source": [
    "quest_3 = species_no_common[(species_no_common.conservation_status == 'Threatened')|(species_no_common.conservation_status =='Endangered')].sort_values(by='category')\n",
    "common_names=[]\n",
    "for name in quest_3.scientific_name:\n",
    "    \n",
    "    common_names.append(species[species.scientific_name == name].common_names.to_string(index=False))\n",
    "quest_3['common_names'] = common_names\n",
    "quest_3"
   ]
  },
  {
   "cell_type": "markdown",
   "metadata": {},
   "source": [
    "We can see from the table above the species mostly in danger are:\n",
    "\n",
    "- __Bats__ (Mammals): 2 species *Endangered*, 1 species *Threatened*\n",
    "- __Wolves__ (Mammals): 2 species *Endangered* \n",
    "- __Madtoms__ (Fishes): 1 species *Endangered*, 1 species *Threatened*\n",
    "- __Frogs__ (Amphibians): 1 species *Endangered*, 1 species *Threatened*\n",
    "- __Trouts__ (Fishes): 2 species *Threatened*"
   ]
  },
  {
   "cell_type": "markdown",
   "metadata": {},
   "source": [
    "### Question 4: Are some categories more at risk than others (from a statistical point of view)?"
   ]
  },
  {
   "cell_type": "markdown",
   "metadata": {},
   "source": [
    "To answer this question, we can check how many \"safe\" and \"in danger\" species we have for each `category`, and then run a chi2 test between each `category`."
   ]
  },
  {
   "cell_type": "code",
   "execution_count": 574,
   "metadata": {
    "scrolled": false
   },
   "outputs": [
    {
     "name": "stdout",
     "output_type": "stream",
     "text": [
      "chi2 test between Mammal and Bird, p-value = 0.6875948096661336 ==> NOT SIGNIFICANT!\n",
      "\n",
      "chi2 test between Mammal and Reptile, p-value = 0.03835559022969898 ==> SIGNIFICANT!\n",
      "\n",
      "chi2 test between Mammal and Amphibian, p-value = 0.12757669693198975 ==> NOT SIGNIFICANT!\n",
      "\n",
      "chi2 test between Mammal and Fish, p-value = 0.059485666148107276 ==> NOT SIGNIFICANT!\n",
      "\n",
      "chi2 test between Mammal and Vascular Plant, p-value = 1.4405067309854046e-55 ==> SIGNIFICANT!\n",
      "\n",
      "chi2 test between Mammal and Nonvascular Plant, p-value = 1.481868915759314e-10 ==> SIGNIFICANT!\n",
      "\n",
      "chi2 test between Bird and Reptile, p-value = 0.053135422321542065 ==> NOT SIGNIFICANT!\n",
      "\n",
      "chi2 test between Bird and Amphibian, p-value = 0.17593613249594683 ==> NOT SIGNIFICANT!\n",
      "\n",
      "chi2 test between Bird and Fish, p-value = 0.08142210797719057 ==> NOT SIGNIFICANT!\n",
      "\n",
      "chi2 test between Bird and Vascular Plant, p-value = 4.612268031690143e-79 ==> SIGNIFICANT!\n",
      "\n",
      "chi2 test between Bird and Nonvascular Plant, p-value = 1.0546306904975004e-10 ==> SIGNIFICANT!\n",
      "\n",
      "chi2 test between Reptile and Amphibian, p-value = 0.7814504686518953 ==> NOT SIGNIFICANT!\n",
      "\n",
      "chi2 test between Reptile and Fish, p-value = 0.728674626295426 ==> NOT SIGNIFICANT!\n",
      "\n",
      "chi2 test between Reptile and Vascular Plant, p-value = 0.00014505215494675828 ==> SIGNIFICANT!\n",
      "\n",
      "chi2 test between Reptile and Nonvascular Plant, p-value = 0.03362698310726171 ==> SIGNIFICANT!\n",
      "\n",
      "chi2 test between Amphibian and Fish, p-value = 1.0 ==> NOT SIGNIFICANT!\n",
      "\n",
      "chi2 test between Amphibian and Vascular Plant, p-value = 1.0441355146657018e-08 ==> SIGNIFICANT!\n",
      "\n",
      "chi2 test between Amphibian and Nonvascular Plant, p-value = 0.001778554820715609 ==> SIGNIFICANT!\n",
      "\n",
      "chi2 test between Fish and Vascular Plant, p-value = 1.1399132826191538e-12 ==> SIGNIFICANT!\n",
      "\n",
      "chi2 test between Fish and Nonvascular Plant, p-value = 0.00045871248547665644 ==> SIGNIFICANT!\n",
      "\n",
      "chi2 test between Vascular Plant and Nonvascular Plant, p-value = 0.6623419491381985 ==> NOT SIGNIFICANT!\n",
      "\n"
     ]
    }
   ],
   "source": [
    "from scipy.stats import chi2_contingency\n",
    "quest_4 = species_no_common[['category','conservation_status']].fillna('Safe')\n",
    "categories = quest_4.category.unique()\n",
    "for index in range(len(categories)):\n",
    "    category_1 = categories[index]\n",
    "    for category_2 in categories[index+1:]:\n",
    "        if category_1 != category_2:\n",
    "            quest_4_temp = quest_4[(quest_4.category == category_1) | (quest_4.category == category_2)]\n",
    "            total_Xtab_4 = pd.crosstab(index = quest_4_temp.category, columns = quest_4_temp.conservation_status)\n",
    "            total_Xtab_4['In danger'] = total_Xtab_4.sum(1) - total_Xtab_4.Safe\n",
    "            reduced_Xtab_4 = total_Xtab_4[['Safe','In danger']]\n",
    "            chi2,pval,dof,exp = chi2_contingency(reduced_Xtab_4)\n",
    "            if pval >= 0.05:\n",
    "                print(\"chi2 test between \" + category_1 + \" and \" + category_2 + \", p-value = \" + str(pval) + \" ==> NOT SIGNIFICANT!\\n\")\n",
    "            else:\n",
    "                print(\"chi2 test between \" + category_1 + \" and \" + category_2 + \", p-value = \" + str(pval) + \" ==> SIGNIFICANT!\\n\")"
   ]
  },
  {
   "cell_type": "markdown",
   "metadata": {},
   "source": [
    "Looking at the resulting p-values, we can state that:\n",
    "\n",
    "- Plants have a statistically significant lower rate of extinction risk compared to animals\n",
    "- Among animals, a statistically significant difference in extinction risk exists only between Mammals and Reptiles (Mammals having higher risk)"
   ]
  },
  {
   "cell_type": "markdown",
   "metadata": {},
   "source": [
    "### Question 5: Which park has the highest number of observations of *Endangered* and *Threatened* species? "
   ]
  },
  {
   "cell_type": "markdown",
   "metadata": {},
   "source": [
    "To answer this question, let's first check the total number of observation in each park.\n",
    "As a reminder, here are the dimensions of each park considered:\n",
    "\n",
    "- __Yellowstone__ (2219790.71 Acres, 3,468 Sq. miles)\n",
    "- __Yosemite__ (761266.19 Acres, 1,189 Sq. miles)\n",
    "- __Great Smoky Mountains__ (521490.13 Acres, 815 Sq. miles)\n",
    "- __Bryce__ (35835.08 Acres, 56 Sq. miles)"
   ]
  },
  {
   "cell_type": "code",
   "execution_count": 395,
   "metadata": {
    "scrolled": true
   },
   "outputs": [
    {
     "name": "stdout",
     "output_type": "stream",
     "text": [
      "                                     observations\n",
      "park_name                                        \n",
      "Yellowstone National Park                 1443562\n",
      "Yosemite National Park                     863332\n",
      "Bryce National Park                        576025\n",
      "Great Smoky Mountains National Park        431820\n"
     ]
    }
   ],
   "source": [
    "obs_in_parks = df.groupby('park_name').sum().sort_values(by='observations',ascending=False)\n",
    "print(obs_in_parks)"
   ]
  },
  {
   "cell_type": "markdown",
   "metadata": {},
   "source": [
    "Let's find the number of observations per squared mile for each park:"
   ]
  },
  {
   "cell_type": "code",
   "execution_count": 396,
   "metadata": {
    "scrolled": true
   },
   "outputs": [
    {
     "data": {
      "text/html": [
       "<div>\n",
       "<style scoped>\n",
       "    .dataframe tbody tr th:only-of-type {\n",
       "        vertical-align: middle;\n",
       "    }\n",
       "\n",
       "    .dataframe tbody tr th {\n",
       "        vertical-align: top;\n",
       "    }\n",
       "\n",
       "    .dataframe thead th {\n",
       "        text-align: right;\n",
       "    }\n",
       "</style>\n",
       "<table border=\"1\" class=\"dataframe\">\n",
       "  <thead>\n",
       "    <tr style=\"text-align: right;\">\n",
       "      <th></th>\n",
       "      <th>observations</th>\n",
       "    </tr>\n",
       "    <tr>\n",
       "      <th>park_name</th>\n",
       "      <th></th>\n",
       "    </tr>\n",
       "  </thead>\n",
       "  <tbody>\n",
       "    <tr>\n",
       "      <th>Bryce National Park</th>\n",
       "      <td>10286.16</td>\n",
       "    </tr>\n",
       "    <tr>\n",
       "      <th>Yosemite National Park</th>\n",
       "      <td>726.10</td>\n",
       "    </tr>\n",
       "    <tr>\n",
       "      <th>Great Smoky Mountains National Park</th>\n",
       "      <td>529.84</td>\n",
       "    </tr>\n",
       "    <tr>\n",
       "      <th>Yellowstone National Park</th>\n",
       "      <td>416.25</td>\n",
       "    </tr>\n",
       "  </tbody>\n",
       "</table>\n",
       "</div>"
      ],
      "text/plain": [
       "                                     observations\n",
       "park_name                                        \n",
       "Bryce National Park                      10286.16\n",
       "Yosemite National Park                     726.10\n",
       "Great Smoky Mountains National Park        529.84\n",
       "Yellowstone National Park                  416.25"
      ]
     },
     "execution_count": 396,
     "metadata": {},
     "output_type": "execute_result"
    }
   ],
   "source": [
    "dimensions_sq_mile = {'Yellowstone National Park':3468, 'Yosemite National Park':1189, 'Great Smoky Mountains National Park': 815, 'Bryce National Park':56}\n",
    "obs_per_sq_mile = obs_in_parks\n",
    "for park in df.park_name.unique():\n",
    "    obs_per_sq_mile[obs_per_sq_mile.index == park] = round(obs_per_sq_mile[obs_per_sq_mile.index == park]/dimensions_sq_mile[park],2)\n",
    "obs_per_sq_mile.sort_values(by='observations',ascending = False)"
   ]
  },
  {
   "cell_type": "markdown",
   "metadata": {},
   "source": [
    "The number of observations per mile is incredibly high in Bryce National Park compared to other parks!!\n",
    "\n",
    "Let's deepen our analysis including `category` variable:"
   ]
  },
  {
   "cell_type": "code",
   "execution_count": 441,
   "metadata": {
    "scrolled": false
   },
   "outputs": [
    {
     "data": {
      "text/html": [
       "<div>\n",
       "<style scoped>\n",
       "    .dataframe tbody tr th:only-of-type {\n",
       "        vertical-align: middle;\n",
       "    }\n",
       "\n",
       "    .dataframe tbody tr th {\n",
       "        vertical-align: top;\n",
       "    }\n",
       "\n",
       "    .dataframe thead th {\n",
       "        text-align: right;\n",
       "    }\n",
       "</style>\n",
       "<table border=\"1\" class=\"dataframe\">\n",
       "  <thead>\n",
       "    <tr style=\"text-align: right;\">\n",
       "      <th>category</th>\n",
       "      <th>Amphibian</th>\n",
       "      <th>Bird</th>\n",
       "      <th>Fish</th>\n",
       "      <th>Mammal</th>\n",
       "      <th>Nonvascular Plant</th>\n",
       "      <th>Reptile</th>\n",
       "      <th>Vascular Plant</th>\n",
       "    </tr>\n",
       "    <tr>\n",
       "      <th>park_name</th>\n",
       "      <th></th>\n",
       "      <th></th>\n",
       "      <th></th>\n",
       "      <th></th>\n",
       "      <th></th>\n",
       "      <th></th>\n",
       "      <th></th>\n",
       "    </tr>\n",
       "  </thead>\n",
       "  <tbody>\n",
       "    <tr>\n",
       "      <th>Yellowstone National Park</th>\n",
       "      <td>19440</td>\n",
       "      <td>127251</td>\n",
       "      <td>30574</td>\n",
       "      <td>50795</td>\n",
       "      <td>83021</td>\n",
       "      <td>19554</td>\n",
       "      <td>1112927</td>\n",
       "    </tr>\n",
       "    <tr>\n",
       "      <th>Yosemite National Park</th>\n",
       "      <td>11444</td>\n",
       "      <td>76207</td>\n",
       "      <td>18615</td>\n",
       "      <td>30339</td>\n",
       "      <td>49783</td>\n",
       "      <td>11483</td>\n",
       "      <td>665461</td>\n",
       "    </tr>\n",
       "    <tr>\n",
       "      <th>Bryce National Park</th>\n",
       "      <td>7380</td>\n",
       "      <td>51647</td>\n",
       "      <td>12423</td>\n",
       "      <td>20550</td>\n",
       "      <td>32992</td>\n",
       "      <td>7950</td>\n",
       "      <td>443083</td>\n",
       "    </tr>\n",
       "    <tr>\n",
       "      <th>Great Smoky Mountains National Park</th>\n",
       "      <td>5707</td>\n",
       "      <td>37728</td>\n",
       "      <td>9206</td>\n",
       "      <td>15012</td>\n",
       "      <td>24857</td>\n",
       "      <td>5691</td>\n",
       "      <td>333619</td>\n",
       "    </tr>\n",
       "  </tbody>\n",
       "</table>\n",
       "</div>"
      ],
      "text/plain": [
       "category                             Amphibian    Bird   Fish  Mammal  \\\n",
       "park_name                                                               \n",
       "Yellowstone National Park                19440  127251  30574   50795   \n",
       "Yosemite National Park                   11444   76207  18615   30339   \n",
       "Bryce National Park                       7380   51647  12423   20550   \n",
       "Great Smoky Mountains National Park       5707   37728   9206   15012   \n",
       "\n",
       "category                             Nonvascular Plant  Reptile  \\\n",
       "park_name                                                         \n",
       "Yellowstone National Park                        83021    19554   \n",
       "Yosemite National Park                           49783    11483   \n",
       "Bryce National Park                              32992     7950   \n",
       "Great Smoky Mountains National Park              24857     5691   \n",
       "\n",
       "category                             Vascular Plant  \n",
       "park_name                                            \n",
       "Yellowstone National Park                   1112927  \n",
       "Yosemite National Park                       665461  \n",
       "Bryce National Park                          443083  \n",
       "Great Smoky Mountains National Park          333619  "
      ]
     },
     "execution_count": 441,
     "metadata": {},
     "output_type": "execute_result"
    }
   ],
   "source": [
    "Xtot = pd.crosstab(index=df['park_name'],columns=df['category'],values=df['observations'],aggfunc=sum,normalize=False)\n",
    "Xtot['Total'] = Xtot.sum(1)\n",
    "Xtot = Xtot.sort_values(by='Total',ascending=False).drop(['Total'],axis=1)\n",
    "Xtot"
   ]
  },
  {
   "cell_type": "code",
   "execution_count": 442,
   "metadata": {},
   "outputs": [
    {
     "data": {
      "image/png": "[encoded data removed]",
      "text/plain": [
       "<Figure size 1080x432 with 2 Axes>"
      ]
     },
     "metadata": {
      "needs_background": "light"
     },
     "output_type": "display_data"
    },
    {
     "data": {
      "text/html": [
       "<div>\n",
       "<style scoped>\n",
       "    .dataframe tbody tr th:only-of-type {\n",
       "        vertical-align: middle;\n",
       "    }\n",
       "\n",
       "    .dataframe tbody tr th {\n",
       "        vertical-align: top;\n",
       "    }\n",
       "\n",
       "    .dataframe thead th {\n",
       "        text-align: right;\n",
       "    }\n",
       "</style>\n",
       "<table border=\"1\" class=\"dataframe\">\n",
       "  <thead>\n",
       "    <tr style=\"text-align: right;\">\n",
       "      <th>category</th>\n",
       "      <th>Amphibian</th>\n",
       "      <th>Bird</th>\n",
       "      <th>Fish</th>\n",
       "      <th>Mammal</th>\n",
       "      <th>Nonvascular Plant</th>\n",
       "      <th>Reptile</th>\n",
       "      <th>Vascular Plant</th>\n",
       "    </tr>\n",
       "    <tr>\n",
       "      <th>park_name</th>\n",
       "      <th></th>\n",
       "      <th></th>\n",
       "      <th></th>\n",
       "      <th></th>\n",
       "      <th></th>\n",
       "      <th></th>\n",
       "      <th></th>\n",
       "    </tr>\n",
       "  </thead>\n",
       "  <tbody>\n",
       "    <tr>\n",
       "      <th>Yellowstone National Park</th>\n",
       "      <td>1.35</td>\n",
       "      <td>8.82</td>\n",
       "      <td>2.12</td>\n",
       "      <td>3.52</td>\n",
       "      <td>5.75</td>\n",
       "      <td>1.35</td>\n",
       "      <td>77.10</td>\n",
       "    </tr>\n",
       "    <tr>\n",
       "      <th>Yosemite National Park</th>\n",
       "      <td>1.33</td>\n",
       "      <td>8.83</td>\n",
       "      <td>2.16</td>\n",
       "      <td>3.51</td>\n",
       "      <td>5.77</td>\n",
       "      <td>1.33</td>\n",
       "      <td>77.08</td>\n",
       "    </tr>\n",
       "    <tr>\n",
       "      <th>Bryce National Park</th>\n",
       "      <td>1.28</td>\n",
       "      <td>8.97</td>\n",
       "      <td>2.16</td>\n",
       "      <td>3.57</td>\n",
       "      <td>5.73</td>\n",
       "      <td>1.38</td>\n",
       "      <td>76.92</td>\n",
       "    </tr>\n",
       "    <tr>\n",
       "      <th>Great Smoky Mountains National Park</th>\n",
       "      <td>1.32</td>\n",
       "      <td>8.74</td>\n",
       "      <td>2.13</td>\n",
       "      <td>3.48</td>\n",
       "      <td>5.76</td>\n",
       "      <td>1.32</td>\n",
       "      <td>77.26</td>\n",
       "    </tr>\n",
       "  </tbody>\n",
       "</table>\n",
       "</div>"
      ],
      "text/plain": [
       "category                             Amphibian  Bird  Fish  Mammal  \\\n",
       "park_name                                                            \n",
       "Yellowstone National Park                 1.35  8.82  2.12    3.52   \n",
       "Yosemite National Park                    1.33  8.83  2.16    3.51   \n",
       "Bryce National Park                       1.28  8.97  2.16    3.57   \n",
       "Great Smoky Mountains National Park       1.32  8.74  2.13    3.48   \n",
       "\n",
       "category                             Nonvascular Plant  Reptile  \\\n",
       "park_name                                                         \n",
       "Yellowstone National Park                         5.75     1.35   \n",
       "Yosemite National Park                            5.77     1.33   \n",
       "Bryce National Park                               5.73     1.38   \n",
       "Great Smoky Mountains National Park               5.76     1.32   \n",
       "\n",
       "category                             Vascular Plant  \n",
       "park_name                                            \n",
       "Yellowstone National Park                     77.10  \n",
       "Yosemite National Park                        77.08  \n",
       "Bryce National Park                           76.92  \n",
       "Great Smoky Mountains National Park           77.26  "
      ]
     },
     "execution_count": 442,
     "metadata": {},
     "output_type": "execute_result"
    }
   ],
   "source": [
    "fig, axes = plt.subplots(nrows = 1,ncols = 2, figsize=(15,6))\n",
    "Xtot.plot(kind='bar', stacked=True, ax=axes[0],title='# of observations for each category in each park',ylabel='# of observations')\n",
    "Xtot = Xtot.div(Xtot.sum(axis=1), axis=0)\n",
    "Xtot.plot(kind='bar', stacked=True, ax=axes[1])\n",
    "plt.title('% of observations for each category in each park')\n",
    "plt.ylabel('% of observations')\n",
    "plt.show()\n",
    "np.round(Xtot*100,2)"
   ]
  },
  {
   "cell_type": "markdown",
   "metadata": {},
   "source": [
    "Looking at the graphs, we discover that the proportion of observations for each category is exactly the same in all parks.\n",
    "\n",
    "Thus, we can state without doubts that, despite its smaller dimensions, __Bryce National Park has a very high density of living beings compared to other parks__. \n",
    "\n",
    "Maybe its small dimensions are the reason of such density: a smaller park is easier to examine than a bigger one. And Bryce's 56 squared miles are very much lower even than the 815 squared miles of Great Smoky Mountains. How many rangers are needed to cover all 3500 squared miles of Yellowstone park? That's huge!\n",
    "\n",
    "Anyway, we don't know how those data have been collected from the parks, so these observations are just speculations. \n",
    "Let's move forward then and seek how many species in danger we have in each park:"
   ]
  },
  {
   "cell_type": "code",
   "execution_count": 439,
   "metadata": {},
   "outputs": [
    {
     "data": {
      "text/html": [
       "<div>\n",
       "<style scoped>\n",
       "    .dataframe tbody tr th:only-of-type {\n",
       "        vertical-align: middle;\n",
       "    }\n",
       "\n",
       "    .dataframe tbody tr th {\n",
       "        vertical-align: top;\n",
       "    }\n",
       "\n",
       "    .dataframe thead th {\n",
       "        text-align: right;\n",
       "    }\n",
       "</style>\n",
       "<table border=\"1\" class=\"dataframe\">\n",
       "  <thead>\n",
       "    <tr style=\"text-align: right;\">\n",
       "      <th>category</th>\n",
       "      <th>Amphibian</th>\n",
       "      <th>Bird</th>\n",
       "      <th>Fish</th>\n",
       "      <th>Mammal</th>\n",
       "      <th>Vascular Plant</th>\n",
       "      <th>Total</th>\n",
       "      <th>Total_norm</th>\n",
       "    </tr>\n",
       "    <tr>\n",
       "      <th>park_name</th>\n",
       "      <th></th>\n",
       "      <th></th>\n",
       "      <th></th>\n",
       "      <th></th>\n",
       "      <th></th>\n",
       "      <th></th>\n",
       "      <th></th>\n",
       "    </tr>\n",
       "  </thead>\n",
       "  <tbody>\n",
       "    <tr>\n",
       "      <th>Yellowstone National Park</th>\n",
       "      <td>315</td>\n",
       "      <td>243</td>\n",
       "      <td>920</td>\n",
       "      <td>918</td>\n",
       "      <td>291</td>\n",
       "      <td>2687</td>\n",
       "      <td>0.77</td>\n",
       "    </tr>\n",
       "    <tr>\n",
       "      <th>Yosemite National Park</th>\n",
       "      <td>198</td>\n",
       "      <td>172</td>\n",
       "      <td>509</td>\n",
       "      <td>526</td>\n",
       "      <td>191</td>\n",
       "      <td>1596</td>\n",
       "      <td>1.34</td>\n",
       "    </tr>\n",
       "    <tr>\n",
       "      <th>Bryce National Park</th>\n",
       "      <td>111</td>\n",
       "      <td>98</td>\n",
       "      <td>392</td>\n",
       "      <td>355</td>\n",
       "      <td>124</td>\n",
       "      <td>1080</td>\n",
       "      <td>19.29</td>\n",
       "    </tr>\n",
       "    <tr>\n",
       "      <th>Great Smoky Mountains National Park</th>\n",
       "      <td>84</td>\n",
       "      <td>61</td>\n",
       "      <td>279</td>\n",
       "      <td>242</td>\n",
       "      <td>108</td>\n",
       "      <td>774</td>\n",
       "      <td>0.95</td>\n",
       "    </tr>\n",
       "  </tbody>\n",
       "</table>\n",
       "</div>"
      ],
      "text/plain": [
       "category                             Amphibian  Bird  Fish  Mammal  \\\n",
       "park_name                                                            \n",
       "Yellowstone National Park                  315   243   920     918   \n",
       "Yosemite National Park                     198   172   509     526   \n",
       "Bryce National Park                        111    98   392     355   \n",
       "Great Smoky Mountains National Park         84    61   279     242   \n",
       "\n",
       "category                             Vascular Plant  Total  Total_norm  \n",
       "park_name                                                               \n",
       "Yellowstone National Park                       291   2687        0.77  \n",
       "Yosemite National Park                          191   1596        1.34  \n",
       "Bryce National Park                             124   1080       19.29  \n",
       "Great Smoky Mountains National Park             108    774        0.95  "
      ]
     },
     "execution_count": 439,
     "metadata": {},
     "output_type": "execute_result"
    }
   ],
   "source": [
    "quest_3 = df[(df.conservation_status == 'Threatened')|(df.conservation_status =='Endangered')][['category','park_name','observations']]\n",
    "quest_3_ordered = pd.crosstab(index=quest_3['park_name'],columns=quest_3['category'],values=quest_3['observations'],aggfunc=sum,normalize=False)\n",
    "quest_3_ordered['Total'] = quest_3_ordered.sum(1)\n",
    "quest_3_ordered = quest_3_ordered.sort_values(by='Total',ascending=False)\n",
    "dimensions_sq_mile_df = pd.DataFrame(dimensions_sq_mile,index=['Sq. Miles'])#'Yellowstone National Park','Yosemite National Park','Great Smoky Mountains National Park','Bryce National Park'])\n",
    "dimensions_sq_mile_df = dimensions_sq_mile_df.T\n",
    "quest_3_ordered['Total_norm'] = quest_3_ordered['Total'].div(dimensions_sq_mile_df['Sq. Miles'],axis=0).round(2)\n",
    "quest_3_ordered"
   ]
  },
  {
   "cell_type": "code",
   "execution_count": 440,
   "metadata": {
    "scrolled": false
   },
   "outputs": [
    {
     "data": {
      "image/png": "[encoded data removed]",
      "text/plain": [
       "<Figure size 1080x432 with 2 Axes>"
      ]
     },
     "metadata": {
      "needs_background": "light"
     },
     "output_type": "display_data"
    },
    {
     "data": {
      "text/html": [
       "<div>\n",
       "<style scoped>\n",
       "    .dataframe tbody tr th:only-of-type {\n",
       "        vertical-align: middle;\n",
       "    }\n",
       "\n",
       "    .dataframe tbody tr th {\n",
       "        vertical-align: top;\n",
       "    }\n",
       "\n",
       "    .dataframe thead th {\n",
       "        text-align: right;\n",
       "    }\n",
       "</style>\n",
       "<table border=\"1\" class=\"dataframe\">\n",
       "  <thead>\n",
       "    <tr style=\"text-align: right;\">\n",
       "      <th>category</th>\n",
       "      <th>Amphibian</th>\n",
       "      <th>Bird</th>\n",
       "      <th>Fish</th>\n",
       "      <th>Mammal</th>\n",
       "      <th>Vascular Plant</th>\n",
       "    </tr>\n",
       "    <tr>\n",
       "      <th>park_name</th>\n",
       "      <th></th>\n",
       "      <th></th>\n",
       "      <th></th>\n",
       "      <th></th>\n",
       "      <th></th>\n",
       "    </tr>\n",
       "  </thead>\n",
       "  <tbody>\n",
       "    <tr>\n",
       "      <th>Yellowstone National Park</th>\n",
       "      <td>0.117231</td>\n",
       "      <td>0.090435</td>\n",
       "      <td>0.342389</td>\n",
       "      <td>0.341645</td>\n",
       "      <td>0.108299</td>\n",
       "    </tr>\n",
       "    <tr>\n",
       "      <th>Yosemite National Park</th>\n",
       "      <td>0.124060</td>\n",
       "      <td>0.107769</td>\n",
       "      <td>0.318922</td>\n",
       "      <td>0.329574</td>\n",
       "      <td>0.119674</td>\n",
       "    </tr>\n",
       "    <tr>\n",
       "      <th>Bryce National Park</th>\n",
       "      <td>0.102778</td>\n",
       "      <td>0.090741</td>\n",
       "      <td>0.362963</td>\n",
       "      <td>0.328704</td>\n",
       "      <td>0.114815</td>\n",
       "    </tr>\n",
       "    <tr>\n",
       "      <th>Great Smoky Mountains National Park</th>\n",
       "      <td>0.108527</td>\n",
       "      <td>0.078811</td>\n",
       "      <td>0.360465</td>\n",
       "      <td>0.312661</td>\n",
       "      <td>0.139535</td>\n",
       "    </tr>\n",
       "  </tbody>\n",
       "</table>\n",
       "</div>"
      ],
      "text/plain": [
       "category                             Amphibian      Bird      Fish    Mammal  \\\n",
       "park_name                                                                      \n",
       "Yellowstone National Park             0.117231  0.090435  0.342389  0.341645   \n",
       "Yosemite National Park                0.124060  0.107769  0.318922  0.329574   \n",
       "Bryce National Park                   0.102778  0.090741  0.362963  0.328704   \n",
       "Great Smoky Mountains National Park   0.108527  0.078811  0.360465  0.312661   \n",
       "\n",
       "category                             Vascular Plant  \n",
       "park_name                                            \n",
       "Yellowstone National Park                  0.108299  \n",
       "Yosemite National Park                     0.119674  \n",
       "Bryce National Park                        0.114815  \n",
       "Great Smoky Mountains National Park        0.139535  "
      ]
     },
     "execution_count": 440,
     "metadata": {},
     "output_type": "execute_result"
    }
   ],
   "source": [
    "fig, axes = plt.subplots(nrows = 1,ncols = 2, figsize=(15,6))\n",
    "quest_3_ordered.drop(['Total','Total_norm'],axis=1,inplace=True)\n",
    "quest_3_ordered.plot(kind='bar',ax=axes[0],title='# of observations in each park for each category in danger',ylabel='# of observations')\n",
    "quest_3_ordered = quest_3_ordered.div(quest_3_ordered.sum(axis=1), axis=0)\n",
    "quest_3_ordered.plot(kind='bar',ax=axes[1],title='% of observations in each park for each category in danger',ylabel='% of observations')\n",
    "plt.show()\n",
    "quest_3_ordered"
   ]
  },
  {
   "cell_type": "markdown",
   "metadata": {},
   "source": [
    "We can see from the first table that the number of observations of species in danger (Endangered or Threatened) follows the same distribution among parks as the total number of observations, with __Bryce national park having more than 19 protected species observed per squared mile__.\n",
    "\n",
    "Interestingly, unlike the total number of observations, the proportions of species at risk observed is slightly different between the parks:\n",
    "\n",
    "- Fishes and Mammals are the most common in all parks. They are equally observed at Yellowstone and Yosemite parks, while at Bryce and Great Smoky Mountains parks Fishes at risk are more frequent.\n",
    "- Amphibian and Vascular plants counts between 10% and 15% of observations. Amphibians are slightly more at Yellowstone and Yosemite, while Plants are more frequent at Bryce and Great Smoky Mountains.\n",
    "- Birds are the least common, counting between 5% and 10% of observations, the highest amount at Yosemite, the lowest at Great Smoky Mountains."
   ]
  },
  {
   "cell_type": "markdown",
   "metadata": {},
   "source": [
    "## Step Three: Conclusions"
   ]
  },
  {
   "cell_type": "markdown",
   "metadata": {},
   "source": [
    "At the end of our journey inside the nature, after analyzing data concerning several species, their conservation status and their observation in four US National Parks, we discovered a lot of things. Let's sum them up:\n",
    "\n",
    "1) __Plants__ (in particular Vascular Plants) are the most common in all parks considered, and luckily their risk of __extinction is very low__: they have a statistically significant lower rate of risk than any other animal species considered!\n",
    "\n",
    "2) __Mammals are the species with the highest risk of extinction__, since they are the category with the highest number of protected species. Among Mammals, __Bats are the animals more in danger__ (with 3 species *Endangered* or *Threatened*), followeb by Wolves (with 2 species *Endangered* or *Threatened*)\n",
    "\n",
    "3) __Birds__ have a high number of observation and low number of *Endangered* or *Threatened* species. Nevertheless, they __have the highest number of *Species of concern*__, thus their situation must be monitored carefully\n",
    "\n",
    "4) Fishes have the highest percentage of species in danger seen, despite the number of total observations not that big. __Madtoms are the fishes more in danger__, with 2 species *Engangered* or *Threatened\n",
    "\n",
    "5) Amphibians and Reptiles have the lowest number of observations, and their conservation statuses are quite good (__Reptiles have zero *Endangered* or *Threatened* species__). Probably the low number of species influences the conservation status evaluations though.\n",
    "\n",
    "6) __Yellowstone National Park__, being the biggest park considered (with 3468 squared miles), __is the one with the highest number of observations__, both in general and of species in danger.\n",
    "\n",
    "7) __Bryce National Park__, despite being the smallest (with 56 squared miles), or maybe thanks to that, __is the one with the highest density of species observed__ (both in general and in danger): almost 10300 observations per squared mile, among which more than 19 are of species in danger!"
   ]
  },
  {
   "cell_type": "markdown",
   "metadata": {},
   "source": [
    "## Step Four: Limitations and Future works"
   ]
  },
  {
   "cell_type": "markdown",
   "metadata": {},
   "source": [
    "Even if we were able to draw some conclusions, this analysis has some limitations, such as:\n",
    "\n",
    " - The number of species considered is limited to the ones observed in one week. \n",
    " \n",
    " - The observations are limited to 4 National Parks.\n",
    " \n",
    " - The analysis we have done is just a photography of the distribution of species (with their conservation status) in a specific temporal frame. We do not have any follow up (has the situation improved for Mammals? Did Birds have a worsening in their conservation status as the number of *Species of concer* was suggesting?)\n",
    " \n",
    "Given these limitations, here are some possible future developments to improve the analysis:\n",
    "\n",
    "1) Consider observation in a timespan higher than one week\n",
    "\n",
    "2) Extend the research to more National Parks\n",
    "\n",
    "3) Analyze several sessions of observations in multiple years, in order for instance to check whether *Species of concern* get worse or species *In recovery* get better."
   ]
  }
 ],
 "metadata": {
  "kernelspec": {
   "display_name": "Python 3 (ipykernel)",
   "language": "python",
   "name": "python3"
  },
  "language_info": {
   "codemirror_mode": {
    "name": "ipython",
    "version": 3
   },
   "file_extension": ".py",
   "mimetype": "text/x-python",
   "name": "python",
   "nbconvert_exporter": "python",
   "pygments_lexer": "ipython3",
   "version": "3.9.12"
  }
 },
 "nbformat": 4,
 "nbformat_minor": 4
}
