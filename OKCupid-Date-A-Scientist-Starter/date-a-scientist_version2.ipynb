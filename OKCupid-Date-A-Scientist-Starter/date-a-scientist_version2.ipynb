{
 "cells": [
  {
   "cell_type": "markdown",
   "metadata": {},
   "source": [
    "# OKCupid Date-A-Scientist Portfolio Project"
   ]
  },
  {
   "cell_type": "markdown",
   "metadata": {},
   "source": [
    "## Introduction"
   ]
  },
  {
   "cell_type": "markdown",
   "metadata": {},
   "source": [
    "In recent years, there has been a massive rise in the usage of dating apps to find love. Many of these apps use sophisticated data science techniques to recommend possible matches to users and to optimize the user experience. These apps give us access to a wealth of information that we’ve never had before about how different people experience romance.\n",
    "\n",
    "In this portfolio project, I will analyze some data from OKCupid, an app that focuses on using multiple choice and short answers to match users.\n",
    "The analysis will be split in 2 parts:\n",
    "\n",
    "1) __Supervised Learning__: using some of the data as features, several ML approaches will be used to predict another feature, used as a target label.\n",
    "\n",
    "2) __Unsupervised Learning__: the main goal of dating apps is to match people. So I will use an unsupervised ML approach to find clusters of users that could match starting from their own data.\n"
   ]
  },
  {
   "cell_type": "markdown",
   "metadata": {},
   "source": [
    "## Step 1: EDA and Feature Engineering"
   ]
  },
  {
   "cell_type": "markdown",
   "metadata": {},
   "source": [
    "First task is always to look at the data we have, understand them and rearrange them in order to have the correct input format for a Machine Learning algorithm."
   ]
  },
  {
   "cell_type": "code",
   "execution_count": 29,
   "metadata": {},
   "outputs": [
    {
     "name": "stdout",
     "output_type": "stream",
     "text": [
      "<class 'pandas.core.frame.DataFrame'>\n",
      "RangeIndex: 59946 entries, 0 to 59945\n",
      "Data columns (total 31 columns):\n",
      " #   Column       Non-Null Count  Dtype  \n",
      "---  ------       --------------  -----  \n",
      " 0   age          59946 non-null  int64  \n",
      " 1   body_type    54650 non-null  object \n",
      " 2   diet         35551 non-null  object \n",
      " 3   drinks       56961 non-null  object \n",
      " 4   drugs        45866 non-null  object \n",
      " 5   education    53318 non-null  object \n",
      " 6   essay0       54458 non-null  object \n",
      " 7   essay1       52374 non-null  object \n",
      " 8   essay2       50308 non-null  object \n",
      " 9   essay3       48470 non-null  object \n",
      " 10  essay4       49409 non-null  object \n",
      " 11  essay5       49096 non-null  object \n",
      " 12  essay6       46175 non-null  object \n",
      " 13  essay7       47495 non-null  object \n",
      " 14  essay8       40721 non-null  object \n",
      " 15  essay9       47343 non-null  object \n",
      " 16  ethnicity    54266 non-null  object \n",
      " 17  height       59943 non-null  float64\n",
      " 18  income       59946 non-null  int64  \n",
      " 19  job          51748 non-null  object \n",
      " 20  last_online  59946 non-null  object \n",
      " 21  location     59946 non-null  object \n",
      " 22  offspring    24385 non-null  object \n",
      " 23  orientation  59946 non-null  object \n",
      " 24  pets         40025 non-null  object \n",
      " 25  religion     39720 non-null  object \n",
      " 26  sex          59946 non-null  object \n",
      " 27  sign         48890 non-null  object \n",
      " 28  smokes       54434 non-null  object \n",
      " 29  speaks       59896 non-null  object \n",
      " 30  status       59946 non-null  object \n",
      "dtypes: float64(1), int64(2), object(28)\n",
      "memory usage: 14.2+ MB\n",
      "None\n"
     ]
    }
   ],
   "source": [
    "import pandas as pd\n",
    "import numpy as np\n",
    "import matplotlib.pyplot as plt\n",
    "import seaborn as sns\n",
    "\n",
    "df = pd.read_csv('profiles.csv')\n",
    "print(df.info())"
   ]
  },
  {
   "cell_type": "markdown",
   "metadata": {},
   "source": [
    "From `.info()` method we learn that:\n",
    "\n",
    "1) We have 59946 rows (i.e: 59946 OKCupid profiles)\\\n",
    "2) We have 31 features, the majority of which is a string (possibly categorical variables)\\\n",
    "3) There are only 3 numerical features: `age`, `height` and `income`\\\n",
    "4) Most of the features have several NaNs (only 7 features have no NaNs)\n",
    "\n",
    "We can see also that there are 10 `essay` features. Looking on [kaggle](https://www.kaggle.com/datasets/andrewmvd/okcupid-profiles/discussion/183145), we understand that those essays are open answers to the follwing questions:\n",
    "\n",
    "essay0- My self summary\\\n",
    "essay1- What I’m doing with my life\\\n",
    "essay2- I’m really good at\\\n",
    "essay3- The first thing people usually notice about me\\\n",
    "essay4- Favorite books, movies, show, music, and food\\\n",
    "essay5- The six things I could never do without\\\n",
    "essay6- I spend a lot of time thinking about\\\n",
    "essay7- On a typical Friday night I am\\\n",
    "essay8- The most private thing I am willing to admit\\\n",
    "essay9- You should message me if..."
   ]
  },
  {
   "cell_type": "markdown",
   "metadata": {},
   "source": [
    "Being `essay` columns open text, they could be input to a Naive Bayes Classifier.\n",
    "\n",
    "It could be helpful to gather all the information from all 10 essays into one big essay, and use it to try to predict some other feature. \n",
    "\n",
    "__DA SISTEMARE__ Nevertheless, considering our goal of finding clusters of possible matches using Unsupervised Learning Algorithms, those features could be difficult to handle; thus, for now we are going to exclude them. Let's create a DataFrame `X` dropping all the essay features."
   ]
  },
  {
   "cell_type": "code",
   "execution_count": 30,
   "metadata": {},
   "outputs": [],
   "source": [
    "X = df.drop(columns = list(df.filter(regex = 'essay')), axis = 1)"
   ]
  },
  {
   "cell_type": "markdown",
   "metadata": {},
   "source": [
    "Let's look now each individual feature, in order to understand whether we can give it as input to our Machine Learning Algorithm. We start with a `.describe()` summary:"
   ]
  },
  {
   "cell_type": "code",
   "execution_count": 31,
   "metadata": {},
   "outputs": [
    {
     "data": {
      "text/html": [
       "<div>\n",
       "<style scoped>\n",
       "    .dataframe tbody tr th:only-of-type {\n",
       "        vertical-align: middle;\n",
       "    }\n",
       "\n",
       "    .dataframe tbody tr th {\n",
       "        vertical-align: top;\n",
       "    }\n",
       "\n",
       "    .dataframe thead th {\n",
       "        text-align: right;\n",
       "    }\n",
       "</style>\n",
       "<table border=\"1\" class=\"dataframe\">\n",
       "  <thead>\n",
       "    <tr style=\"text-align: right;\">\n",
       "      <th></th>\n",
       "      <th>age</th>\n",
       "      <th>body_type</th>\n",
       "      <th>diet</th>\n",
       "      <th>drinks</th>\n",
       "      <th>drugs</th>\n",
       "      <th>education</th>\n",
       "      <th>ethnicity</th>\n",
       "      <th>height</th>\n",
       "      <th>income</th>\n",
       "      <th>job</th>\n",
       "      <th>...</th>\n",
       "      <th>location</th>\n",
       "      <th>offspring</th>\n",
       "      <th>orientation</th>\n",
       "      <th>pets</th>\n",
       "      <th>religion</th>\n",
       "      <th>sex</th>\n",
       "      <th>sign</th>\n",
       "      <th>smokes</th>\n",
       "      <th>speaks</th>\n",
       "      <th>status</th>\n",
       "    </tr>\n",
       "  </thead>\n",
       "  <tbody>\n",
       "    <tr>\n",
       "      <th>count</th>\n",
       "      <td>59946.000000</td>\n",
       "      <td>54650</td>\n",
       "      <td>35551</td>\n",
       "      <td>56961</td>\n",
       "      <td>45866</td>\n",
       "      <td>53318</td>\n",
       "      <td>54266</td>\n",
       "      <td>59943.000000</td>\n",
       "      <td>59946.000000</td>\n",
       "      <td>51748</td>\n",
       "      <td>...</td>\n",
       "      <td>59946</td>\n",
       "      <td>24385</td>\n",
       "      <td>59946</td>\n",
       "      <td>40025</td>\n",
       "      <td>39720</td>\n",
       "      <td>59946</td>\n",
       "      <td>48890</td>\n",
       "      <td>54434</td>\n",
       "      <td>59896</td>\n",
       "      <td>59946</td>\n",
       "    </tr>\n",
       "    <tr>\n",
       "      <th>unique</th>\n",
       "      <td>NaN</td>\n",
       "      <td>12</td>\n",
       "      <td>18</td>\n",
       "      <td>6</td>\n",
       "      <td>3</td>\n",
       "      <td>32</td>\n",
       "      <td>217</td>\n",
       "      <td>NaN</td>\n",
       "      <td>NaN</td>\n",
       "      <td>21</td>\n",
       "      <td>...</td>\n",
       "      <td>199</td>\n",
       "      <td>15</td>\n",
       "      <td>3</td>\n",
       "      <td>15</td>\n",
       "      <td>45</td>\n",
       "      <td>2</td>\n",
       "      <td>48</td>\n",
       "      <td>5</td>\n",
       "      <td>7647</td>\n",
       "      <td>5</td>\n",
       "    </tr>\n",
       "    <tr>\n",
       "      <th>top</th>\n",
       "      <td>NaN</td>\n",
       "      <td>average</td>\n",
       "      <td>mostly anything</td>\n",
       "      <td>socially</td>\n",
       "      <td>never</td>\n",
       "      <td>graduated from college/university</td>\n",
       "      <td>white</td>\n",
       "      <td>NaN</td>\n",
       "      <td>NaN</td>\n",
       "      <td>other</td>\n",
       "      <td>...</td>\n",
       "      <td>san francisco, california</td>\n",
       "      <td>doesn&amp;rsquo;t have kids</td>\n",
       "      <td>straight</td>\n",
       "      <td>likes dogs and likes cats</td>\n",
       "      <td>agnosticism</td>\n",
       "      <td>m</td>\n",
       "      <td>gemini and it&amp;rsquo;s fun to think about</td>\n",
       "      <td>no</td>\n",
       "      <td>english</td>\n",
       "      <td>single</td>\n",
       "    </tr>\n",
       "    <tr>\n",
       "      <th>freq</th>\n",
       "      <td>NaN</td>\n",
       "      <td>14652</td>\n",
       "      <td>16585</td>\n",
       "      <td>41780</td>\n",
       "      <td>37724</td>\n",
       "      <td>23959</td>\n",
       "      <td>32831</td>\n",
       "      <td>NaN</td>\n",
       "      <td>NaN</td>\n",
       "      <td>7589</td>\n",
       "      <td>...</td>\n",
       "      <td>31064</td>\n",
       "      <td>7560</td>\n",
       "      <td>51606</td>\n",
       "      <td>14814</td>\n",
       "      <td>2724</td>\n",
       "      <td>35829</td>\n",
       "      <td>1782</td>\n",
       "      <td>43896</td>\n",
       "      <td>21828</td>\n",
       "      <td>55697</td>\n",
       "    </tr>\n",
       "    <tr>\n",
       "      <th>mean</th>\n",
       "      <td>32.340290</td>\n",
       "      <td>NaN</td>\n",
       "      <td>NaN</td>\n",
       "      <td>NaN</td>\n",
       "      <td>NaN</td>\n",
       "      <td>NaN</td>\n",
       "      <td>NaN</td>\n",
       "      <td>68.295281</td>\n",
       "      <td>20033.222534</td>\n",
       "      <td>NaN</td>\n",
       "      <td>...</td>\n",
       "      <td>NaN</td>\n",
       "      <td>NaN</td>\n",
       "      <td>NaN</td>\n",
       "      <td>NaN</td>\n",
       "      <td>NaN</td>\n",
       "      <td>NaN</td>\n",
       "      <td>NaN</td>\n",
       "      <td>NaN</td>\n",
       "      <td>NaN</td>\n",
       "      <td>NaN</td>\n",
       "    </tr>\n",
       "    <tr>\n",
       "      <th>std</th>\n",
       "      <td>9.452779</td>\n",
       "      <td>NaN</td>\n",
       "      <td>NaN</td>\n",
       "      <td>NaN</td>\n",
       "      <td>NaN</td>\n",
       "      <td>NaN</td>\n",
       "      <td>NaN</td>\n",
       "      <td>3.994803</td>\n",
       "      <td>97346.192104</td>\n",
       "      <td>NaN</td>\n",
       "      <td>...</td>\n",
       "      <td>NaN</td>\n",
       "      <td>NaN</td>\n",
       "      <td>NaN</td>\n",
       "      <td>NaN</td>\n",
       "      <td>NaN</td>\n",
       "      <td>NaN</td>\n",
       "      <td>NaN</td>\n",
       "      <td>NaN</td>\n",
       "      <td>NaN</td>\n",
       "      <td>NaN</td>\n",
       "    </tr>\n",
       "    <tr>\n",
       "      <th>min</th>\n",
       "      <td>18.000000</td>\n",
       "      <td>NaN</td>\n",
       "      <td>NaN</td>\n",
       "      <td>NaN</td>\n",
       "      <td>NaN</td>\n",
       "      <td>NaN</td>\n",
       "      <td>NaN</td>\n",
       "      <td>1.000000</td>\n",
       "      <td>-1.000000</td>\n",
       "      <td>NaN</td>\n",
       "      <td>...</td>\n",
       "      <td>NaN</td>\n",
       "      <td>NaN</td>\n",
       "      <td>NaN</td>\n",
       "      <td>NaN</td>\n",
       "      <td>NaN</td>\n",
       "      <td>NaN</td>\n",
       "      <td>NaN</td>\n",
       "      <td>NaN</td>\n",
       "      <td>NaN</td>\n",
       "      <td>NaN</td>\n",
       "    </tr>\n",
       "    <tr>\n",
       "      <th>25%</th>\n",
       "      <td>26.000000</td>\n",
       "      <td>NaN</td>\n",
       "      <td>NaN</td>\n",
       "      <td>NaN</td>\n",
       "      <td>NaN</td>\n",
       "      <td>NaN</td>\n",
       "      <td>NaN</td>\n",
       "      <td>66.000000</td>\n",
       "      <td>-1.000000</td>\n",
       "      <td>NaN</td>\n",
       "      <td>...</td>\n",
       "      <td>NaN</td>\n",
       "      <td>NaN</td>\n",
       "      <td>NaN</td>\n",
       "      <td>NaN</td>\n",
       "      <td>NaN</td>\n",
       "      <td>NaN</td>\n",
       "      <td>NaN</td>\n",
       "      <td>NaN</td>\n",
       "      <td>NaN</td>\n",
       "      <td>NaN</td>\n",
       "    </tr>\n",
       "    <tr>\n",
       "      <th>50%</th>\n",
       "      <td>30.000000</td>\n",
       "      <td>NaN</td>\n",
       "      <td>NaN</td>\n",
       "      <td>NaN</td>\n",
       "      <td>NaN</td>\n",
       "      <td>NaN</td>\n",
       "      <td>NaN</td>\n",
       "      <td>68.000000</td>\n",
       "      <td>-1.000000</td>\n",
       "      <td>NaN</td>\n",
       "      <td>...</td>\n",
       "      <td>NaN</td>\n",
       "      <td>NaN</td>\n",
       "      <td>NaN</td>\n",
       "      <td>NaN</td>\n",
       "      <td>NaN</td>\n",
       "      <td>NaN</td>\n",
       "      <td>NaN</td>\n",
       "      <td>NaN</td>\n",
       "      <td>NaN</td>\n",
       "      <td>NaN</td>\n",
       "    </tr>\n",
       "    <tr>\n",
       "      <th>75%</th>\n",
       "      <td>37.000000</td>\n",
       "      <td>NaN</td>\n",
       "      <td>NaN</td>\n",
       "      <td>NaN</td>\n",
       "      <td>NaN</td>\n",
       "      <td>NaN</td>\n",
       "      <td>NaN</td>\n",
       "      <td>71.000000</td>\n",
       "      <td>-1.000000</td>\n",
       "      <td>NaN</td>\n",
       "      <td>...</td>\n",
       "      <td>NaN</td>\n",
       "      <td>NaN</td>\n",
       "      <td>NaN</td>\n",
       "      <td>NaN</td>\n",
       "      <td>NaN</td>\n",
       "      <td>NaN</td>\n",
       "      <td>NaN</td>\n",
       "      <td>NaN</td>\n",
       "      <td>NaN</td>\n",
       "      <td>NaN</td>\n",
       "    </tr>\n",
       "    <tr>\n",
       "      <th>max</th>\n",
       "      <td>110.000000</td>\n",
       "      <td>NaN</td>\n",
       "      <td>NaN</td>\n",
       "      <td>NaN</td>\n",
       "      <td>NaN</td>\n",
       "      <td>NaN</td>\n",
       "      <td>NaN</td>\n",
       "      <td>95.000000</td>\n",
       "      <td>1000000.000000</td>\n",
       "      <td>NaN</td>\n",
       "      <td>...</td>\n",
       "      <td>NaN</td>\n",
       "      <td>NaN</td>\n",
       "      <td>NaN</td>\n",
       "      <td>NaN</td>\n",
       "      <td>NaN</td>\n",
       "      <td>NaN</td>\n",
       "      <td>NaN</td>\n",
       "      <td>NaN</td>\n",
       "      <td>NaN</td>\n",
       "      <td>NaN</td>\n",
       "    </tr>\n",
       "  </tbody>\n",
       "</table>\n",
       "<p>11 rows × 21 columns</p>\n",
       "</div>"
      ],
      "text/plain": [
       "                 age body_type             diet    drinks  drugs  \\\n",
       "count   59946.000000     54650            35551     56961  45866   \n",
       "unique           NaN        12               18         6      3   \n",
       "top              NaN   average  mostly anything  socially  never   \n",
       "freq             NaN     14652            16585     41780  37724   \n",
       "mean       32.340290       NaN              NaN       NaN    NaN   \n",
       "std         9.452779       NaN              NaN       NaN    NaN   \n",
       "min        18.000000       NaN              NaN       NaN    NaN   \n",
       "25%        26.000000       NaN              NaN       NaN    NaN   \n",
       "50%        30.000000       NaN              NaN       NaN    NaN   \n",
       "75%        37.000000       NaN              NaN       NaN    NaN   \n",
       "max       110.000000       NaN              NaN       NaN    NaN   \n",
       "\n",
       "                                education ethnicity        height  \\\n",
       "count                               53318     54266  59943.000000   \n",
       "unique                                 32       217           NaN   \n",
       "top     graduated from college/university     white           NaN   \n",
       "freq                                23959     32831           NaN   \n",
       "mean                                  NaN       NaN     68.295281   \n",
       "std                                   NaN       NaN      3.994803   \n",
       "min                                   NaN       NaN      1.000000   \n",
       "25%                                   NaN       NaN     66.000000   \n",
       "50%                                   NaN       NaN     68.000000   \n",
       "75%                                   NaN       NaN     71.000000   \n",
       "max                                   NaN       NaN     95.000000   \n",
       "\n",
       "                income    job  ...                   location  \\\n",
       "count     59946.000000  51748  ...                      59946   \n",
       "unique             NaN     21  ...                        199   \n",
       "top                NaN  other  ...  san francisco, california   \n",
       "freq               NaN   7589  ...                      31064   \n",
       "mean      20033.222534    NaN  ...                        NaN   \n",
       "std       97346.192104    NaN  ...                        NaN   \n",
       "min          -1.000000    NaN  ...                        NaN   \n",
       "25%          -1.000000    NaN  ...                        NaN   \n",
       "50%          -1.000000    NaN  ...                        NaN   \n",
       "75%          -1.000000    NaN  ...                        NaN   \n",
       "max     1000000.000000    NaN  ...                        NaN   \n",
       "\n",
       "                      offspring orientation                       pets  \\\n",
       "count                     24385       59946                      40025   \n",
       "unique                       15           3                         15   \n",
       "top     doesn&rsquo;t have kids    straight  likes dogs and likes cats   \n",
       "freq                       7560       51606                      14814   \n",
       "mean                        NaN         NaN                        NaN   \n",
       "std                         NaN         NaN                        NaN   \n",
       "min                         NaN         NaN                        NaN   \n",
       "25%                         NaN         NaN                        NaN   \n",
       "50%                         NaN         NaN                        NaN   \n",
       "75%                         NaN         NaN                        NaN   \n",
       "max                         NaN         NaN                        NaN   \n",
       "\n",
       "           religion    sex                                      sign smokes  \\\n",
       "count         39720  59946                                     48890  54434   \n",
       "unique           45      2                                        48      5   \n",
       "top     agnosticism      m  gemini and it&rsquo;s fun to think about     no   \n",
       "freq           2724  35829                                      1782  43896   \n",
       "mean            NaN    NaN                                       NaN    NaN   \n",
       "std             NaN    NaN                                       NaN    NaN   \n",
       "min             NaN    NaN                                       NaN    NaN   \n",
       "25%             NaN    NaN                                       NaN    NaN   \n",
       "50%             NaN    NaN                                       NaN    NaN   \n",
       "75%             NaN    NaN                                       NaN    NaN   \n",
       "max             NaN    NaN                                       NaN    NaN   \n",
       "\n",
       "         speaks  status  \n",
       "count     59896   59946  \n",
       "unique     7647       5  \n",
       "top     english  single  \n",
       "freq      21828   55697  \n",
       "mean        NaN     NaN  \n",
       "std         NaN     NaN  \n",
       "min         NaN     NaN  \n",
       "25%         NaN     NaN  \n",
       "50%         NaN     NaN  \n",
       "75%         NaN     NaN  \n",
       "max         NaN     NaN  \n",
       "\n",
       "[11 rows x 21 columns]"
      ]
     },
     "execution_count": 31,
     "metadata": {},
     "output_type": "execute_result"
    }
   ],
   "source": [
    "X.describe(include='all')"
   ]
  },
  {
   "cell_type": "markdown",
   "metadata": {},
   "source": [
    "### Numerical Variables"
   ]
  },
  {
   "cell_type": "markdown",
   "metadata": {},
   "source": [
    "From this summary, we can already see something strange:\n",
    "\n",
    "1) Max `age` is 110. Even though not impossible, it sounds very odd that a 110-years-old person uses a dating app. Furthermore, being the median of 30-years-old and the 75th percentile of 37-years-old, it will be very hard to match.\n",
    "\n",
    "2) Min `height` is 1. That's obviously an outlier.\n",
    "\n",
    "3) It seems that a lot of people has `income` of -1, being this value not only the median, but also the 3rd quartile. That is probably not an outlier nor a mistake, but a way to assess that income is not a crucial feature (or, in case of students, that they don't have any income).\n",
    "\n",
    "Let's clean those issues starting with age:"
   ]
  },
  {
   "cell_type": "code",
   "execution_count": 32,
   "metadata": {
    "scrolled": false
   },
   "outputs": [
    {
     "data": {
      "image/png": "[encoded data removed]",
      "text/plain": [
       "<Figure size 432x288 with 1 Axes>"
      ]
     },
     "metadata": {
      "needs_background": "light"
     },
     "output_type": "display_data"
    },
    {
     "name": "stdout",
     "output_type": "stream",
     "text": [
      "263\n",
      "2\n"
     ]
    },
    {
     "data": {
      "text/html": [
       "<div>\n",
       "<style scoped>\n",
       "    .dataframe tbody tr th:only-of-type {\n",
       "        vertical-align: middle;\n",
       "    }\n",
       "\n",
       "    .dataframe tbody tr th {\n",
       "        vertical-align: top;\n",
       "    }\n",
       "\n",
       "    .dataframe thead th {\n",
       "        text-align: right;\n",
       "    }\n",
       "</style>\n",
       "<table border=\"1\" class=\"dataframe\">\n",
       "  <thead>\n",
       "    <tr style=\"text-align: right;\">\n",
       "      <th></th>\n",
       "      <th>age</th>\n",
       "      <th>body_type</th>\n",
       "      <th>diet</th>\n",
       "      <th>drinks</th>\n",
       "      <th>drugs</th>\n",
       "      <th>education</th>\n",
       "      <th>ethnicity</th>\n",
       "      <th>height</th>\n",
       "      <th>income</th>\n",
       "      <th>job</th>\n",
       "      <th>...</th>\n",
       "      <th>location</th>\n",
       "      <th>offspring</th>\n",
       "      <th>orientation</th>\n",
       "      <th>pets</th>\n",
       "      <th>religion</th>\n",
       "      <th>sex</th>\n",
       "      <th>sign</th>\n",
       "      <th>smokes</th>\n",
       "      <th>speaks</th>\n",
       "      <th>status</th>\n",
       "    </tr>\n",
       "  </thead>\n",
       "  <tbody>\n",
       "    <tr>\n",
       "      <th>2512</th>\n",
       "      <td>110</td>\n",
       "      <td>NaN</td>\n",
       "      <td>NaN</td>\n",
       "      <td>NaN</td>\n",
       "      <td>NaN</td>\n",
       "      <td>NaN</td>\n",
       "      <td>NaN</td>\n",
       "      <td>67.0</td>\n",
       "      <td>-1</td>\n",
       "      <td>NaN</td>\n",
       "      <td>...</td>\n",
       "      <td>daly city, california</td>\n",
       "      <td>NaN</td>\n",
       "      <td>straight</td>\n",
       "      <td>NaN</td>\n",
       "      <td>NaN</td>\n",
       "      <td>f</td>\n",
       "      <td>NaN</td>\n",
       "      <td>NaN</td>\n",
       "      <td>english</td>\n",
       "      <td>single</td>\n",
       "    </tr>\n",
       "    <tr>\n",
       "      <th>25324</th>\n",
       "      <td>109</td>\n",
       "      <td>athletic</td>\n",
       "      <td>mostly other</td>\n",
       "      <td>NaN</td>\n",
       "      <td>never</td>\n",
       "      <td>working on masters program</td>\n",
       "      <td>NaN</td>\n",
       "      <td>95.0</td>\n",
       "      <td>-1</td>\n",
       "      <td>student</td>\n",
       "      <td>...</td>\n",
       "      <td>san francisco, california</td>\n",
       "      <td>might want kids</td>\n",
       "      <td>straight</td>\n",
       "      <td>NaN</td>\n",
       "      <td>other and somewhat serious about it</td>\n",
       "      <td>m</td>\n",
       "      <td>aquarius but it doesn&amp;rsquo;t matter</td>\n",
       "      <td>when drinking</td>\n",
       "      <td>english (okay)</td>\n",
       "      <td>available</td>\n",
       "    </tr>\n",
       "  </tbody>\n",
       "</table>\n",
       "<p>2 rows × 21 columns</p>\n",
       "</div>"
      ],
      "text/plain": [
       "       age body_type          diet drinks  drugs                   education  \\\n",
       "2512   110       NaN           NaN    NaN    NaN                         NaN   \n",
       "25324  109  athletic  mostly other    NaN  never  working on masters program   \n",
       "\n",
       "      ethnicity  height  income      job  ...                   location  \\\n",
       "2512        NaN    67.0      -1      NaN  ...      daly city, california   \n",
       "25324       NaN    95.0      -1  student  ...  san francisco, california   \n",
       "\n",
       "             offspring orientation pets                             religion  \\\n",
       "2512               NaN    straight  NaN                                  NaN   \n",
       "25324  might want kids    straight  NaN  other and somewhat serious about it   \n",
       "\n",
       "      sex                                  sign         smokes  \\\n",
       "2512    f                                   NaN            NaN   \n",
       "25324   m  aquarius but it doesn&rsquo;t matter  when drinking   \n",
       "\n",
       "               speaks     status  \n",
       "2512          english     single  \n",
       "25324  english (okay)  available  \n",
       "\n",
       "[2 rows x 21 columns]"
      ]
     },
     "execution_count": 32,
     "metadata": {},
     "output_type": "execute_result"
    }
   ],
   "source": [
    "plt.hist(X['age'])\n",
    "plt.show()\n",
    "\n",
    "print(len(X[X.age>65]))\n",
    "print(len(X[X.age>70]))\n",
    "X[X.age>70]"
   ]
  },
  {
   "cell_type": "markdown",
   "metadata": {},
   "source": [
    "We have 263 profiles with `age`>65, but only 2 with `age`>70, and those two have values of 110 and 109, obviously outliers. Let's remove them."
   ]
  },
  {
   "cell_type": "code",
   "execution_count": 33,
   "metadata": {},
   "outputs": [],
   "source": [
    "X = X[X.age < 80]"
   ]
  },
  {
   "cell_type": "markdown",
   "metadata": {},
   "source": [
    "We exclude also every profile with a `height` lower than 45 inches and higher than 90 inches, which are very much likely outliers as well"
   ]
  },
  {
   "cell_type": "code",
   "execution_count": 34,
   "metadata": {
    "scrolled": true
   },
   "outputs": [],
   "source": [
    "X = X[(X.height>=45)&(X.height<90)]"
   ]
  },
  {
   "cell_type": "code",
   "execution_count": 35,
   "metadata": {},
   "outputs": [
    {
     "name": "stdout",
     "output_type": "stream",
     "text": [
      "People with income = -1: 48407\n",
      "People with income > -1: 11483\n",
      "People with income between 300000 and 900000$: 48\n",
      "People with income higher than 500000$: 510\n"
     ]
    },
    {
     "data": {
      "image/png": "[encoded data removed]",
      "text/plain": [
       "<Figure size 1440x720 with 1 Axes>"
      ]
     },
     "metadata": {
      "needs_background": "light"
     },
     "output_type": "display_data"
    }
   ],
   "source": [
    "print(\"People with income = -1: \" + str(len(X[X.income==-1])))\n",
    "print(\"People with income > -1: \" + str(len(X[X.income>0])))\n",
    "print(\"People with income between 300000 and 900000$: \" + str(len(X[(X.income>=300000)&(X.income<=900000)])))\n",
    "print(\"People with income higher than 500000$: \" + str(len(X[X.income>500000])))\n",
    "\n",
    "#plt.hist(X.income)\n",
    "plt.figure(figsize=(20,10))\n",
    "sns.countplot(x=X[X.income>0].income)\n",
    "plt.title(\"Distribution of incomes (between 0 and 1000000)\", fontdict={'fontsize': 15})\n",
    "plt.show()"
   ]
  },
  {
   "cell_type": "markdown",
   "metadata": {},
   "source": [
    "We have the highest majority of people (almost 81%) with `income` value of -1, meaning that they do not care about the income.\n",
    "Furthermore, there are around 500 people declaring an income of 1000000, which seems as well a declaration of not caring.\n",
    "Anyway, let's keep the values as they are and see whether they can be useful in a Machine Learning Algorithm.\n",
    "\n",
    "Apart from these values, the distribution of incomes seems bimodal, with the highest peak at 20000 and another local maximum at 100000."
   ]
  },
  {
   "cell_type": "markdown",
   "metadata": {},
   "source": [
    "### Categorical variables"
   ]
  },
  {
   "cell_type": "markdown",
   "metadata": {},
   "source": [
    "Let's now encode the Categorical variables which have 0 NaNs.\n",
    "\n",
    "1) __SEX__: only 2 values, *m* and *f*"
   ]
  },
  {
   "cell_type": "code",
   "execution_count": 36,
   "metadata": {
    "scrolled": true
   },
   "outputs": [
    {
     "name": "stdout",
     "output_type": "stream",
     "text": [
      "m    35792\n",
      "f    24098\n",
      "Name: sex, dtype: int64\n",
      "0    35792\n",
      "1    24098\n",
      "Name: sex, dtype: int64\n"
     ]
    }
   ],
   "source": [
    "sex_dict = {'m':0, 'f':1}\n",
    "print(X.sex.value_counts())\n",
    "X['sex'] = X.sex.map(sex_dict)\n",
    "print(X.sex.value_counts())"
   ]
  },
  {
   "cell_type": "markdown",
   "metadata": {},
   "source": [
    "2) __ORIENTATION__: there are 3 values: *straight*, *gay* and *bisex*. Since *bisex* is matchable with both *straight* and *gay*, this variable can be splitted in 2 dummy variables, __*straight_comp*__ and __*gay_comp*__, which are regulated by the following look-up table:\n",
    "\n",
    "\n",
    "| Orientation | straight_comp | gay_comp |\n",
    "|-------------|:-------------:|---------:|\n",
    "| straight    |       1       |    0     |\n",
    "| gay         |       0       |    1     |\n",
    "| bisex       |       1       |    1     |"
   ]
  },
  {
   "cell_type": "code",
   "execution_count": 37,
   "metadata": {},
   "outputs": [],
   "source": [
    "X['straight_comp'] = X['orientation'].apply(lambda x: 1 if (x=='straight')|(x=='bisexual') else 0)\n",
    "X['gay_comp'] = X['orientation'].apply(lambda x: 1 if (x=='gay')|(x=='bisexual') else 0)"
   ]
  },
  {
   "cell_type": "markdown",
   "metadata": {},
   "source": [
    "3) __LOCATION__: Location feature has the structure \"city, state\". First of all, we split *city* and *state* in two separate columns. Then, we clean a little bit the *city* column (for instance, the value \"south san francisco\" can be converted in \"san francisco\", in order to reduce the number of unique values without losing much information)"
   ]
  },
  {
   "cell_type": "code",
   "execution_count": 38,
   "metadata": {
    "scrolled": false
   },
   "outputs": [
    {
     "name": "stdout",
     "output_type": "stream",
     "text": [
      "california            59800\n",
      "newyork                  17\n",
      "illinois                  8\n",
      "massachusetts             5\n",
      "texas                     4\n",
      "oregon                    4\n",
      "michigan                  4\n",
      "arizona                   3\n",
      "florida                   3\n",
      "districtofcolumbia        2\n",
      "washington                2\n",
      "utah                      2\n",
      "georgia                   2\n",
      "minnesota                 2\n",
      "colorado                  2\n",
      "unitedkingdom             2\n",
      "ohio                      2\n",
      "spain                     2\n",
      "virginia                  2\n",
      "hawaii                    2\n",
      "louisiana                 1\n",
      "tennessee                 1\n",
      "switzerland               1\n",
      "netherlands               1\n",
      "pennsylvania              1\n",
      "germany                   1\n",
      "missouri                  1\n",
      "britishcolumbia           1\n",
      "rhodeisland               1\n",
      "westvirginia              1\n",
      "connecticut               1\n",
      "ireland                   1\n",
      "montana                   1\n",
      "wisconsin                 1\n",
      "nevada                    1\n",
      "newjersey                 1\n",
      "mississippi               1\n",
      "vietnam                   1\n",
      "northcarolina             1\n",
      "idaho                     1\n",
      "Name: state, dtype: int64\n"
     ]
    }
   ],
   "source": [
    "location_temp = X.location.str.split(pat=',',expand=True)\n",
    "X['state'] = location_temp[1]\n",
    "X['state'] = X.state.replace(to_replace=' ', value='', regex=True)\n",
    "X['city'] = location_temp[0]\n",
    "X['city'] = X.city.replace(to_replace='^north ',value='',regex=True)\n",
    "X['city'] = X.city.replace(to_replace='^south ',value='',regex=True)\n",
    "X['city'] = X.city.replace(to_replace='^east ',value='',regex=True)\n",
    "X['city'] = X.city.replace(to_replace='^west ',value='',regex=True)\n",
    "print(X.state.value_counts())"
   ]
  },
  {
   "cell_type": "markdown",
   "metadata": {},
   "source": [
    "Since almost everyone is from California, we keep only people from California (and then this feature can be dropped)"
   ]
  },
  {
   "cell_type": "code",
   "execution_count": 39,
   "metadata": {},
   "outputs": [
    {
     "name": "stdout",
     "output_type": "stream",
     "text": [
      "59800\n"
     ]
    }
   ],
   "source": [
    "X = X[X.state == 'california']"
   ]
  },
  {
   "cell_type": "code",
   "execution_count": 46,
   "metadata": {},
   "outputs": [
    {
     "data": {
      "image/png": "[encoded data removed]",
      "text/plain": [
       "<Figure size 432x288 with 1 Axes>"
      ]
     },
     "metadata": {
      "needs_background": "light"
     },
     "output_type": "display_data"
    }
   ],
   "source": [
    "X.body_type.unique()\n",
    "X.body_type.value_counts().plot(kind='bar')\n",
    "plt.show()"
   ]
  },
  {
   "cell_type": "code",
   "execution_count": 17,
   "metadata": {},
   "outputs": [
    {
     "data": {
      "text/plain": [
       "False    53318\n",
       "True      6628\n",
       "Name: education, dtype: int64"
      ]
     },
     "execution_count": 17,
     "metadata": {},
     "output_type": "execute_result"
    }
   ],
   "source": [
    "df.education.isna().value_counts()"
   ]
  },
  {
   "cell_type": "code",
   "execution_count": 18,
   "metadata": {},
   "outputs": [
    {
     "data": {
      "image/png": "[encoded data removed]",
      "text/plain": [
       "<Figure size 432x288 with 1 Axes>"
      ]
     },
     "metadata": {
      "needs_background": "light"
     },
     "output_type": "display_data"
    }
   ],
   "source": [
    "plt.hist(df.age)\n",
    "plt.show()"
   ]
  },
  {
   "cell_type": "code",
   "execution_count": 21,
   "metadata": {},
   "outputs": [
    {
     "data": {
      "text/plain": [
       "Index(['age', 'body_type', 'diet', 'drinks', 'drugs', 'education', 'essay0',\n",
       "       'essay1', 'essay2', 'essay3', 'essay4', 'essay5', 'essay6', 'essay7',\n",
       "       'essay8', 'essay9', 'ethnicity', 'height', 'income', 'job',\n",
       "       'last_online', 'location', 'offspring', 'orientation', 'pets',\n",
       "       'religion', 'sex', 'sign', 'smokes', 'speaks', 'status'],\n",
       "      dtype='object')"
      ]
     },
     "execution_count": 21,
     "metadata": {},
     "output_type": "execute_result"
    }
   ],
   "source": [
    "df.columns"
   ]
  },
  {
   "cell_type": "code",
   "execution_count": 20,
   "metadata": {},
   "outputs": [
    {
     "data": {
      "image/png": "[encoded data removed]",
      "text/plain": [
       "<Figure size 432x288 with 1 Axes>"
      ]
     },
     "metadata": {
      "needs_background": "light"
     },
     "output_type": "display_data"
    },
    {
     "data": {
      "text/plain": [
       "70.0    6074\n",
       "68.0    5449\n",
       "67.0    5354\n",
       "72.0    5315\n",
       "69.0    5179\n",
       "71.0    4826\n",
       "66.0    4759\n",
       "64.0    3865\n",
       "65.0    3794\n",
       "73.0    2815\n",
       "63.0    2767\n",
       "74.0    2547\n",
       "62.0    2244\n",
       "75.0    1382\n",
       "61.0    1090\n",
       "60.0     791\n",
       "76.0     783\n",
       "77.0     280\n",
       "59.0     212\n",
       "78.0     132\n",
       "79.0      57\n",
       "58.0      53\n",
       "80.0      27\n",
       "95.0      20\n",
       "57.0      17\n",
       "83.0      12\n",
       "81.0      11\n",
       "82.0      11\n",
       "36.0      11\n",
       "84.0       9\n",
       "56.0       8\n",
       "55.0       6\n",
       "53.0       5\n",
       "94.0       3\n",
       "54.0       3\n",
       "91.0       3\n",
       "50.0       2\n",
       "88.0       2\n",
       "37.0       2\n",
       "48.0       2\n",
       "43.0       2\n",
       "1.0        1\n",
       "51.0       1\n",
       "90.0       1\n",
       "26.0       1\n",
       "85.0       1\n",
       "9.0        1\n",
       "89.0       1\n",
       "92.0       1\n",
       "87.0       1\n",
       "49.0       1\n",
       "47.0       1\n",
       "6.0        1\n",
       "42.0       1\n",
       "86.0       1\n",
       "3.0        1\n",
       "8.0        1\n",
       "93.0       1\n",
       "52.0       1\n",
       "4.0        1\n",
       "Name: height, dtype: int64"
      ]
     },
     "execution_count": 20,
     "metadata": {},
     "output_type": "execute_result"
    }
   ],
   "source": [
    "plt.hist(df.height)\n",
    "plt.show()\n",
    "df.height.value_counts()"
   ]
  },
  {
   "cell_type": "code",
   "execution_count": 22,
   "metadata": {},
   "outputs": [
    {
     "data": {
      "image/png": "[encoded data removed]",
      "text/plain": [
       "<Figure size 432x288 with 1 Axes>"
      ]
     },
     "metadata": {
      "needs_background": "light"
     },
     "output_type": "display_data"
    }
   ],
   "source": [
    "plt.hist(df.income)\n",
    "plt.show()"
   ]
  },
  {
   "cell_type": "code",
   "execution_count": 23,
   "metadata": {},
   "outputs": [
    {
     "data": {
      "text/plain": [
       "-1          48442\n",
       " 20000       2952\n",
       " 100000      1621\n",
       " 80000       1111\n",
       " 30000       1048\n",
       " 40000       1005\n",
       " 50000        975\n",
       " 60000        736\n",
       " 70000        707\n",
       " 150000       631\n",
       " 1000000      521\n",
       " 250000       149\n",
       " 500000        48\n",
       "Name: income, dtype: int64"
      ]
     },
     "execution_count": 23,
     "metadata": {},
     "output_type": "execute_result"
    }
   ],
   "source": [
    "df.income.value_counts()"
   ]
  },
  {
   "cell_type": "code",
   "execution_count": 40,
   "metadata": {},
   "outputs": [
    {
     "data": {
      "text/plain": [
       "white                                                                                                      32831\n",
       "asian                                                                                                       6134\n",
       "hispanic / latin                                                                                            2823\n",
       "black                                                                                                       2008\n",
       "other                                                                                                       1706\n",
       "hispanic / latin, white                                                                                     1301\n",
       "indian                                                                                                      1077\n",
       "asian, white                                                                                                 811\n",
       "white, other                                                                                                 641\n",
       "pacific islander                                                                                             432\n",
       "asian, pacific islander                                                                                      395\n",
       "native american, white                                                                                       338\n",
       "middle eastern                                                                                               329\n",
       "middle eastern, white                                                                                        300\n",
       "black, white                                                                                                 298\n",
       "pacific islander, white                                                                                      156\n",
       "hispanic / latin, other                                                                                      138\n",
       "black, other                                                                                                 133\n",
       "black, hispanic / latin                                                                                      119\n",
       "hispanic / latin, white, other                                                                               117\n",
       "black, native american, white                                                                                110\n",
       "black, native american                                                                                       100\n",
       "asian, other                                                                                                  95\n",
       "asian, hispanic / latin                                                                                       88\n",
       "native american, hispanic / latin, white                                                                      87\n",
       "native american, hispanic / latin                                                                             73\n",
       "asian, white, other                                                                                           69\n",
       "native american                                                                                               67\n",
       "asian, middle eastern, black, native american, indian, pacific islander, hispanic / latin, white, other       66\n",
       "asian, black                                                                                                  59\n",
       "pacific islander, hispanic / latin                                                                            57\n",
       "asian, pacific islander, white                                                                                55\n",
       "native american, white, other                                                                                 54\n",
       "asian, indian                                                                                                 52\n",
       "black, white, other                                                                                           49\n",
       "indian, white                                                                                                 46\n",
       "asian, hispanic / latin, white                                                                                42\n",
       "middle eastern, white, other                                                                                  40\n",
       "middle eastern, hispanic / latin                                                                              39\n",
       "asian, pacific islander, other                                                                                38\n",
       "black, hispanic / latin, white                                                                                36\n",
       "native american, hispanic / latin, white, other                                                               33\n",
       "indian, other                                                                                                 30\n",
       "pacific islander, hispanic / latin, white                                                                     30\n",
       "black, native american, white, other                                                                          29\n",
       "black, native american, other                                                                                 27\n",
       "black, native american, hispanic / latin, white                                                               26\n",
       "middle eastern, other                                                                                         23\n",
       "black, native american, hispanic / latin                                                                      19\n",
       "pacific islander, white, other                                                                                18\n",
       "asian, native american, white                                                                                 18\n",
       "black, indian                                                                                                 17\n",
       "native american, other                                                                                        16\n",
       "black, pacific islander                                                                                       15\n",
       "asian, black, white                                                                                           15\n",
       "indian, white, other                                                                                          14\n",
       "pacific islander, other                                                                                       14\n",
       "native american, hispanic / latin, other                                                                      13\n",
       "black, hispanic / latin, other                                                                                13\n",
       "asian, pacific islander, hispanic / latin                                                                     13\n",
       "asian, middle eastern                                                                                         12\n",
       "indian, pacific islander                                                                                      12\n",
       "middle eastern, hispanic / latin, white                                                                       12\n",
       "middle eastern, indian                                                                                        11\n",
       "asian, pacific islander, hispanic / latin, white                                                              11\n",
       "asian, pacific islander, white, other                                                                         10\n",
       "black, native american, hispanic / latin, white, other                                                        10\n",
       "asian, black, other                                                                                            9\n",
       "asian, hispanic / latin, white, other                                                                          9\n",
       "asian, hispanic / latin, other                                                                                 9\n",
       "asian, middle eastern, white                                                                                   9\n",
       "asian, black, native american                                                                                  9\n",
       "asian, middle eastern, black, native american, indian, pacific islander, hispanic / latin, white               9\n",
       "indian, hispanic / latin                                                                                       8\n",
       "middle eastern, native american, white                                                                         8\n",
       "asian, black, native american, white                                                                           8\n",
       "native american, pacific islander, white                                                                       7\n",
       "asian, native american, hispanic / latin, white                                                                7\n",
       "black, indian, white                                                                                           6\n",
       "middle eastern, black                                                                                          6\n",
       "asian, middle eastern, white, other                                                                            6\n",
       "asian, black, pacific islander                                                                                 6\n",
       "asian, indian, pacific islander                                                                                6\n",
       "black, hispanic / latin, white, other                                                                          5\n",
       "asian, native american, hispanic / latin                                                                       5\n",
       "asian, indian, other                                                                                           5\n",
       "native american, pacific islander, hispanic / latin, white                                                     5\n",
       "black, native american, hispanic / latin, other                                                                5\n",
       "pacific islander, hispanic / latin, other                                                                      5\n",
       "asian, native american, white, other                                                                           5\n",
       "pacific islander, hispanic / latin, white, other                                                               5\n",
       "asian, indian, white                                                                                           5\n",
       "asian, middle eastern, indian                                                                                  5\n",
       "native american, pacific islander, hispanic / latin                                                            5\n",
       "asian, pacific islander, hispanic / latin, white, other                                                        5\n",
       "black, pacific islander, hispanic / latin                                                                      5\n",
       "black, indian, white, other                                                                                    4\n",
       "middle eastern, hispanic / latin, other                                                                        4\n",
       "middle eastern, indian, other                                                                                  4\n",
       "asian, native american, pacific islander, hispanic / latin, white                                              4\n",
       "asian, native american, hispanic / latin, white, other                                                         4\n",
       "black, pacific islander, other                                                                                 4\n",
       "asian, black, pacific islander, hispanic / latin                                                               4\n",
       "black, pacific islander, white                                                                                 4\n",
       "indian, hispanic / latin, other                                                                                4\n",
       "middle eastern, native american, hispanic / latin                                                              3\n",
       "native american, pacific islander, hispanic / latin, white, other                                              3\n",
       "black, native american, indian, other                                                                          3\n",
       "asian, native american                                                                                         3\n",
       "black, indian, other                                                                                           3\n",
       "black, indian, hispanic / latin                                                                                3\n",
       "asian, indian, pacific islander, other                                                                         3\n",
       "middle eastern, pacific islander, other                                                                        3\n",
       "asian, black, native american, pacific islander, white                                                         3\n",
       "asian, middle eastern, indian, other                                                                           3\n",
       "black, indian, hispanic / latin, white                                                                         2\n",
       "asian, pacific islander, hispanic / latin, other                                                               2\n",
       "black, native american, pacific islander, white                                                                2\n",
       "indian, hispanic / latin, white                                                                                2\n",
       "asian, black, native american, pacific islander                                                                2\n",
       "asian, indian, hispanic / latin                                                                                2\n",
       "asian, black, hispanic / latin                                                                                 2\n",
       "asian, middle eastern, hispanic / latin, white                                                                 2\n",
       "middle eastern, indian, white, other                                                                           2\n",
       "middle eastern, native american, hispanic / latin, white                                                       2\n",
       "indian, hispanic / latin, white, other                                                                         2\n",
       "asian, middle eastern, black, indian, pacific islander, hispanic / latin, white                                2\n",
       "black, native american, pacific islander, hispanic / latin, white                                              2\n",
       "asian, black, pacific islander, white                                                                          2\n",
       "black, native american, indian, white, other                                                                   2\n",
       "asian, black, hispanic / latin, white                                                                          2\n",
       "asian, native american, pacific islander                                                                       2\n",
       "asian, native american, pacific islander, white                                                                2\n",
       "asian, native american, other                                                                                  2\n",
       "asian, middle eastern, native american, indian, pacific islander, hispanic / latin, white                      2\n",
       "asian, black, native american, white, other                                                                    2\n",
       "asian, native american, pacific islander, white, other                                                         2\n",
       "middle eastern, black, native american, white                                                                  2\n",
       "asian, black, hispanic / latin, other                                                                          2\n",
       "asian, middle eastern, black                                                                                   2\n",
       "asian, black, native american, hispanic / latin, white                                                         2\n",
       "native american, pacific islander                                                                              2\n",
       "middle eastern, black, native american, indian, white, other                                                   2\n",
       "black, native american, pacific islander                                                                       2\n",
       "native american, indian                                                                                        2\n",
       "middle eastern, black, white                                                                                   2\n",
       "middle eastern, hispanic / latin, white, other                                                                 2\n",
       "asian, black, native american, other                                                                           2\n",
       "middle eastern, native american, hispanic / latin, white, other                                                2\n",
       "asian, middle eastern, black, pacific islander, hispanic / latin, white                                        2\n",
       "black, native american, pacific islander, hispanic / latin, white, other                                       2\n",
       "asian, middle eastern, black, native american, pacific islander, hispanic / latin, white, other                2\n",
       "native american, pacific islander, white, other                                                                2\n",
       "asian, black, native american, hispanic / latin                                                                2\n",
       "asian, indian, white, other                                                                                    2\n",
       "asian, middle eastern, black, native american, indian, pacific islander, hispanic / latin, other               2\n",
       "asian, native american, pacific islander, hispanic / latin, white, other                                       1\n",
       "asian, black, native american, indian                                                                          1\n",
       "asian, black, native american, indian, pacific islander, white                                                 1\n",
       "asian, black, native american, indian, pacific islander, hispanic / latin                                      1\n",
       "asian, middle eastern, hispanic / latin, white, other                                                          1\n",
       "middle eastern, black, native american, indian                                                                 1\n",
       "asian, black, native american, pacific islander, white, other                                                  1\n",
       "asian, middle eastern, hispanic / latin                                                                        1\n",
       "asian, black, pacific islander, other                                                                          1\n",
       "asian, native american, indian, pacific islander, hispanic / latin, white                                      1\n",
       "middle eastern, native american, white, other                                                                  1\n",
       "asian, native american, hispanic / latin, other                                                                1\n",
       "native american, indian, white                                                                                 1\n",
       "black, native american, pacific islander, hispanic / latin                                                     1\n",
       "asian, middle eastern, black, native american, indian, pacific islander, white                                 1\n",
       "black, native american, indian                                                                                 1\n",
       "indian, pacific islander, hispanic / latin, white                                                              1\n",
       "asian, middle eastern, black, native american, indian, pacific islander, hispanic / latin                      1\n",
       "asian, middle eastern, indian, hispanic / latin                                                                1\n",
       "asian, middle eastern, native american, pacific islander, other                                                1\n",
       "black, native american, indian, pacific islander                                                               1\n",
       "asian, middle eastern, native american, pacific islander, white, other                                         1\n",
       "asian, black, native american, pacific islander, other                                                         1\n",
       "middle eastern, black, other                                                                                   1\n",
       "asian, black, pacific islander, hispanic / latin, white                                                        1\n",
       "middle eastern, black, native american, white, other                                                           1\n",
       "asian, native american, indian, pacific islander, hispanic / latin, white, other                               1\n",
       "asian, middle eastern, black, pacific islander, hispanic / latin                                               1\n",
       "asian, black, pacific islander, white, other                                                                   1\n",
       "middle eastern, black, native american, indian, pacific islander, hispanic / latin, white, other               1\n",
       "middle eastern, pacific islander, hispanic / latin                                                             1\n",
       "asian, black, hispanic / latin, white, other                                                                   1\n",
       "asian, black, indian, hispanic / latin, other                                                                  1\n",
       "middle eastern, pacific islander                                                                               1\n",
       "middle eastern, black, native american, hispanic / latin, white                                                1\n",
       "asian, middle eastern, other                                                                                   1\n",
       "middle eastern, black, native american, indian, pacific islander, hispanic / latin, white                      1\n",
       "asian, middle eastern, black, native american, hispanic / latin, white                                         1\n",
       "asian, indian, hispanic / latin, other                                                                         1\n",
       "middle eastern, native american                                                                                1\n",
       "asian, indian, pacific islander, hispanic / latin, white, other                                                1\n",
       "asian, middle eastern, native american, hispanic / latin, white                                                1\n",
       "middle eastern, black, hispanic / latin                                                                        1\n",
       "asian, indian, hispanic / latin, white                                                                         1\n",
       "black, native american, indian, hispanic / latin, white, other                                                 1\n",
       "asian, black, native american, indian, hispanic / latin, white, other                                          1\n",
       "black, native american, pacific islander, white, other                                                         1\n",
       "native american, indian, pacific islander, hispanic / latin                                                    1\n",
       "asian, middle eastern, native american, pacific islander, hispanic / latin, white, other                       1\n",
       "middle eastern, black, native american, indian, hispanic / latin, white                                        1\n",
       "middle eastern, black, indian, pacific islander, hispanic / latin, white                                       1\n",
       "asian, black, white, other                                                                                     1\n",
       "black, native american, indian, white                                                                          1\n",
       "black, native american, pacific islander, other                                                                1\n",
       "asian, middle eastern, black, pacific islander                                                                 1\n",
       "middle eastern, black, pacific islander, white                                                                 1\n",
       "middle eastern, indian, white                                                                                  1\n",
       "asian, middle eastern, black, white, other                                                                     1\n",
       "asian, middle eastern, indian, hispanic / latin, white, other                                                  1\n",
       "black, native american, indian, pacific islander, hispanic / latin                                             1\n",
       "asian, black, indian                                                                                           1\n",
       "Name: ethnicity, dtype: int64"
      ]
     },
     "execution_count": 40,
     "metadata": {},
     "output_type": "execute_result"
    }
   ],
   "source": [
    "df['ethnicity'].describe()\n",
    "pd.set_option(\"display.max_rows\", None)\n",
    "df['ethnicity'].value_counts()"
   ]
  },
  {
   "cell_type": "code",
   "execution_count": 38,
   "metadata": {},
   "outputs": [
    {
     "data": {
      "image/png": "[encoded data removed]",
      "text/plain": [
       "<Figure size 432x288 with 1 Axes>"
      ]
     },
     "metadata": {
      "needs_background": "light"
     },
     "output_type": "display_data"
    }
   ],
   "source": [
    "sns.countplot(x=df['ethnicity'])\n",
    "plt.show()"
   ]
  },
  {
   "cell_type": "code",
   "execution_count": 25,
   "metadata": {},
   "outputs": [
    {
     "name": "stdout",
     "output_type": "stream",
     "text": [
      "['asian, white' 'white' nan 'asian, black, other' 'white, other'\n",
      " 'hispanic / latin, white' 'hispanic / latin' 'pacific islander, white'\n",
      " 'asian' 'black, white' 'pacific islander' 'asian, native american'\n",
      " 'asian, pacific islander' 'black, native american, white'\n",
      " 'middle eastern, other' 'native american, white' 'indian' 'black'\n",
      " 'black, native american, hispanic / latin, other'\n",
      " 'black, native american, hispanic / latin'\n",
      " 'asian, black, pacific islander'\n",
      " 'asian, middle eastern, black, native american, indian, pacific islander, hispanic / latin, white, other'\n",
      " 'other' 'hispanic / latin, other' 'asian, black' 'middle eastern, white'\n",
      " 'native american, white, other' 'black, native american'\n",
      " 'black, white, other' 'hispanic / latin, white, other' 'middle eastern'\n",
      " 'black, other' 'native american, hispanic / latin, white' 'black, indian'\n",
      " 'indian, white, other' 'middle eastern, indian, other'\n",
      " 'black, native american, hispanic / latin, white, other'\n",
      " 'pacific islander, hispanic / latin' 'black, hispanic / latin, white'\n",
      " 'native american' 'indian, white' 'asian, white, other'\n",
      " 'black, hispanic / latin' 'asian, hispanic / latin, white'\n",
      " 'middle eastern, hispanic / latin'\n",
      " 'asian, black, native american, pacific islander, white'\n",
      " 'middle eastern, indian' 'asian, indian' 'pacific islander, other'\n",
      " 'black, native american, white, other' 'black, pacific islander'\n",
      " 'middle eastern, native american, white'\n",
      " 'asian, native american, white, other'\n",
      " 'pacific islander, hispanic / latin, white' 'indian, other'\n",
      " 'asian, pacific islander, other' 'black, hispanic / latin, other'\n",
      " 'asian, black, native american'\n",
      " 'black, native american, hispanic / latin, white'\n",
      " 'native american, hispanic / latin' 'indian, hispanic / latin'\n",
      " 'native american, pacific islander'\n",
      " 'asian, black, native american, hispanic / latin, white'\n",
      " 'asian, black, white'\n",
      " 'asian, black, native american, pacific islander, other'\n",
      " 'middle eastern, hispanic / latin, white'\n",
      " 'asian, pacific islander, white'\n",
      " 'asian, native american, hispanic / latin, white, other'\n",
      " 'asian, hispanic / latin' 'asian, pacific islander, white, other'\n",
      " 'middle eastern, white, other'\n",
      " 'asian, pacific islander, hispanic / latin'\n",
      " 'black, native american, indian, other'\n",
      " 'native american, hispanic / latin, white, other'\n",
      " 'black, native american, other' 'asian, other'\n",
      " 'middle eastern, hispanic / latin, other'\n",
      " 'pacific islander, hispanic / latin, white, other'\n",
      " 'asian, black, hispanic / latin'\n",
      " 'asian, pacific islander, hispanic / latin, white'\n",
      " 'asian, black, native american, white'\n",
      " 'asian, middle eastern, white, other'\n",
      " 'native american, pacific islander, hispanic / latin'\n",
      " 'asian, native american, white'\n",
      " 'native american, pacific islander, hispanic / latin, white, other'\n",
      " 'indian, pacific islander' 'asian, middle eastern, black'\n",
      " 'asian, middle eastern, indian' 'asian, middle eastern, white'\n",
      " 'pacific islander, white, other'\n",
      " 'black, pacific islander, hispanic / latin' 'asian, middle eastern'\n",
      " 'asian, hispanic / latin, other'\n",
      " 'middle eastern, black, native american, indian, white, other'\n",
      " 'middle eastern, pacific islander, other' 'middle eastern, black'\n",
      " 'asian, indian, pacific islander'\n",
      " 'black, native american, pacific islander' 'native american, indian'\n",
      " 'asian, middle eastern, black, native american, indian, pacific islander, hispanic / latin, white'\n",
      " 'black, indian, other'\n",
      " 'asian, middle eastern, indian, hispanic / latin, white, other'\n",
      " 'middle eastern, black, white' 'asian, hispanic / latin, white, other'\n",
      " 'native american, hispanic / latin, other'\n",
      " 'middle eastern, black, pacific islander, white'\n",
      " 'asian, black, native american, hispanic / latin'\n",
      " 'native american, other' 'black, indian, white'\n",
      " 'asian, native american, hispanic / latin, white'\n",
      " 'black, native american, indian, white'\n",
      " 'middle eastern, black, indian, pacific islander, hispanic / latin, white'\n",
      " 'middle eastern, hispanic / latin, white, other'\n",
      " 'asian, black, native american, other'\n",
      " 'native american, pacific islander, hispanic / latin, white'\n",
      " 'asian, indian, other'\n",
      " 'middle eastern, native american, hispanic / latin, white, other'\n",
      " 'asian, middle eastern, black, pacific islander, hispanic / latin, white'\n",
      " 'black, native american, pacific islander, hispanic / latin, white, other'\n",
      " 'asian, middle eastern, native american, hispanic / latin, white'\n",
      " 'asian, middle eastern, black, native american, pacific islander, hispanic / latin, white, other'\n",
      " 'asian, indian, white' 'native american, pacific islander, white, other'\n",
      " 'middle eastern, black, native american, indian, pacific islander, hispanic / latin, white'\n",
      " 'asian, middle eastern, other' 'middle eastern, pacific islander'\n",
      " 'asian, black, hispanic / latin, other'\n",
      " 'asian, middle eastern, black, native american, hispanic / latin, white'\n",
      " 'middle eastern, black, hispanic / latin'\n",
      " 'black, pacific islander, white'\n",
      " 'asian, middle eastern, black, native american, indian, pacific islander, hispanic / latin, other'\n",
      " 'middle eastern, black, native american, indian, hispanic / latin, white'\n",
      " 'asian, pacific islander, hispanic / latin, white, other'\n",
      " 'middle eastern, indian, white' 'asian, indian, white, other'\n",
      " 'middle eastern, black, native american, white, other'\n",
      " 'black, native american, pacific islander, other'\n",
      " 'middle eastern, black, native american, white'\n",
      " 'asian, indian, pacific islander, other'\n",
      " 'asian, black, native american, white, other'\n",
      " 'black, indian, hispanic / latin, white'\n",
      " 'asian, middle eastern, black, native american, indian, pacific islander, white'\n",
      " 'asian, black, pacific islander, hispanic / latin'\n",
      " 'middle eastern, black, native american, indian, pacific islander, hispanic / latin, white, other'\n",
      " 'asian, black, native american, indian'\n",
      " 'asian, black, indian, hispanic / latin, other'\n",
      " 'indian, hispanic / latin, other' 'asian, indian, hispanic / latin'\n",
      " 'asian, native american, pacific islander, white, other'\n",
      " 'asian, black, native american, indian, hispanic / latin, white, other'\n",
      " 'asian, indian, hispanic / latin, white'\n",
      " 'pacific islander, hispanic / latin, other'\n",
      " 'asian, indian, pacific islander, hispanic / latin, white, other'\n",
      " 'indian, hispanic / latin, white'\n",
      " 'asian, native american, pacific islander, hispanic / latin, white, other'\n",
      " 'asian, pacific islander, hispanic / latin, other'\n",
      " 'asian, black, hispanic / latin, white, other'\n",
      " 'black, indian, hispanic / latin'\n",
      " 'middle eastern, black, native american, hispanic / latin, white'\n",
      " 'black, pacific islander, other'\n",
      " 'black, native american, pacific islander, white'\n",
      " 'asian, black, native american, pacific islander'\n",
      " 'asian, indian, hispanic / latin, other'\n",
      " 'middle eastern, native american'\n",
      " 'middle eastern, native american, hispanic / latin'\n",
      " 'black, hispanic / latin, white, other'\n",
      " 'asian, native american, pacific islander, hispanic / latin, white'\n",
      " 'asian, native american, hispanic / latin'\n",
      " 'black, native american, indian, hispanic / latin, white, other'\n",
      " 'asian, middle eastern, hispanic / latin, white'\n",
      " 'black, native american, pacific islander, white, other'\n",
      " 'native american, indian, pacific islander, hispanic / latin'\n",
      " 'black, indian, white, other'\n",
      " 'asian, middle eastern, native american, pacific islander, hispanic / latin, white, other'\n",
      " 'native american, pacific islander, white'\n",
      " 'middle eastern, indian, white, other' 'asian, black, white, other'\n",
      " 'middle eastern, native american, hispanic / latin, white'\n",
      " 'indian, hispanic / latin, white, other'\n",
      " 'asian, middle eastern, black, pacific islander'\n",
      " 'asian, middle eastern, black, indian, pacific islander, hispanic / latin, white'\n",
      " 'asian, middle eastern, indian, other'\n",
      " 'asian, middle eastern, black, white, other'\n",
      " 'black, native american, pacific islander, hispanic / latin, white'\n",
      " 'black, native american, indian, pacific islander, hispanic / latin'\n",
      " 'asian, black, pacific islander, white'\n",
      " 'middle eastern, pacific islander, hispanic / latin'\n",
      " 'black, native american, indian, white, other'\n",
      " 'asian, black, hispanic / latin, white'\n",
      " 'asian, black, native american, indian, pacific islander, white'\n",
      " 'asian, black, native american, indian, pacific islander, hispanic / latin'\n",
      " 'asian, middle eastern, hispanic / latin, white, other'\n",
      " 'middle eastern, black, native american, indian'\n",
      " 'asian, native american, pacific islander'\n",
      " 'asian, black, native american, pacific islander, white, other'\n",
      " 'asian, middle eastern, hispanic / latin'\n",
      " 'asian, black, pacific islander, other'\n",
      " 'asian, native american, indian, pacific islander, hispanic / latin, white'\n",
      " 'middle eastern, native american, white, other'\n",
      " 'asian, native american, hispanic / latin, other'\n",
      " 'native american, indian, white'\n",
      " 'black, native american, pacific islander, hispanic / latin'\n",
      " 'asian, native american, pacific islander, white'\n",
      " 'black, native american, indian'\n",
      " 'indian, pacific islander, hispanic / latin, white'\n",
      " 'asian, middle eastern, black, native american, indian, pacific islander, hispanic / latin'\n",
      " 'asian, middle eastern, indian, hispanic / latin'\n",
      " 'asian, middle eastern, native american, pacific islander, other'\n",
      " 'black, native american, indian, pacific islander'\n",
      " 'asian, middle eastern, native american, pacific islander, white, other'\n",
      " 'asian, native american, other' 'middle eastern, black, other'\n",
      " 'asian, black, pacific islander, hispanic / latin, white'\n",
      " 'asian, middle eastern, native american, indian, pacific islander, hispanic / latin, white'\n",
      " 'asian, native american, indian, pacific islander, hispanic / latin, white, other'\n",
      " 'asian, middle eastern, black, pacific islander, hispanic / latin'\n",
      " 'asian, black, pacific islander, white, other' 'asian, black, indian']\n"
     ]
    }
   ],
   "source": [
    "print(df.ethnicity.unique())"
   ]
  },
  {
   "cell_type": "code",
   "execution_count": 26,
   "metadata": {},
   "outputs": [
    {
     "data": {
      "text/plain": [
       "2012-06-29-22-56    24\n",
       "2012-06-30-21-51    23\n",
       "2012-06-30-22-09    23\n",
       "2012-06-30-22-56    23\n",
       "2012-06-30-23-27    23\n",
       "                    ..\n",
       "2011-08-23-23-25     1\n",
       "2011-11-14-20-18     1\n",
       "2012-05-07-18-14     1\n",
       "2012-05-31-19-01     1\n",
       "2012-06-14-16-51     1\n",
       "Name: last_online, Length: 30123, dtype: int64"
      ]
     },
     "execution_count": 26,
     "metadata": {},
     "output_type": "execute_result"
    }
   ],
   "source": [
    "df.last_online.value_counts()"
   ]
  },
  {
   "cell_type": "code",
   "execution_count": 27,
   "metadata": {},
   "outputs": [
    {
     "data": {
      "text/plain": [
       "straight    51606\n",
       "gay          5573\n",
       "bisexual     2767\n",
       "Name: orientation, dtype: int64"
      ]
     },
     "execution_count": 27,
     "metadata": {},
     "output_type": "execute_result"
    }
   ],
   "source": [
    "df.orientation.value_counts()"
   ]
  },
  {
   "cell_type": "code",
   "execution_count": null,
   "metadata": {},
   "outputs": [],
   "source": [
    "print(sorted(df.location.unique()))"
   ]
  },
  {
   "cell_type": "code",
   "execution_count": 28,
   "metadata": {},
   "outputs": [
    {
     "data": {
      "text/plain": [
       "single            55697\n",
       "seeing someone     2064\n",
       "available          1865\n",
       "married             310\n",
       "unknown              10\n",
       "Name: status, dtype: int64"
      ]
     },
     "execution_count": 28,
     "metadata": {},
     "output_type": "execute_result"
    }
   ],
   "source": [
    "df.status.value_counts()"
   ]
  },
  {
   "cell_type": "code",
   "execution_count": 14,
   "metadata": {},
   "outputs": [
    {
     "data": {
      "text/plain": [
       "no                43896\n",
       "sometimes          3787\n",
       "when drinking      3040\n",
       "yes                2231\n",
       "trying to quit     1480\n",
       "Name: smokes, dtype: int64"
      ]
     },
     "execution_count": 14,
     "metadata": {},
     "output_type": "execute_result"
    }
   ],
   "source": [
    "df.smokes.value_counts()"
   ]
  },
  {
   "cell_type": "code",
   "execution_count": 16,
   "metadata": {},
   "outputs": [
    {
     "data": {
      "text/plain": [
       "never        37724\n",
       "sometimes     7732\n",
       "often          410\n",
       "Name: drugs, dtype: int64"
      ]
     },
     "execution_count": 16,
     "metadata": {},
     "output_type": "execute_result"
    }
   ],
   "source": [
    "df.drugs.value_counts()"
   ]
  },
  {
   "cell_type": "code",
   "execution_count": 45,
   "metadata": {},
   "outputs": [
    {
     "data": {
      "text/plain": [
       "agnosticism                                   2724\n",
       "other                                         2691\n",
       "agnosticism but not too serious about it      2636\n",
       "agnosticism and laughing about it             2496\n",
       "catholicism but not too serious about it      2318\n",
       "atheism                                       2175\n",
       "other and laughing about it                   2119\n",
       "atheism and laughing about it                 2074\n",
       "christianity                                  1957\n",
       "christianity but not too serious about it     1952\n",
       "other but not too serious about it            1554\n",
       "judaism but not too serious about it          1517\n",
       "atheism but not too serious about it          1318\n",
       "catholicism                                   1064\n",
       "christianity and somewhat serious about it     927\n",
       "atheism and somewhat serious about it          848\n",
       "other and somewhat serious about it            846\n",
       "catholicism and laughing about it              726\n",
       "judaism and laughing about it                  681\n",
       "buddhism but not too serious about it          650\n",
       "agnosticism and somewhat serious about it      642\n",
       "judaism                                        612\n",
       "christianity and very serious about it         578\n",
       "atheism and very serious about it              570\n",
       "catholicism and somewhat serious about it      548\n",
       "other and very serious about it                533\n",
       "buddhism and laughing about it                 466\n",
       "buddhism                                       403\n",
       "christianity and laughing about it             373\n",
       "buddhism and somewhat serious about it         359\n",
       "agnosticism and very serious about it          314\n",
       "judaism and somewhat serious about it          266\n",
       "hinduism but not too serious about it          227\n",
       "hinduism                                       107\n",
       "catholicism and very serious about it          102\n",
       "buddhism and very serious about it              70\n",
       "hinduism and somewhat serious about it          58\n",
       "islam                                           48\n",
       "hinduism and laughing about it                  44\n",
       "islam but not too serious about it              40\n",
       "judaism and very serious about it               22\n",
       "islam and somewhat serious about it             22\n",
       "islam and laughing about it                     16\n",
       "hinduism and very serious about it              14\n",
       "islam and very serious about it                 13\n",
       "Name: religion, dtype: int64"
      ]
     },
     "execution_count": 45,
     "metadata": {},
     "output_type": "execute_result"
    }
   ],
   "source": [
    "df.religion.value_counts()"
   ]
  },
  {
   "cell_type": "code",
   "execution_count": null,
   "metadata": {},
   "outputs": [],
   "source": []
  }
 ],
 "metadata": {
  "kernelspec": {
   "display_name": "Python 3 (ipykernel)",
   "language": "python",
   "name": "python3"
  },
  "language_info": {
   "codemirror_mode": {
    "name": "ipython",
    "version": 3
   },
   "file_extension": ".py",
   "mimetype": "text/x-python",
   "name": "python",
   "nbconvert_exporter": "python",
   "pygments_lexer": "ipython3",
   "version": "3.9.12"
  }
 },
 "nbformat": 4,
 "nbformat_minor": 4
}
